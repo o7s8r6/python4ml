{
 "cells": [
  {
   "cell_type": "markdown",
   "metadata": {},
   "source": [
    "# Export video"
   ]
  },
  {
   "cell_type": "code",
   "execution_count": 1,
   "metadata": {},
   "outputs": [],
   "source": [
    "# ! python -m pip install imageio-ffmpeg"
   ]
  },
  {
   "cell_type": "code",
   "execution_count": 2,
   "metadata": {},
   "outputs": [],
   "source": [
    "path = \"/Users/salvor/Downloads/D76058971_1_20191218T213642Z_20191218T215113Z.mp4\""
   ]
  },
  {
   "cell_type": "code",
   "execution_count": 3,
   "metadata": {},
   "outputs": [],
   "source": [
    "from pathlib import Path\n",
    "from datetime import datetime,timedelta\n",
    "import imageio\n",
    "from PIL import Image"
   ]
  },
  {
   "cell_type": "code",
   "execution_count": 4,
   "metadata": {},
   "outputs": [],
   "source": [
    "path = Path(path)"
   ]
  },
  {
   "cell_type": "code",
   "execution_count": 5,
   "metadata": {},
   "outputs": [],
   "source": [
    "def parseTime(x):\n",
    "    return datetime.strptime(x,\"%Y%m%dT%H%M%SZ\")"
   ]
  },
  {
   "cell_type": "code",
   "execution_count": 6,
   "metadata": {},
   "outputs": [],
   "source": [
    "def parseName(x):\n",
    "    str_list = x.split(\".\")[0].split(\"_\")\n",
    "    foldername = \"img_%s_%s\"%(str_list[2],str_list[3])\n",
    "    start_time = parseTime(str_list[2])\n",
    "    end_time = parseTime(str_list[3])\n",
    "    return start_time,end_time,foldername"
   ]
  },
  {
   "cell_type": "code",
   "execution_count": 7,
   "metadata": {},
   "outputs": [],
   "source": [
    "start_time,end_time, foldername = parseName(path.name)"
   ]
  },
  {
   "cell_type": "code",
   "execution_count": 8,
   "metadata": {},
   "outputs": [],
   "source": [
    "vid = imageio.get_reader(path, \"ffmpeg\")"
   ]
  },
  {
   "cell_type": "code",
   "execution_count": 9,
   "metadata": {},
   "outputs": [
    {
     "data": {
      "text/plain": [
       "{'plugin': 'ffmpeg',\n",
       " 'nframes': inf,\n",
       " 'ffmpeg_version': '4.1-tessus  https://evermeet.cx/ffmpeg/ built with Apple LLVM version 10.0.0 (clang-1000.11.45.5)',\n",
       " 'codec': 'hevc',\n",
       " 'pix_fmt': 'yuvj420p(pc',\n",
       " 'fps': 25.0,\n",
       " 'source_size': (1920, 1080),\n",
       " 'size': (1920, 1080),\n",
       " 'duration': 870.18}"
      ]
     },
     "execution_count": 9,
     "metadata": {},
     "output_type": "execute_result"
    }
   ],
   "source": [
    "meta = vid.get_meta_data()\n",
    "meta"
   ]
  },
  {
   "cell_type": "code",
   "execution_count": 10,
   "metadata": {},
   "outputs": [],
   "source": [
    "from math import floor"
   ]
  },
  {
   "cell_type": "code",
   "execution_count": 11,
   "metadata": {},
   "outputs": [],
   "source": [
    "fps = int(meta[\"fps\"])"
   ]
  },
  {
   "cell_type": "code",
   "execution_count": 12,
   "metadata": {},
   "outputs": [],
   "source": [
    "img = Image.fromarray(vid.get_data(fps),)"
   ]
  },
  {
   "cell_type": "code",
   "execution_count": 13,
   "metadata": {},
   "outputs": [
    {
     "name": "stdout",
     "output_type": "stream",
     "text": [
      "/Users/salvor/Downloads/img_20191218T213642Z_20191218T215113Z\n"
     ]
    }
   ],
   "source": [
    "SAVE = path.parent/foldername\n",
    "print(SAVE)"
   ]
  },
  {
   "cell_type": "code",
   "execution_count": 14,
   "metadata": {},
   "outputs": [
    {
     "data": {
      "text/plain": [
       "0"
      ]
     },
     "execution_count": 14,
     "metadata": {},
     "output_type": "execute_result"
    }
   ],
   "source": [
    "import os\n",
    "os.system(\"mkdir -p %s\"%(SAVE))"
   ]
  },
  {
   "cell_type": "code",
   "execution_count": 15,
   "metadata": {},
   "outputs": [],
   "source": [
    "from tqdm import trange"
   ]
  },
  {
   "cell_type": "code",
   "execution_count": 16,
   "metadata": {},
   "outputs": [
    {
     "name": "stderr",
     "output_type": "stream",
     "text": [
      "100%|██████████| 870/870 [01:51<00:00,  7.82it/s]\n"
     ]
    }
   ],
   "source": [
    "for i in trange(floor(meta[\"duration\"])):\n",
    "    arr = vid.get_data(int(i*fps))\n",
    "    img = Image.fromarray(arr)\n",
    "    img = img.resize((512,288))\n",
    "    filename = (start_time+timedelta(seconds=i)).strftime(\"%Y%m%dT%H%M%S.jpg\")\n",
    "    img.save(SAVE/filename, format = \"JPEG\", quality = 40)"
   ]
  },
  {
   "cell_type": "code",
   "execution_count": 19,
   "metadata": {},
   "outputs": [
    {
     "name": "stdout",
     "output_type": "stream",
     "text": [
      "Video file [/Users/salvor/Downloads/D76058971_1_20191218T213642Z_20191218T215113Z.mp4] \n",
      "saved to image dir [/Users/salvor/Downloads/img_20191218T213642Z_20191218T215113Z]\n"
     ]
    }
   ],
   "source": [
    "print(f\"Video file [{path}] \\nsaved to image dir [{SAVE}]\")"
   ]
  },
  {
   "cell_type": "code",
   "execution_count": null,
   "metadata": {},
   "outputs": [],
   "source": []
  }
 ],
 "metadata": {
  "kernelspec": {
   "display_name": "Python 3",
   "language": "python",
   "name": "python3"
  },
  "language_info": {
   "codemirror_mode": {
    "name": "ipython",
    "version": 3
   },
   "file_extension": ".py",
   "mimetype": "text/x-python",
   "name": "python",
   "nbconvert_exporter": "python",
   "pygments_lexer": "ipython3",
   "version": "3.7.4"
  }
 },
 "nbformat": 4,
 "nbformat_minor": 2
}
