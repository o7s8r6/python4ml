{
 "cells": [
  {
   "cell_type": "markdown",
   "metadata": {},
   "source": [
    "### Inherit Class Name"
   ]
  },
  {
   "cell_type": "code",
   "execution_count": 1,
   "metadata": {},
   "outputs": [],
   "source": [
    "from datetime import datetime\n",
    "class Vadar:\n",
    "    def __init__(self):\n",
    "        self.born = datetime.now()\n",
    "        \n",
    "    def __repr__(self):\n",
    "        return f\"😃My name is {self.name}😄\"\n",
    "    \n",
    "    @property\n",
    "    def name(self):\n",
    "        _,title = self.print_parent(self.__class__, title=self.__class__.__name__)\n",
    "        return title\n",
    "    \n",
    "    def print_parent(self, cls, title = \"\"):\n",
    "        if len(cls.__bases__)>0:            \n",
    "            title+=f\",👑child of {cls.__bases__[0].__name__}\"\n",
    "            return self.print_parent(cls.__bases__[0],title)\n",
    "        else:\n",
    "            return cls, title\n",
    "\n",
    "class Luke(Vadar):\n",
    "    def __init__(self):\n",
    "        super().__init__()\n",
    "        \n",
    "class Laia(Vadar):\n",
    "    def __init__(self):\n",
    "        super().__init__()\n",
    "        \n",
    "class Kylo(Laia):\n",
    "    def __init__(self):\n",
    "        super().__init__()"
   ]
  },
  {
   "cell_type": "code",
   "execution_count": 2,
   "metadata": {},
   "outputs": [
    {
     "data": {
      "text/plain": [
       "😃My name is Luke,👑child of Vadar,👑child of object😄"
      ]
     },
     "execution_count": 2,
     "metadata": {},
     "output_type": "execute_result"
    }
   ],
   "source": [
    "Luke()"
   ]
  },
  {
   "cell_type": "code",
   "execution_count": 3,
   "metadata": {},
   "outputs": [
    {
     "data": {
      "text/plain": [
       "😃My name is Kylo,👑child of Laia,👑child of Vadar,👑child of object😄"
      ]
     },
     "execution_count": 3,
     "metadata": {},
     "output_type": "execute_result"
    }
   ],
   "source": [
    "Kylo()"
   ]
  },
  {
   "cell_type": "code",
   "execution_count": null,
   "metadata": {},
   "outputs": [],
   "source": []
  }
 ],
 "metadata": {
  "kernelspec": {
   "display_name": "Python 3",
   "language": "python",
   "name": "python3"
  },
  "language_info": {
   "codemirror_mode": {
    "name": "ipython",
    "version": 3
   },
   "file_extension": ".py",
   "mimetype": "text/x-python",
   "name": "python",
   "nbconvert_exporter": "python",
   "pygments_lexer": "ipython3",
   "version": "3.7.4"
  }
 },
 "nbformat": 4,
 "nbformat_minor": 4
}
