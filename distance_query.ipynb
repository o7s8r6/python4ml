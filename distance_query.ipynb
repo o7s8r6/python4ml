{
 "cells": [
  {
   "cell_type": "markdown",
   "metadata": {},
   "source": [
    "# A simple way to query among vectors\n",
    "### To find the object with closest distance"
   ]
  },
  {
   "cell_type": "code",
   "execution_count": 15,
   "metadata": {},
   "outputs": [],
   "source": [
    "import numpy as np"
   ]
  },
  {
   "cell_type": "markdown",
   "metadata": {},
   "source": [
    "Sample vectors"
   ]
  },
  {
   "cell_type": "code",
   "execution_count": 2,
   "metadata": {},
   "outputs": [],
   "source": [
    "doc_vecs = np.random.rand(100,50)"
   ]
  },
  {
   "cell_type": "markdown",
   "metadata": {},
   "source": [
    "Sample query"
   ]
  },
  {
   "cell_type": "code",
   "execution_count": 5,
   "metadata": {},
   "outputs": [],
   "source": [
    "q_vec = doc_vecs[20]"
   ]
  },
  {
   "cell_type": "markdown",
   "metadata": {},
   "source": [
    "Qeuey mothod \n",
    "\n",
    "```python\n",
    "np.sum(q_vec* doc_vecs,axis=1)/np.linalg.norm(doc_vecs,axis=1)\n",
    "```\n",
    "\n",
    "### 1 interpretation\n",
    "* **Dot product**: Elements of the same position within 2 vectors, if they are same direction, dot product will intend to stay positive, upon that, if the abs value is close, the dot product will intend to be bigger\n",
    "* **Regularize by the norm**: It will discount the magnitude of original vector\n",
    "\n",
    "### Another interpretation\n",
    "* This is exactly consine distance\n",
    "\n",
    "$\\large{\n",
    "Similarity = cos(\\theta) \n",
    "= \\frac{A.B}{\\left\\lVert A \\right\\rVert \\left\\lVert B \\right\\rVert} \n",
    "= \\frac{\\sum_{i=1}^{n} A_{i}B_{i}}\n",
    "        {\n",
    "            \\sqrt{\\sum_{i=1}^{n}A_{i}^{2}}\n",
    "            \\sqrt{\\sum_{i=1}^{n}B_{i}^{2}}\n",
    "        }\n",
    "}\n",
    "$\n",
    "* In this case, we don't have to regularize by the norm of query vector, since, "
   ]
  },
  {
   "cell_type": "markdown",
   "metadata": {},
   "source": [
    "### Query experiment"
   ]
  },
  {
   "cell_type": "code",
   "execution_count": 12,
   "metadata": {},
   "outputs": [],
   "source": [
    "score = np.sum(q_vec* doc_vecs,axis=1)/np.linalg.norm(doc_vecs,axis=1)"
   ]
  },
  {
   "cell_type": "code",
   "execution_count": 16,
   "metadata": {},
   "outputs": [
    {
     "data": {
      "text/plain": [
       "array([20, 19, 14, 78, 24, 28, 25, 35, 61, 34, 66, 81,  2, 18, 33, 53, 87,\n",
       "        9, 48, 43, 98, 49, 93, 46, 88, 71, 83, 74, 30, 13, 73, 86, 29, 89,\n",
       "       44, 11, 47,  6, 21, 80, 38, 94, 64, 59,  1, 50,  7, 45, 31, 85, 23,\n",
       "       95, 42, 52, 84, 69, 55,  0, 57, 68, 40, 10, 90, 26, 58, 92,  8, 17,\n",
       "       32, 12, 56, 15, 22, 41, 63, 97,  3, 16, 65, 82, 51, 77, 75, 36, 91,\n",
       "       72, 67, 99, 27, 79, 62,  4, 39,  5, 70, 96, 60, 37, 76, 54])"
      ]
     },
     "execution_count": 16,
     "metadata": {},
     "output_type": "execute_result"
    }
   ],
   "source": [
    "np.argsort(score)[::-1]"
   ]
  }
 ],
 "metadata": {
  "kernelspec": {
   "display_name": "Python 3",
   "language": "python",
   "name": "python3"
  },
  "language_info": {
   "codemirror_mode": {
    "name": "ipython",
    "version": 3
   },
   "file_extension": ".py",
   "mimetype": "text/x-python",
   "name": "python",
   "nbconvert_exporter": "python",
   "pygments_lexer": "ipython3",
   "version": "3.7.4"
  }
 },
 "nbformat": 4,
 "nbformat_minor": 2
}
