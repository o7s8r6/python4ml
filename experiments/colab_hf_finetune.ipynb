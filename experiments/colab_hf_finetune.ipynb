{
  "nbformat": 4,
  "nbformat_minor": 0,
  "metadata": {
    "colab": {
      "name": "finetune_transformer_on_pubmed.ipynb",
      "provenance": [],
      "collapsed_sections": [],
      "authorship_tag": "ABX9TyOxvQwjWfxsxLiOR1JubX2F",
      "include_colab_link": true
    },
    "kernelspec": {
      "name": "python3",
      "display_name": "Python 3"
    },
    "accelerator": "GPU",
    "widgets": {
      "application/vnd.jupyter.widget-state+json": {
        "be68206fe62f437e8df66e926ac7f647": {
          "model_module": "@jupyter-widgets/controls",
          "model_name": "HBoxModel",
          "state": {
            "_view_name": "HBoxView",
            "_dom_classes": [],
            "_model_name": "HBoxModel",
            "_view_module": "@jupyter-widgets/controls",
            "_model_module_version": "1.5.0",
            "_view_count": null,
            "_view_module_version": "1.5.0",
            "box_style": "",
            "layout": "IPY_MODEL_860c59338adc401fab8ca60e87d1d42a",
            "_model_module": "@jupyter-widgets/controls",
            "children": [
              "IPY_MODEL_22aa6c00225648da93b3948379abe59d",
              "IPY_MODEL_aeb2152fe1a54594acda6227d6c3d8d4"
            ]
          }
        },
        "860c59338adc401fab8ca60e87d1d42a": {
          "model_module": "@jupyter-widgets/base",
          "model_name": "LayoutModel",
          "state": {
            "_view_name": "LayoutView",
            "grid_template_rows": null,
            "right": null,
            "justify_content": null,
            "_view_module": "@jupyter-widgets/base",
            "overflow": null,
            "_model_module_version": "1.2.0",
            "_view_count": null,
            "flex_flow": null,
            "width": null,
            "min_width": null,
            "border": null,
            "align_items": null,
            "bottom": null,
            "_model_module": "@jupyter-widgets/base",
            "top": null,
            "grid_column": null,
            "overflow_y": null,
            "overflow_x": null,
            "grid_auto_flow": null,
            "grid_area": null,
            "grid_template_columns": null,
            "flex": null,
            "_model_name": "LayoutModel",
            "justify_items": null,
            "grid_row": null,
            "max_height": null,
            "align_content": null,
            "visibility": null,
            "align_self": null,
            "height": null,
            "min_height": null,
            "padding": null,
            "grid_auto_rows": null,
            "grid_gap": null,
            "max_width": null,
            "order": null,
            "_view_module_version": "1.2.0",
            "grid_template_areas": null,
            "object_position": null,
            "object_fit": null,
            "grid_auto_columns": null,
            "margin": null,
            "display": null,
            "left": null
          }
        },
        "22aa6c00225648da93b3948379abe59d": {
          "model_module": "@jupyter-widgets/controls",
          "model_name": "IntProgressModel",
          "state": {
            "_view_name": "ProgressView",
            "style": "IPY_MODEL_a37eeef3cde44c568481f9252327338e",
            "_dom_classes": [],
            "description": "Downloading: 100%",
            "_model_name": "IntProgressModel",
            "bar_style": "success",
            "max": 1042301,
            "_view_module": "@jupyter-widgets/controls",
            "_model_module_version": "1.5.0",
            "value": 1042301,
            "_view_count": null,
            "_view_module_version": "1.5.0",
            "orientation": "horizontal",
            "min": 0,
            "description_tooltip": null,
            "_model_module": "@jupyter-widgets/controls",
            "layout": "IPY_MODEL_fbfcae2903464b6c8c57e72480a2915d"
          }
        },
        "aeb2152fe1a54594acda6227d6c3d8d4": {
          "model_module": "@jupyter-widgets/controls",
          "model_name": "HTMLModel",
          "state": {
            "_view_name": "HTMLView",
            "style": "IPY_MODEL_19d85c85dabe4f129624734825872b07",
            "_dom_classes": [],
            "description": "",
            "_model_name": "HTMLModel",
            "placeholder": "​",
            "_view_module": "@jupyter-widgets/controls",
            "_model_module_version": "1.5.0",
            "value": " 1.04M/1.04M [00:04&lt;00:00, 248kB/s]",
            "_view_count": null,
            "_view_module_version": "1.5.0",
            "description_tooltip": null,
            "_model_module": "@jupyter-widgets/controls",
            "layout": "IPY_MODEL_4de93c276c8242cc92ee321b6d83c9b8"
          }
        },
        "a37eeef3cde44c568481f9252327338e": {
          "model_module": "@jupyter-widgets/controls",
          "model_name": "ProgressStyleModel",
          "state": {
            "_view_name": "StyleView",
            "_model_name": "ProgressStyleModel",
            "description_width": "initial",
            "_view_module": "@jupyter-widgets/base",
            "_model_module_version": "1.5.0",
            "_view_count": null,
            "_view_module_version": "1.2.0",
            "bar_color": null,
            "_model_module": "@jupyter-widgets/controls"
          }
        },
        "fbfcae2903464b6c8c57e72480a2915d": {
          "model_module": "@jupyter-widgets/base",
          "model_name": "LayoutModel",
          "state": {
            "_view_name": "LayoutView",
            "grid_template_rows": null,
            "right": null,
            "justify_content": null,
            "_view_module": "@jupyter-widgets/base",
            "overflow": null,
            "_model_module_version": "1.2.0",
            "_view_count": null,
            "flex_flow": null,
            "width": null,
            "min_width": null,
            "border": null,
            "align_items": null,
            "bottom": null,
            "_model_module": "@jupyter-widgets/base",
            "top": null,
            "grid_column": null,
            "overflow_y": null,
            "overflow_x": null,
            "grid_auto_flow": null,
            "grid_area": null,
            "grid_template_columns": null,
            "flex": null,
            "_model_name": "LayoutModel",
            "justify_items": null,
            "grid_row": null,
            "max_height": null,
            "align_content": null,
            "visibility": null,
            "align_self": null,
            "height": null,
            "min_height": null,
            "padding": null,
            "grid_auto_rows": null,
            "grid_gap": null,
            "max_width": null,
            "order": null,
            "_view_module_version": "1.2.0",
            "grid_template_areas": null,
            "object_position": null,
            "object_fit": null,
            "grid_auto_columns": null,
            "margin": null,
            "display": null,
            "left": null
          }
        },
        "19d85c85dabe4f129624734825872b07": {
          "model_module": "@jupyter-widgets/controls",
          "model_name": "DescriptionStyleModel",
          "state": {
            "_view_name": "StyleView",
            "_model_name": "DescriptionStyleModel",
            "description_width": "",
            "_view_module": "@jupyter-widgets/base",
            "_model_module_version": "1.5.0",
            "_view_count": null,
            "_view_module_version": "1.2.0",
            "_model_module": "@jupyter-widgets/controls"
          }
        },
        "4de93c276c8242cc92ee321b6d83c9b8": {
          "model_module": "@jupyter-widgets/base",
          "model_name": "LayoutModel",
          "state": {
            "_view_name": "LayoutView",
            "grid_template_rows": null,
            "right": null,
            "justify_content": null,
            "_view_module": "@jupyter-widgets/base",
            "overflow": null,
            "_model_module_version": "1.2.0",
            "_view_count": null,
            "flex_flow": null,
            "width": null,
            "min_width": null,
            "border": null,
            "align_items": null,
            "bottom": null,
            "_model_module": "@jupyter-widgets/base",
            "top": null,
            "grid_column": null,
            "overflow_y": null,
            "overflow_x": null,
            "grid_auto_flow": null,
            "grid_area": null,
            "grid_template_columns": null,
            "flex": null,
            "_model_name": "LayoutModel",
            "justify_items": null,
            "grid_row": null,
            "max_height": null,
            "align_content": null,
            "visibility": null,
            "align_self": null,
            "height": null,
            "min_height": null,
            "padding": null,
            "grid_auto_rows": null,
            "grid_gap": null,
            "max_width": null,
            "order": null,
            "_view_module_version": "1.2.0",
            "grid_template_areas": null,
            "object_position": null,
            "object_fit": null,
            "grid_auto_columns": null,
            "margin": null,
            "display": null,
            "left": null
          }
        },
        "9fd7a8e420d84f59b7a9c34464f8ab3c": {
          "model_module": "@jupyter-widgets/controls",
          "model_name": "HBoxModel",
          "state": {
            "_view_name": "HBoxView",
            "_dom_classes": [],
            "_model_name": "HBoxModel",
            "_view_module": "@jupyter-widgets/controls",
            "_model_module_version": "1.5.0",
            "_view_count": null,
            "_view_module_version": "1.5.0",
            "box_style": "",
            "layout": "IPY_MODEL_37b5a409b2d94061bec026e3c42a2da3",
            "_model_module": "@jupyter-widgets/controls",
            "children": [
              "IPY_MODEL_ed95c9a7c7c7425ea94ec1b25a4e8b9e",
              "IPY_MODEL_74a58077048b4dfba6c513f5e2de3b6e"
            ]
          }
        },
        "37b5a409b2d94061bec026e3c42a2da3": {
          "model_module": "@jupyter-widgets/base",
          "model_name": "LayoutModel",
          "state": {
            "_view_name": "LayoutView",
            "grid_template_rows": null,
            "right": null,
            "justify_content": null,
            "_view_module": "@jupyter-widgets/base",
            "overflow": null,
            "_model_module_version": "1.2.0",
            "_view_count": null,
            "flex_flow": null,
            "width": null,
            "min_width": null,
            "border": null,
            "align_items": null,
            "bottom": null,
            "_model_module": "@jupyter-widgets/base",
            "top": null,
            "grid_column": null,
            "overflow_y": null,
            "overflow_x": null,
            "grid_auto_flow": null,
            "grid_area": null,
            "grid_template_columns": null,
            "flex": null,
            "_model_name": "LayoutModel",
            "justify_items": null,
            "grid_row": null,
            "max_height": null,
            "align_content": null,
            "visibility": null,
            "align_self": null,
            "height": null,
            "min_height": null,
            "padding": null,
            "grid_auto_rows": null,
            "grid_gap": null,
            "max_width": null,
            "order": null,
            "_view_module_version": "1.2.0",
            "grid_template_areas": null,
            "object_position": null,
            "object_fit": null,
            "grid_auto_columns": null,
            "margin": null,
            "display": null,
            "left": null
          }
        },
        "ed95c9a7c7c7425ea94ec1b25a4e8b9e": {
          "model_module": "@jupyter-widgets/controls",
          "model_name": "IntProgressModel",
          "state": {
            "_view_name": "ProgressView",
            "style": "IPY_MODEL_c804cb34f936440495857e8365c9e5fd",
            "_dom_classes": [],
            "description": "Downloading: 100%",
            "_model_name": "IntProgressModel",
            "bar_style": "success",
            "max": 456318,
            "_view_module": "@jupyter-widgets/controls",
            "_model_module_version": "1.5.0",
            "value": 456318,
            "_view_count": null,
            "_view_module_version": "1.5.0",
            "orientation": "horizontal",
            "min": 0,
            "description_tooltip": null,
            "_model_module": "@jupyter-widgets/controls",
            "layout": "IPY_MODEL_65c5becd5234474c8405da92d200fa5d"
          }
        },
        "74a58077048b4dfba6c513f5e2de3b6e": {
          "model_module": "@jupyter-widgets/controls",
          "model_name": "HTMLModel",
          "state": {
            "_view_name": "HTMLView",
            "style": "IPY_MODEL_8529f8a6cbeb4d3eb4296d6e4d495a59",
            "_dom_classes": [],
            "description": "",
            "_model_name": "HTMLModel",
            "placeholder": "​",
            "_view_module": "@jupyter-widgets/controls",
            "_model_module_version": "1.5.0",
            "value": " 456k/456k [00:01&lt;00:00, 407kB/s]",
            "_view_count": null,
            "_view_module_version": "1.5.0",
            "description_tooltip": null,
            "_model_module": "@jupyter-widgets/controls",
            "layout": "IPY_MODEL_57f11f5360fd46bc9e9987e86508775c"
          }
        },
        "c804cb34f936440495857e8365c9e5fd": {
          "model_module": "@jupyter-widgets/controls",
          "model_name": "ProgressStyleModel",
          "state": {
            "_view_name": "StyleView",
            "_model_name": "ProgressStyleModel",
            "description_width": "initial",
            "_view_module": "@jupyter-widgets/base",
            "_model_module_version": "1.5.0",
            "_view_count": null,
            "_view_module_version": "1.2.0",
            "bar_color": null,
            "_model_module": "@jupyter-widgets/controls"
          }
        },
        "65c5becd5234474c8405da92d200fa5d": {
          "model_module": "@jupyter-widgets/base",
          "model_name": "LayoutModel",
          "state": {
            "_view_name": "LayoutView",
            "grid_template_rows": null,
            "right": null,
            "justify_content": null,
            "_view_module": "@jupyter-widgets/base",
            "overflow": null,
            "_model_module_version": "1.2.0",
            "_view_count": null,
            "flex_flow": null,
            "width": null,
            "min_width": null,
            "border": null,
            "align_items": null,
            "bottom": null,
            "_model_module": "@jupyter-widgets/base",
            "top": null,
            "grid_column": null,
            "overflow_y": null,
            "overflow_x": null,
            "grid_auto_flow": null,
            "grid_area": null,
            "grid_template_columns": null,
            "flex": null,
            "_model_name": "LayoutModel",
            "justify_items": null,
            "grid_row": null,
            "max_height": null,
            "align_content": null,
            "visibility": null,
            "align_self": null,
            "height": null,
            "min_height": null,
            "padding": null,
            "grid_auto_rows": null,
            "grid_gap": null,
            "max_width": null,
            "order": null,
            "_view_module_version": "1.2.0",
            "grid_template_areas": null,
            "object_position": null,
            "object_fit": null,
            "grid_auto_columns": null,
            "margin": null,
            "display": null,
            "left": null
          }
        },
        "8529f8a6cbeb4d3eb4296d6e4d495a59": {
          "model_module": "@jupyter-widgets/controls",
          "model_name": "DescriptionStyleModel",
          "state": {
            "_view_name": "StyleView",
            "_model_name": "DescriptionStyleModel",
            "description_width": "",
            "_view_module": "@jupyter-widgets/base",
            "_model_module_version": "1.5.0",
            "_view_count": null,
            "_view_module_version": "1.2.0",
            "_model_module": "@jupyter-widgets/controls"
          }
        },
        "57f11f5360fd46bc9e9987e86508775c": {
          "model_module": "@jupyter-widgets/base",
          "model_name": "LayoutModel",
          "state": {
            "_view_name": "LayoutView",
            "grid_template_rows": null,
            "right": null,
            "justify_content": null,
            "_view_module": "@jupyter-widgets/base",
            "overflow": null,
            "_model_module_version": "1.2.0",
            "_view_count": null,
            "flex_flow": null,
            "width": null,
            "min_width": null,
            "border": null,
            "align_items": null,
            "bottom": null,
            "_model_module": "@jupyter-widgets/base",
            "top": null,
            "grid_column": null,
            "overflow_y": null,
            "overflow_x": null,
            "grid_auto_flow": null,
            "grid_area": null,
            "grid_template_columns": null,
            "flex": null,
            "_model_name": "LayoutModel",
            "justify_items": null,
            "grid_row": null,
            "max_height": null,
            "align_content": null,
            "visibility": null,
            "align_self": null,
            "height": null,
            "min_height": null,
            "padding": null,
            "grid_auto_rows": null,
            "grid_gap": null,
            "max_width": null,
            "order": null,
            "_view_module_version": "1.2.0",
            "grid_template_areas": null,
            "object_position": null,
            "object_fit": null,
            "grid_auto_columns": null,
            "margin": null,
            "display": null,
            "left": null
          }
        }
      }
    }
  },
  "cells": [
    {
      "cell_type": "markdown",
      "metadata": {
        "id": "view-in-github",
        "colab_type": "text"
      },
      "source": [
        "<a href=\"https://colab.research.google.com/github/raynardj/python4ml/blob/master/experiments/colab_hf_finetune.ipynb\" target=\"_parent\"><img src=\"https://colab.research.google.com/assets/colab-badge.svg\" alt=\"Open In Colab\"/></a>"
      ]
    },
    {
      "cell_type": "markdown",
      "metadata": {
        "id": "s3nev_GBWTad",
        "colab_type": "text"
      },
      "source": [
        "# Finetune transformer on pubmd"
      ]
    },
    {
      "cell_type": "code",
      "metadata": {
        "id": "EgZ-7FrlQ7rO",
        "colab_type": "code",
        "colab": {}
      },
      "source": [
        "import torch"
      ],
      "execution_count": 0,
      "outputs": []
    },
    {
      "cell_type": "markdown",
      "metadata": {
        "id": "RaagTufsXq_L",
        "colab_type": "text"
      },
      "source": [
        "We are finetuning using huggingface transformer\n",
        "* [github](https://github.com/huggingface/transformers)\n",
        "* [finetue guidance](https://github.com/huggingface/transformers)"
      ]
    },
    {
      "cell_type": "code",
      "metadata": {
        "id": "oWglVOq2Wl9K",
        "colab_type": "code",
        "colab": {
          "base_uri": "https://localhost:8080/",
          "height": 683
        },
        "outputId": "5be1a451-343f-4c95-8416-686e79e344fc"
      },
      "source": [
        "!pip install transformers"
      ],
      "execution_count": 2,
      "outputs": [
        {
          "output_type": "stream",
          "text": [
            "Collecting transformers\n",
            "\u001b[?25l  Downloading https://files.pythonhosted.org/packages/37/ba/dda44bbf35b071441635708a3dd568a5ca6bf29f77389f7c7c6818ae9498/transformers-2.7.0-py3-none-any.whl (544kB)\n",
            "\r\u001b[K     |▋                               | 10kB 24.1MB/s eta 0:00:01\r\u001b[K     |█▏                              | 20kB 32.7MB/s eta 0:00:01\r\u001b[K     |█▉                              | 30kB 39.7MB/s eta 0:00:01\r\u001b[K     |██▍                             | 40kB 45.2MB/s eta 0:00:01\r\u001b[K     |███                             | 51kB 37.1MB/s eta 0:00:01\r\u001b[K     |███▋                            | 61kB 40.1MB/s eta 0:00:01\r\u001b[K     |████▏                           | 71kB 31.3MB/s eta 0:00:01\r\u001b[K     |████▉                           | 81kB 32.9MB/s eta 0:00:01\r\u001b[K     |█████▍                          | 92kB 35.1MB/s eta 0:00:01\r\u001b[K     |██████                          | 102kB 32.5MB/s eta 0:00:01\r\u001b[K     |██████▋                         | 112kB 32.5MB/s eta 0:00:01\r\u001b[K     |███████▏                        | 122kB 32.5MB/s eta 0:00:01\r\u001b[K     |███████▉                        | 133kB 32.5MB/s eta 0:00:01\r\u001b[K     |████████▍                       | 143kB 32.5MB/s eta 0:00:01\r\u001b[K     |█████████                       | 153kB 32.5MB/s eta 0:00:01\r\u001b[K     |█████████▋                      | 163kB 32.5MB/s eta 0:00:01\r\u001b[K     |██████████▎                     | 174kB 32.5MB/s eta 0:00:01\r\u001b[K     |██████████▉                     | 184kB 32.5MB/s eta 0:00:01\r\u001b[K     |███████████▍                    | 194kB 32.5MB/s eta 0:00:01\r\u001b[K     |████████████                    | 204kB 32.5MB/s eta 0:00:01\r\u001b[K     |████████████▋                   | 215kB 32.5MB/s eta 0:00:01\r\u001b[K     |█████████████▎                  | 225kB 32.5MB/s eta 0:00:01\r\u001b[K     |█████████████▉                  | 235kB 32.5MB/s eta 0:00:01\r\u001b[K     |██████████████▍                 | 245kB 32.5MB/s eta 0:00:01\r\u001b[K     |███████████████                 | 256kB 32.5MB/s eta 0:00:01\r\u001b[K     |███████████████▋                | 266kB 32.5MB/s eta 0:00:01\r\u001b[K     |████████████████▎               | 276kB 32.5MB/s eta 0:00:01\r\u001b[K     |████████████████▉               | 286kB 32.5MB/s eta 0:00:01\r\u001b[K     |█████████████████▌              | 296kB 32.5MB/s eta 0:00:01\r\u001b[K     |██████████████████              | 307kB 32.5MB/s eta 0:00:01\r\u001b[K     |██████████████████▋             | 317kB 32.5MB/s eta 0:00:01\r\u001b[K     |███████████████████▎            | 327kB 32.5MB/s eta 0:00:01\r\u001b[K     |███████████████████▉            | 337kB 32.5MB/s eta 0:00:01\r\u001b[K     |████████████████████▌           | 348kB 32.5MB/s eta 0:00:01\r\u001b[K     |█████████████████████           | 358kB 32.5MB/s eta 0:00:01\r\u001b[K     |█████████████████████▋          | 368kB 32.5MB/s eta 0:00:01\r\u001b[K     |██████████████████████▎         | 378kB 32.5MB/s eta 0:00:01\r\u001b[K     |██████████████████████▉         | 389kB 32.5MB/s eta 0:00:01\r\u001b[K     |███████████████████████▌        | 399kB 32.5MB/s eta 0:00:01\r\u001b[K     |████████████████████████        | 409kB 32.5MB/s eta 0:00:01\r\u001b[K     |████████████████████████▊       | 419kB 32.5MB/s eta 0:00:01\r\u001b[K     |█████████████████████████▎      | 430kB 32.5MB/s eta 0:00:01\r\u001b[K     |█████████████████████████▉      | 440kB 32.5MB/s eta 0:00:01\r\u001b[K     |██████████████████████████▌     | 450kB 32.5MB/s eta 0:00:01\r\u001b[K     |███████████████████████████     | 460kB 32.5MB/s eta 0:00:01\r\u001b[K     |███████████████████████████▊    | 471kB 32.5MB/s eta 0:00:01\r\u001b[K     |████████████████████████████▎   | 481kB 32.5MB/s eta 0:00:01\r\u001b[K     |████████████████████████████▉   | 491kB 32.5MB/s eta 0:00:01\r\u001b[K     |█████████████████████████████▌  | 501kB 32.5MB/s eta 0:00:01\r\u001b[K     |██████████████████████████████  | 512kB 32.5MB/s eta 0:00:01\r\u001b[K     |██████████████████████████████▊ | 522kB 32.5MB/s eta 0:00:01\r\u001b[K     |███████████████████████████████▎| 532kB 32.5MB/s eta 0:00:01\r\u001b[K     |████████████████████████████████| 542kB 32.5MB/s eta 0:00:01\r\u001b[K     |████████████████████████████████| 552kB 32.5MB/s \n",
            "\u001b[?25hCollecting sacremoses\n",
            "\u001b[?25l  Downloading https://files.pythonhosted.org/packages/a6/b4/7a41d630547a4afd58143597d5a49e07bfd4c42914d8335b2a5657efc14b/sacremoses-0.0.38.tar.gz (860kB)\n",
            "\r\u001b[K     |▍                               | 10kB 36.5MB/s eta 0:00:01\r\u001b[K     |▊                               | 20kB 41.8MB/s eta 0:00:01\r\u001b[K     |█▏                              | 30kB 50.6MB/s eta 0:00:01\r\u001b[K     |█▌                              | 40kB 55.7MB/s eta 0:00:01\r\u001b[K     |██                              | 51kB 60.3MB/s eta 0:00:01\r\u001b[K     |██▎                             | 61kB 65.8MB/s eta 0:00:01\r\u001b[K     |██▋                             | 71kB 59.4MB/s eta 0:00:01\r\u001b[K     |███                             | 81kB 61.0MB/s eta 0:00:01\r\u001b[K     |███▍                            | 92kB 62.7MB/s eta 0:00:01\r\u001b[K     |███▉                            | 102kB 63.6MB/s eta 0:00:01\r\u001b[K     |████▏                           | 112kB 63.6MB/s eta 0:00:01\r\u001b[K     |████▋                           | 122kB 63.6MB/s eta 0:00:01\r\u001b[K     |█████                           | 133kB 63.6MB/s eta 0:00:01\r\u001b[K     |█████▎                          | 143kB 63.6MB/s eta 0:00:01\r\u001b[K     |█████▊                          | 153kB 63.6MB/s eta 0:00:01\r\u001b[K     |██████                          | 163kB 63.6MB/s eta 0:00:01\r\u001b[K     |██████▌                         | 174kB 63.6MB/s eta 0:00:01\r\u001b[K     |██████▉                         | 184kB 63.6MB/s eta 0:00:01\r\u001b[K     |███████▎                        | 194kB 63.6MB/s eta 0:00:01\r\u001b[K     |███████▋                        | 204kB 63.6MB/s eta 0:00:01\r\u001b[K     |████████                        | 215kB 63.6MB/s eta 0:00:01\r\u001b[K     |████████▍                       | 225kB 63.6MB/s eta 0:00:01\r\u001b[K     |████████▊                       | 235kB 63.6MB/s eta 0:00:01\r\u001b[K     |█████████▏                      | 245kB 63.6MB/s eta 0:00:01\r\u001b[K     |█████████▌                      | 256kB 63.6MB/s eta 0:00:01\r\u001b[K     |██████████                      | 266kB 63.6MB/s eta 0:00:01\r\u001b[K     |██████████▎                     | 276kB 63.6MB/s eta 0:00:01\r\u001b[K     |██████████▋                     | 286kB 63.6MB/s eta 0:00:01\r\u001b[K     |███████████                     | 296kB 63.6MB/s eta 0:00:01\r\u001b[K     |███████████▍                    | 307kB 63.6MB/s eta 0:00:01\r\u001b[K     |███████████▉                    | 317kB 63.6MB/s eta 0:00:01\r\u001b[K     |████████████▏                   | 327kB 63.6MB/s eta 0:00:01\r\u001b[K     |████████████▋                   | 337kB 63.6MB/s eta 0:00:01\r\u001b[K     |█████████████                   | 348kB 63.6MB/s eta 0:00:01\r\u001b[K     |█████████████▎                  | 358kB 63.6MB/s eta 0:00:01\r\u001b[K     |█████████████▊                  | 368kB 63.6MB/s eta 0:00:01\r\u001b[K     |██████████████                  | 378kB 63.6MB/s eta 0:00:01\r\u001b[K     |██████████████▌                 | 389kB 63.6MB/s eta 0:00:01\r\u001b[K     |██████████████▉                 | 399kB 63.6MB/s eta 0:00:01\r\u001b[K     |███████████████▎                | 409kB 63.6MB/s eta 0:00:01\r\u001b[K     |███████████████▋                | 419kB 63.6MB/s eta 0:00:01\r\u001b[K     |████████████████                | 430kB 63.6MB/s eta 0:00:01\r\u001b[K     |████████████████▍               | 440kB 63.6MB/s eta 0:00:01\r\u001b[K     |████████████████▊               | 450kB 63.6MB/s eta 0:00:01\r\u001b[K     |█████████████████▏              | 460kB 63.6MB/s eta 0:00:01\r\u001b[K     |█████████████████▌              | 471kB 63.6MB/s eta 0:00:01\r\u001b[K     |██████████████████              | 481kB 63.6MB/s eta 0:00:01\r\u001b[K     |██████████████████▎             | 491kB 63.6MB/s eta 0:00:01\r\u001b[K     |██████████████████▋             | 501kB 63.6MB/s eta 0:00:01\r\u001b[K     |███████████████████             | 512kB 63.6MB/s eta 0:00:01\r\u001b[K     |███████████████████▍            | 522kB 63.6MB/s eta 0:00:01\r\u001b[K     |███████████████████▉            | 532kB 63.6MB/s eta 0:00:01\r\u001b[K     |████████████████████▏           | 542kB 63.6MB/s eta 0:00:01\r\u001b[K     |████████████████████▋           | 552kB 63.6MB/s eta 0:00:01\r\u001b[K     |█████████████████████           | 563kB 63.6MB/s eta 0:00:01\r\u001b[K     |█████████████████████▎          | 573kB 63.6MB/s eta 0:00:01\r\u001b[K     |█████████████████████▊          | 583kB 63.6MB/s eta 0:00:01\r\u001b[K     |██████████████████████          | 593kB 63.6MB/s eta 0:00:01\r\u001b[K     |██████████████████████▌         | 604kB 63.6MB/s eta 0:00:01\r\u001b[K     |██████████████████████▉         | 614kB 63.6MB/s eta 0:00:01\r\u001b[K     |███████████████████████▏        | 624kB 63.6MB/s eta 0:00:01\r\u001b[K     |███████████████████████▋        | 634kB 63.6MB/s eta 0:00:01\r\u001b[K     |████████████████████████        | 645kB 63.6MB/s eta 0:00:01\r\u001b[K     |████████████████████████▍       | 655kB 63.6MB/s eta 0:00:01\r\u001b[K     |████████████████████████▊       | 665kB 63.6MB/s eta 0:00:01\r\u001b[K     |█████████████████████████▏      | 675kB 63.6MB/s eta 0:00:01\r\u001b[K     |█████████████████████████▌      | 686kB 63.6MB/s eta 0:00:01\r\u001b[K     |█████████████████████████▉      | 696kB 63.6MB/s eta 0:00:01\r\u001b[K     |██████████████████████████▎     | 706kB 63.6MB/s eta 0:00:01\r\u001b[K     |██████████████████████████▋     | 716kB 63.6MB/s eta 0:00:01\r\u001b[K     |███████████████████████████     | 727kB 63.6MB/s eta 0:00:01\r\u001b[K     |███████████████████████████▍    | 737kB 63.6MB/s eta 0:00:01\r\u001b[K     |███████████████████████████▉    | 747kB 63.6MB/s eta 0:00:01\r\u001b[K     |████████████████████████████▏   | 757kB 63.6MB/s eta 0:00:01\r\u001b[K     |████████████████████████████▌   | 768kB 63.6MB/s eta 0:00:01\r\u001b[K     |█████████████████████████████   | 778kB 63.6MB/s eta 0:00:01\r\u001b[K     |█████████████████████████████▎  | 788kB 63.6MB/s eta 0:00:01\r\u001b[K     |█████████████████████████████▊  | 798kB 63.6MB/s eta 0:00:01\r\u001b[K     |██████████████████████████████  | 808kB 63.6MB/s eta 0:00:01\r\u001b[K     |██████████████████████████████▌ | 819kB 63.6MB/s eta 0:00:01\r\u001b[K     |██████████████████████████████▉ | 829kB 63.6MB/s eta 0:00:01\r\u001b[K     |███████████████████████████████▏| 839kB 63.6MB/s eta 0:00:01\r\u001b[K     |███████████████████████████████▋| 849kB 63.6MB/s eta 0:00:01\r\u001b[K     |████████████████████████████████| 860kB 63.6MB/s eta 0:00:01\r\u001b[K     |████████████████████████████████| 870kB 63.6MB/s \n",
            "\u001b[?25hRequirement already satisfied: dataclasses; python_version < \"3.7\" in /usr/local/lib/python3.6/dist-packages (from transformers) (0.7)\n",
            "Requirement already satisfied: numpy in /usr/local/lib/python3.6/dist-packages (from transformers) (1.18.2)\n",
            "Requirement already satisfied: filelock in /usr/local/lib/python3.6/dist-packages (from transformers) (3.0.12)\n",
            "Requirement already satisfied: regex!=2019.12.17 in /usr/local/lib/python3.6/dist-packages (from transformers) (2019.12.20)\n",
            "Collecting tokenizers==0.5.2\n",
            "\u001b[?25l  Downloading https://files.pythonhosted.org/packages/d1/3f/73c881ea4723e43c1e9acf317cf407fab3a278daab3a69c98dcac511c04f/tokenizers-0.5.2-cp36-cp36m-manylinux1_x86_64.whl (3.7MB)\n",
            "\u001b[K     |████████████████████████████████| 3.7MB 60.8MB/s \n",
            "\u001b[?25hRequirement already satisfied: tqdm>=4.27 in /usr/local/lib/python3.6/dist-packages (from transformers) (4.38.0)\n",
            "Requirement already satisfied: boto3 in /usr/local/lib/python3.6/dist-packages (from transformers) (1.12.27)\n",
            "Requirement already satisfied: requests in /usr/local/lib/python3.6/dist-packages (from transformers) (2.21.0)\n",
            "Collecting sentencepiece\n",
            "\u001b[?25l  Downloading https://files.pythonhosted.org/packages/74/f4/2d5214cbf13d06e7cb2c20d84115ca25b53ea76fa1f0ade0e3c9749de214/sentencepiece-0.1.85-cp36-cp36m-manylinux1_x86_64.whl (1.0MB)\n",
            "\u001b[K     |████████████████████████████████| 1.0MB 64.2MB/s \n",
            "\u001b[?25hRequirement already satisfied: six in /usr/local/lib/python3.6/dist-packages (from sacremoses->transformers) (1.12.0)\n",
            "Requirement already satisfied: click in /usr/local/lib/python3.6/dist-packages (from sacremoses->transformers) (7.1.1)\n",
            "Requirement already satisfied: joblib in /usr/local/lib/python3.6/dist-packages (from sacremoses->transformers) (0.14.1)\n",
            "Requirement already satisfied: botocore<1.16.0,>=1.15.27 in /usr/local/lib/python3.6/dist-packages (from boto3->transformers) (1.15.27)\n",
            "Requirement already satisfied: jmespath<1.0.0,>=0.7.1 in /usr/local/lib/python3.6/dist-packages (from boto3->transformers) (0.9.5)\n",
            "Requirement already satisfied: s3transfer<0.4.0,>=0.3.0 in /usr/local/lib/python3.6/dist-packages (from boto3->transformers) (0.3.3)\n",
            "Requirement already satisfied: urllib3<1.25,>=1.21.1 in /usr/local/lib/python3.6/dist-packages (from requests->transformers) (1.24.3)\n",
            "Requirement already satisfied: chardet<3.1.0,>=3.0.2 in /usr/local/lib/python3.6/dist-packages (from requests->transformers) (3.0.4)\n",
            "Requirement already satisfied: certifi>=2017.4.17 in /usr/local/lib/python3.6/dist-packages (from requests->transformers) (2019.11.28)\n",
            "Requirement already satisfied: idna<2.9,>=2.5 in /usr/local/lib/python3.6/dist-packages (from requests->transformers) (2.8)\n",
            "Requirement already satisfied: python-dateutil<3.0.0,>=2.1 in /usr/local/lib/python3.6/dist-packages (from botocore<1.16.0,>=1.15.27->boto3->transformers) (2.8.1)\n",
            "Requirement already satisfied: docutils<0.16,>=0.10 in /usr/local/lib/python3.6/dist-packages (from botocore<1.16.0,>=1.15.27->boto3->transformers) (0.15.2)\n",
            "Building wheels for collected packages: sacremoses\n",
            "  Building wheel for sacremoses (setup.py) ... \u001b[?25l\u001b[?25hdone\n",
            "  Created wheel for sacremoses: filename=sacremoses-0.0.38-cp36-none-any.whl size=884628 sha256=3686794f202469fe434ca7bda3a01854efd83ed1bbab4842eee7a0baac7443b0\n",
            "  Stored in directory: /root/.cache/pip/wheels/6d/ec/1a/21b8912e35e02741306f35f66c785f3afe94de754a0eaf1422\n",
            "Successfully built sacremoses\n",
            "Installing collected packages: sacremoses, tokenizers, sentencepiece, transformers\n",
            "Successfully installed sacremoses-0.0.38 sentencepiece-0.1.85 tokenizers-0.5.2 transformers-2.7.0\n"
          ],
          "name": "stdout"
        }
      ]
    },
    {
      "cell_type": "code",
      "metadata": {
        "id": "Sy9gn7GeWq8b",
        "colab_type": "code",
        "colab": {}
      },
      "source": [
        "from transformers import GPT2Model,GPT2Tokenizer,GPT2LMHeadModel"
      ],
      "execution_count": 0,
      "outputs": []
    },
    {
      "cell_type": "code",
      "metadata": {
        "id": "Fx-Vd4RPYLeR",
        "colab_type": "code",
        "colab": {
          "base_uri": "https://localhost:8080/",
          "height": 115,
          "referenced_widgets": [
            "be68206fe62f437e8df66e926ac7f647",
            "860c59338adc401fab8ca60e87d1d42a",
            "22aa6c00225648da93b3948379abe59d",
            "aeb2152fe1a54594acda6227d6c3d8d4",
            "a37eeef3cde44c568481f9252327338e",
            "fbfcae2903464b6c8c57e72480a2915d",
            "19d85c85dabe4f129624734825872b07",
            "4de93c276c8242cc92ee321b6d83c9b8",
            "9fd7a8e420d84f59b7a9c34464f8ab3c",
            "37b5a409b2d94061bec026e3c42a2da3",
            "ed95c9a7c7c7425ea94ec1b25a4e8b9e",
            "74a58077048b4dfba6c513f5e2de3b6e",
            "c804cb34f936440495857e8365c9e5fd",
            "65c5becd5234474c8405da92d200fa5d",
            "8529f8a6cbeb4d3eb4296d6e4d495a59",
            "57f11f5360fd46bc9e9987e86508775c"
          ]
        },
        "outputId": "d6172604-8a90-4620-c0ef-47ea236a2a44"
      },
      "source": [
        "tnz = GPT2Tokenizer.from_pretrained('gpt2')"
      ],
      "execution_count": 4,
      "outputs": [
        {
          "output_type": "display_data",
          "data": {
            "application/vnd.jupyter.widget-view+json": {
              "model_id": "be68206fe62f437e8df66e926ac7f647",
              "version_minor": 0,
              "version_major": 2
            },
            "text/plain": [
              "HBox(children=(IntProgress(value=0, description='Downloading', max=1042301, style=ProgressStyle(description_wi…"
            ]
          },
          "metadata": {
            "tags": []
          }
        },
        {
          "output_type": "stream",
          "text": [
            "\n"
          ],
          "name": "stdout"
        },
        {
          "output_type": "display_data",
          "data": {
            "application/vnd.jupyter.widget-view+json": {
              "model_id": "9fd7a8e420d84f59b7a9c34464f8ab3c",
              "version_minor": 0,
              "version_major": 2
            },
            "text/plain": [
              "HBox(children=(IntProgress(value=0, description='Downloading', max=456318, style=ProgressStyle(description_wid…"
            ]
          },
          "metadata": {
            "tags": []
          }
        },
        {
          "output_type": "stream",
          "text": [
            "\n"
          ],
          "name": "stdout"
        }
      ]
    },
    {
      "cell_type": "code",
      "metadata": {
        "id": "xHJP-cTpYjH3",
        "colab_type": "code",
        "colab": {
          "base_uri": "https://localhost:8080/",
          "height": 68
        },
        "outputId": "f575291f-2af0-47ba-f467-a0ad2058be94"
      },
      "source": [
        "tnz.encode_plus(\"if you prick me, do I not bleed\")"
      ],
      "execution_count": 5,
      "outputs": [
        {
          "output_type": "execute_result",
          "data": {
            "text/plain": [
              "{'attention_mask': [1, 1, 1, 1, 1, 1, 1, 1, 1],\n",
              " 'input_ids': [361, 345, 41409, 502, 11, 466, 314, 407, 30182],\n",
              " 'token_type_ids': [0, 0, 0, 0, 0, 0, 0, 0, 0]}"
            ]
          },
          "metadata": {
            "tags": []
          },
          "execution_count": 5
        }
      ]
    },
    {
      "cell_type": "code",
      "metadata": {
        "id": "CStGOkoIZO6N",
        "colab_type": "code",
        "colab": {}
      },
      "source": [
        "# model = GPT2LMHeadModel.from_pretrained('gpt2')\n",
        "# input_ids = torch.tensor([tnz.encode(\"If you tickle me, do I not laugh\", add_special_tokens=True)])\n",
        "# with torch.no_grad():\n",
        "#     result = model.generate(input_ids,min_length = 15,max_length=30,temperature=0.2)\n",
        "# result\n",
        "# print(tnz.decode(result[0]))"
      ],
      "execution_count": 0,
      "outputs": []
    },
    {
      "cell_type": "code",
      "metadata": {
        "id": "YzAuEfXObykK",
        "colab_type": "code",
        "colab": {
          "base_uri": "https://localhost:8080/",
          "height": 306
        },
        "outputId": "29327371-4671-4437-b022-9ea47d58a4eb"
      },
      "source": [
        "!nvidia-smi"
      ],
      "execution_count": 7,
      "outputs": [
        {
          "output_type": "stream",
          "text": [
            "Tue Mar 31 08:02:22 2020       \n",
            "+-----------------------------------------------------------------------------+\n",
            "| NVIDIA-SMI 440.64.00    Driver Version: 418.67       CUDA Version: 10.1     |\n",
            "|-------------------------------+----------------------+----------------------+\n",
            "| GPU  Name        Persistence-M| Bus-Id        Disp.A | Volatile Uncorr. ECC |\n",
            "| Fan  Temp  Perf  Pwr:Usage/Cap|         Memory-Usage | GPU-Util  Compute M. |\n",
            "|===============================+======================+======================|\n",
            "|   0  Tesla T4            Off  | 00000000:00:04.0 Off |                    0 |\n",
            "| N/A   55C    P8    11W /  70W |      0MiB / 15079MiB |      0%      Default |\n",
            "+-------------------------------+----------------------+----------------------+\n",
            "                                                                               \n",
            "+-----------------------------------------------------------------------------+\n",
            "| Processes:                                                       GPU Memory |\n",
            "|  GPU       PID   Type   Process name                             Usage      |\n",
            "|=============================================================================|\n",
            "|  No running processes found                                                 |\n",
            "+-----------------------------------------------------------------------------+\n"
          ],
          "name": "stdout"
        }
      ]
    },
    {
      "cell_type": "markdown",
      "metadata": {
        "id": "-gh909_7j4VI",
        "colab_type": "text"
      },
      "source": [
        "## Finetune on dataset"
      ]
    },
    {
      "cell_type": "code",
      "metadata": {
        "id": "ItbEKLR9jPnk",
        "colab_type": "code",
        "colab": {
          "base_uri": "https://localhost:8080/",
          "height": 122
        },
        "outputId": "eddede41-a9d8-4e6d-de98-4305a76edb57"
      },
      "source": [
        "from google.colab import drive\n",
        "drive.mount(\"gdrive\")"
      ],
      "execution_count": 8,
      "outputs": [
        {
          "output_type": "stream",
          "text": [
            "Go to this URL in a browser: https://accounts.google.com/o/oauth2/auth?client_id=947318989803-6bn6qk8qdgf4n4g3pfee6491hc0brc4i.apps.googleusercontent.com&redirect_uri=urn%3aietf%3awg%3aoauth%3a2.0%3aoob&response_type=code&scope=email%20https%3a%2f%2fwww.googleapis.com%2fauth%2fdocs.test%20https%3a%2f%2fwww.googleapis.com%2fauth%2fdrive%20https%3a%2f%2fwww.googleapis.com%2fauth%2fdrive.photos.readonly%20https%3a%2f%2fwww.googleapis.com%2fauth%2fpeopleapi.readonly\n",
            "\n",
            "Enter your authorization code:\n",
            "··········\n",
            "Mounted at gdrive\n"
          ],
          "name": "stdout"
        }
      ]
    },
    {
      "cell_type": "code",
      "metadata": {
        "id": "DbRBnOoEjg5y",
        "colab_type": "code",
        "colab": {}
      },
      "source": [
        "!cp gdrive/My\\ Drive/data/pubmed_finetune_01.txt ."
      ],
      "execution_count": 0,
      "outputs": []
    },
    {
      "cell_type": "code",
      "metadata": {
        "id": "Q-MX58Ylsexw",
        "colab_type": "code",
        "colab": {}
      },
      "source": [
        "!cp gdrive/My\\ Drive/data/run_language_modeling.py ."
      ],
      "execution_count": 0,
      "outputs": []
    },
    {
      "cell_type": "code",
      "metadata": {
        "id": "dJaMbkP8kIEL",
        "colab_type": "code",
        "colab": {
          "base_uri": "https://localhost:8080/",
          "height": 1000
        },
        "outputId": "6f0289dd-b549-4dd3-ecce-3364b7dce730"
      },
      "source": [
        "!python run_language_modeling.py \\\n",
        "    --output_dir=gdrive/My\\ Drive/data/mednlp/ \\\n",
        "    --model_type=gpt2 \\\n",
        "    --model_name_or_path=gpt2 \\\n",
        "    --per_gpu_train_batch_size=2 \\\n",
        "    --do_train \\\n",
        "    --train_data_file=pubmed_finetune_01.txt"
      ],
      "execution_count": 0,
      "outputs": [
        {
          "output_type": "stream",
          "text": [
            "ERROR! Session/line number was not unique in database. History logging moved to new session 60\n",
            "03/31/2020 08:58:21 - WARNING - __main__ -   Process rank: -1, device: cuda, n_gpu: 1, distributed training: False, 16-bits training: False\n",
            "03/31/2020 08:58:22 - INFO - transformers.configuration_utils -   loading configuration file https://s3.amazonaws.com/models.huggingface.co/bert/gpt2-config.json from cache at /root/.cache/torch/transformers/4be02c5697d91738003fb1685c9872f284166aa32e061576bbe6aaeb95649fcf.699bbd1c449e9861456f359d6daa51bd523ac085b4b531ab0aad5a55d091e942\n",
            "03/31/2020 08:58:22 - INFO - transformers.configuration_utils -   Model config GPT2Config {\n",
            "  \"_num_labels\": 2,\n",
            "  \"activation_function\": \"gelu_new\",\n",
            "  \"architectures\": [\n",
            "    \"GPT2LMHeadModel\"\n",
            "  ],\n",
            "  \"attn_pdrop\": 0.1,\n",
            "  \"bos_token_id\": 50256,\n",
            "  \"decoder_start_token_id\": null,\n",
            "  \"do_sample\": false,\n",
            "  \"early_stopping\": false,\n",
            "  \"embd_pdrop\": 0.1,\n",
            "  \"eos_token_id\": 50256,\n",
            "  \"finetuning_task\": null,\n",
            "  \"id2label\": {\n",
            "    \"0\": \"LABEL_0\",\n",
            "    \"1\": \"LABEL_1\"\n",
            "  },\n",
            "  \"initializer_range\": 0.02,\n",
            "  \"is_decoder\": false,\n",
            "  \"is_encoder_decoder\": false,\n",
            "  \"label2id\": {\n",
            "    \"LABEL_0\": 0,\n",
            "    \"LABEL_1\": 1\n",
            "  },\n",
            "  \"layer_norm_epsilon\": 1e-05,\n",
            "  \"length_penalty\": 1.0,\n",
            "  \"max_length\": 20,\n",
            "  \"min_length\": 0,\n",
            "  \"model_type\": \"gpt2\",\n",
            "  \"n_ctx\": 1024,\n",
            "  \"n_embd\": 768,\n",
            "  \"n_head\": 12,\n",
            "  \"n_layer\": 12,\n",
            "  \"n_positions\": 1024,\n",
            "  \"no_repeat_ngram_size\": 0,\n",
            "  \"num_beams\": 1,\n",
            "  \"num_return_sequences\": 1,\n",
            "  \"output_attentions\": false,\n",
            "  \"output_hidden_states\": false,\n",
            "  \"output_past\": true,\n",
            "  \"pad_token_id\": null,\n",
            "  \"prefix\": null,\n",
            "  \"pruned_heads\": {},\n",
            "  \"repetition_penalty\": 1.0,\n",
            "  \"resid_pdrop\": 0.1,\n",
            "  \"summary_activation\": null,\n",
            "  \"summary_first_dropout\": 0.1,\n",
            "  \"summary_proj_to_labels\": true,\n",
            "  \"summary_type\": \"cls_index\",\n",
            "  \"summary_use_proj\": true,\n",
            "  \"task_specific_params\": null,\n",
            "  \"temperature\": 1.0,\n",
            "  \"top_k\": 50,\n",
            "  \"top_p\": 1.0,\n",
            "  \"torchscript\": false,\n",
            "  \"use_bfloat16\": false,\n",
            "  \"vocab_size\": 50257\n",
            "}\n",
            "\n",
            "03/31/2020 08:58:22 - INFO - transformers.configuration_utils -   loading configuration file https://s3.amazonaws.com/models.huggingface.co/bert/gpt2-config.json from cache at /root/.cache/torch/transformers/4be02c5697d91738003fb1685c9872f284166aa32e061576bbe6aaeb95649fcf.699bbd1c449e9861456f359d6daa51bd523ac085b4b531ab0aad5a55d091e942\n",
            "03/31/2020 08:58:22 - INFO - transformers.configuration_utils -   Model config GPT2Config {\n",
            "  \"_num_labels\": 2,\n",
            "  \"activation_function\": \"gelu_new\",\n",
            "  \"architectures\": [\n",
            "    \"GPT2LMHeadModel\"\n",
            "  ],\n",
            "  \"attn_pdrop\": 0.1,\n",
            "  \"bos_token_id\": 50256,\n",
            "  \"decoder_start_token_id\": null,\n",
            "  \"do_sample\": false,\n",
            "  \"early_stopping\": false,\n",
            "  \"embd_pdrop\": 0.1,\n",
            "  \"eos_token_id\": 50256,\n",
            "  \"finetuning_task\": null,\n",
            "  \"id2label\": {\n",
            "    \"0\": \"LABEL_0\",\n",
            "    \"1\": \"LABEL_1\"\n",
            "  },\n",
            "  \"initializer_range\": 0.02,\n",
            "  \"is_decoder\": false,\n",
            "  \"is_encoder_decoder\": false,\n",
            "  \"label2id\": {\n",
            "    \"LABEL_0\": 0,\n",
            "    \"LABEL_1\": 1\n",
            "  },\n",
            "  \"layer_norm_epsilon\": 1e-05,\n",
            "  \"length_penalty\": 1.0,\n",
            "  \"max_length\": 20,\n",
            "  \"min_length\": 0,\n",
            "  \"model_type\": \"gpt2\",\n",
            "  \"n_ctx\": 1024,\n",
            "  \"n_embd\": 768,\n",
            "  \"n_head\": 12,\n",
            "  \"n_layer\": 12,\n",
            "  \"n_positions\": 1024,\n",
            "  \"no_repeat_ngram_size\": 0,\n",
            "  \"num_beams\": 1,\n",
            "  \"num_return_sequences\": 1,\n",
            "  \"output_attentions\": false,\n",
            "  \"output_hidden_states\": false,\n",
            "  \"output_past\": true,\n",
            "  \"pad_token_id\": null,\n",
            "  \"prefix\": null,\n",
            "  \"pruned_heads\": {},\n",
            "  \"repetition_penalty\": 1.0,\n",
            "  \"resid_pdrop\": 0.1,\n",
            "  \"summary_activation\": null,\n",
            "  \"summary_first_dropout\": 0.1,\n",
            "  \"summary_proj_to_labels\": true,\n",
            "  \"summary_type\": \"cls_index\",\n",
            "  \"summary_use_proj\": true,\n",
            "  \"task_specific_params\": null,\n",
            "  \"temperature\": 1.0,\n",
            "  \"top_k\": 50,\n",
            "  \"top_p\": 1.0,\n",
            "  \"torchscript\": false,\n",
            "  \"use_bfloat16\": false,\n",
            "  \"vocab_size\": 50257\n",
            "}\n",
            "\n",
            "03/31/2020 08:58:24 - INFO - transformers.tokenization_utils -   loading file https://s3.amazonaws.com/models.huggingface.co/bert/gpt2-vocab.json from cache at /root/.cache/torch/transformers/f2808208f9bec2320371a9f5f891c184ae0b674ef866b79c58177067d15732dd.1512018be4ba4e8726e41b9145129dc30651ea4fec86aa61f4b9f40bf94eac71\n",
            "03/31/2020 08:58:24 - INFO - transformers.tokenization_utils -   loading file https://s3.amazonaws.com/models.huggingface.co/bert/gpt2-merges.txt from cache at /root/.cache/torch/transformers/d629f792e430b3c76a1291bb2766b0a047e36fae0588f9dbc1ae51decdff691b.70bec105b4158ed9a1747fea67a43f5dee97855c64d62b6ec3742f4cfdb5feda\n",
            "03/31/2020 08:58:25 - INFO - transformers.modeling_utils -   loading weights file https://s3.amazonaws.com/models.huggingface.co/bert/gpt2-pytorch_model.bin from cache at /root/.cache/torch/transformers/4295d67f022061768f4adc386234dbdb781c814c39662dd1662221c309962c55.778cf36f5c4e5d94c8cd9cefcf2a580c8643570eb327f0d4a1f007fab2acbdf1\n",
            "03/31/2020 08:58:29 - INFO - transformers.modeling_utils -   Weights of GPT2LMHeadModel not initialized from pretrained model: ['lm_head.weight']\n",
            "03/31/2020 08:58:34 - INFO - __main__ -   Training/evaluation parameters Namespace(adam_epsilon=1e-08, block_size=1024, cache_dir=None, config_name=None, device=device(type='cuda'), do_eval=False, do_train=True, eval_all_checkpoints=False, eval_data_file=None, evaluate_during_training=False, fp16=False, fp16_opt_level='O1', gradient_accumulation_steps=1, learning_rate=5e-05, line_by_line=False, local_rank=-1, logging_steps=500, max_grad_norm=1.0, max_steps=-1, mlm=False, mlm_probability=0.15, model_name_or_path='gpt2', model_type='gpt2', n_gpu=1, no_cuda=False, num_train_epochs=1.0, output_dir='gdrive/My Drive/data/mednlp/', overwrite_cache=False, overwrite_output_dir=False, per_gpu_eval_batch_size=4, per_gpu_train_batch_size=2, save_steps=500, save_total_limit=None, seed=42, server_ip='', server_port='', should_continue=False, tokenizer_name=None, train_data_file='pubmed_finetune_01.txt', warmup_steps=0, weight_decay=0.0)\n",
            "03/31/2020 08:58:34 - INFO - __main__ -   Loading features from cached file gpt2_cached_lm_1024_pubmed_finetune_01.txt\n",
            "03/31/2020 08:58:34 - INFO - __main__ -   ***** Running training *****\n",
            "03/31/2020 08:58:34 - INFO - __main__ -     Num examples = 13118\n",
            "03/31/2020 08:58:34 - INFO - __main__ -     Num Epochs = 1\n",
            "03/31/2020 08:58:34 - INFO - __main__ -     Instantaneous batch size per GPU = 2\n",
            "03/31/2020 08:58:34 - INFO - __main__ -     Total train batch size (w. parallel, distributed & accumulation) = 2\n",
            "03/31/2020 08:58:34 - INFO - __main__ -     Gradient Accumulation steps = 1\n",
            "03/31/2020 08:58:34 - INFO - __main__ -     Total optimization steps = 6559\n",
            "Epoch:   0% 0/1 [00:00<?, ?it/s]\n",
            "Iteration:   0% 0/6559 [00:00<?, ?it/s]\u001b[A\n",
            "Iteration:   0% 1/6559 [00:00<1:23:43,  1.31it/s]\u001b[A\n",
            "Iteration:   0% 2/6559 [00:01<1:21:25,  1.34it/s]\u001b[A\n",
            "Iteration:   0% 3/6559 [00:02<1:20:10,  1.36it/s]\u001b[A\n",
            "Iteration:   0% 4/6559 [00:02<1:19:25,  1.38it/s]\u001b[A\n",
            "Iteration:   0% 5/6559 [00:03<1:18:52,  1.38it/s]\u001b[A\n",
            "Iteration:   0% 6/6559 [00:04<1:18:35,  1.39it/s]\u001b[A\n",
            "Iteration:   0% 7/6559 [00:05<1:18:12,  1.40it/s]\u001b[A\n",
            "Iteration:   0% 8/6559 [00:05<1:18:07,  1.40it/s]\u001b[A\n",
            "Iteration:   0% 9/6559 [00:06<1:18:10,  1.40it/s]\u001b[A\n",
            "Iteration:   0% 10/6559 [00:07<1:18:06,  1.40it/s]\u001b[A\n",
            "Iteration:   0% 11/6559 [00:07<1:17:59,  1.40it/s]\u001b[A\n",
            "Iteration:   0% 12/6559 [00:08<1:18:06,  1.40it/s]\u001b[A\n",
            "Iteration:   0% 13/6559 [00:09<1:18:08,  1.40it/s]\u001b[A\n",
            "Iteration:   0% 14/6559 [00:10<1:18:02,  1.40it/s]\u001b[A\n",
            "Iteration:   0% 15/6559 [00:10<1:18:06,  1.40it/s]\u001b[A\n",
            "Iteration:   0% 16/6559 [00:11<1:18:12,  1.39it/s]\u001b[A\n",
            "Iteration:   0% 17/6559 [00:12<1:18:16,  1.39it/s]\u001b[A\n",
            "Iteration:   0% 18/6559 [00:12<1:18:20,  1.39it/s]\u001b[A\n",
            "Iteration:   0% 19/6559 [00:13<1:18:29,  1.39it/s]\u001b[A\n",
            "Iteration:   0% 20/6559 [00:14<1:18:26,  1.39it/s]\u001b[A\n",
            "Iteration:   0% 21/6559 [00:15<1:18:30,  1.39it/s]\u001b[A\n",
            "Iteration:   0% 22/6559 [00:15<1:18:35,  1.39it/s]\u001b[A\n",
            "Iteration:   0% 23/6559 [00:16<1:18:44,  1.38it/s]\u001b[A\n",
            "Iteration:   0% 24/6559 [00:17<1:18:46,  1.38it/s]\u001b[A\n",
            "Iteration:   0% 25/6559 [00:17<1:18:50,  1.38it/s]\u001b[A\n",
            "Iteration:   0% 26/6559 [00:18<1:18:56,  1.38it/s]\u001b[A\n",
            "Iteration:   0% 27/6559 [00:19<1:19:05,  1.38it/s]\u001b[A\n",
            "Iteration:   0% 28/6559 [00:20<1:19:11,  1.37it/s]\u001b[A\n",
            "Iteration:   0% 29/6559 [00:20<1:19:21,  1.37it/s]\u001b[A\n",
            "Iteration:   0% 30/6559 [00:21<1:19:37,  1.37it/s]\u001b[A\n",
            "Iteration:   0% 31/6559 [00:22<1:19:28,  1.37it/s]\u001b[A\n",
            "Iteration:   0% 32/6559 [00:23<1:19:35,  1.37it/s]\u001b[A\n",
            "Iteration:   1% 33/6559 [00:23<1:19:23,  1.37it/s]\u001b[A\n",
            "Iteration:   1% 34/6559 [00:24<1:19:28,  1.37it/s]\u001b[A\n",
            "Iteration:   1% 35/6559 [00:25<1:19:25,  1.37it/s]\u001b[A\n",
            "Iteration:   1% 36/6559 [00:25<1:19:20,  1.37it/s]\u001b[A\n",
            "Iteration:   1% 37/6559 [00:26<1:19:30,  1.37it/s]\u001b[A\n",
            "Iteration:   1% 38/6559 [00:27<1:19:29,  1.37it/s]\u001b[A\n",
            "Iteration:   1% 39/6559 [00:28<1:19:30,  1.37it/s]\u001b[A\n",
            "Iteration:   1% 40/6559 [00:28<1:19:41,  1.36it/s]\u001b[A\n",
            "Iteration:   1% 41/6559 [00:29<1:19:43,  1.36it/s]\u001b[A\n",
            "Iteration:   1% 42/6559 [00:30<1:19:51,  1.36it/s]\u001b[A\n",
            "Iteration:   1% 43/6559 [00:31<1:19:50,  1.36it/s]\u001b[A\n",
            "Iteration:   1% 44/6559 [00:31<1:19:50,  1.36it/s]\u001b[A\n",
            "Iteration:   1% 45/6559 [00:32<1:19:54,  1.36it/s]\u001b[A\n",
            "Iteration:   1% 46/6559 [00:33<1:19:51,  1.36it/s]\u001b[A\n",
            "Iteration:   1% 47/6559 [00:34<1:20:06,  1.35it/s]\u001b[A\n",
            "Iteration:   1% 48/6559 [00:34<1:20:05,  1.35it/s]\u001b[A\n",
            "Iteration:   1% 49/6559 [00:35<1:20:10,  1.35it/s]\u001b[A\n",
            "Iteration:   1% 50/6559 [00:36<1:20:19,  1.35it/s]\u001b[A\n",
            "Iteration:   1% 51/6559 [00:37<1:20:25,  1.35it/s]\u001b[A\n",
            "Iteration:   1% 52/6559 [00:37<1:20:26,  1.35it/s]\u001b[A\n",
            "Iteration:   1% 53/6559 [00:38<1:20:47,  1.34it/s]\u001b[A\n",
            "Iteration:   1% 54/6559 [00:39<1:20:39,  1.34it/s]\u001b[A\n",
            "Iteration:   1% 55/6559 [00:40<1:20:52,  1.34it/s]\u001b[A\n",
            "Iteration:   1% 56/6559 [00:40<1:21:00,  1.34it/s]\u001b[A\n",
            "Iteration:   1% 57/6559 [00:41<1:21:13,  1.33it/s]\u001b[A\n",
            "Iteration:   1% 58/6559 [00:42<1:21:22,  1.33it/s]\u001b[A\n",
            "Iteration:   1% 59/6559 [00:43<1:21:33,  1.33it/s]\u001b[A\n",
            "Iteration:   1% 60/6559 [00:43<1:21:49,  1.32it/s]\u001b[A\n",
            "Iteration:   1% 61/6559 [00:44<1:21:49,  1.32it/s]\u001b[A\n",
            "Iteration:   1% 62/6559 [00:45<1:21:51,  1.32it/s]\u001b[A\n",
            "Iteration:   1% 63/6559 [00:46<1:22:07,  1.32it/s]\u001b[A\n",
            "Iteration:   1% 64/6559 [00:46<1:22:09,  1.32it/s]\u001b[A\n",
            "Iteration:   1% 65/6559 [00:47<1:22:14,  1.32it/s]\u001b[A\n",
            "Iteration:   1% 66/6559 [00:48<1:22:22,  1.31it/s]\u001b[A\n",
            "Iteration:   1% 67/6559 [00:49<1:22:20,  1.31it/s]\u001b[A\n",
            "Iteration:   1% 68/6559 [00:49<1:22:38,  1.31it/s]\u001b[A\n",
            "Iteration:   1% 69/6559 [00:50<1:22:39,  1.31it/s]\u001b[A\n",
            "Iteration:   1% 70/6559 [00:51<1:22:48,  1.31it/s]\u001b[A\n",
            "Iteration:   1% 71/6559 [00:52<1:22:55,  1.30it/s]\u001b[A\n",
            "Iteration:   1% 72/6559 [00:52<1:23:00,  1.30it/s]\u001b[A\n",
            "Iteration:   1% 73/6559 [00:53<1:23:13,  1.30it/s]\u001b[A\n",
            "Iteration:   1% 74/6559 [00:54<1:23:16,  1.30it/s]\u001b[A\n",
            "Iteration:   1% 75/6559 [00:55<1:23:21,  1.30it/s]\u001b[A\n",
            "Iteration:   1% 76/6559 [00:56<1:23:04,  1.30it/s]\u001b[A\n",
            "Iteration:   1% 77/6559 [00:56<1:23:01,  1.30it/s]\u001b[A\n",
            "Iteration:   1% 78/6559 [00:57<1:22:57,  1.30it/s]\u001b[A\n",
            "Iteration:   1% 79/6559 [00:58<1:22:56,  1.30it/s]\u001b[A\n",
            "Iteration:   1% 80/6559 [00:59<1:23:01,  1.30it/s]\u001b[A\n",
            "Iteration:   1% 81/6559 [00:59<1:23:06,  1.30it/s]\u001b[A\n",
            "Iteration:   1% 82/6559 [01:00<1:23:12,  1.30it/s]\u001b[A\n",
            "Iteration:   1% 83/6559 [01:01<1:23:24,  1.29it/s]\u001b[A\n",
            "Iteration:   1% 84/6559 [01:02<1:23:32,  1.29it/s]\u001b[A\n",
            "Iteration:   1% 85/6559 [01:03<1:23:22,  1.29it/s]\u001b[A\n",
            "Iteration:   1% 86/6559 [01:03<1:23:27,  1.29it/s]\u001b[A\n",
            "Iteration:   1% 87/6559 [01:04<1:23:38,  1.29it/s]\u001b[A\n",
            "Iteration:   1% 88/6559 [01:05<1:23:40,  1.29it/s]\u001b[A\n",
            "Iteration:   1% 89/6559 [01:06<1:23:45,  1.29it/s]\u001b[A\n",
            "Iteration:   1% 90/6559 [01:06<1:23:53,  1.29it/s]\u001b[A\n",
            "Iteration:   1% 91/6559 [01:07<1:23:55,  1.28it/s]\u001b[A\n",
            "Iteration:   1% 92/6559 [01:08<1:24:01,  1.28it/s]\u001b[A\n",
            "Iteration:   1% 93/6559 [01:09<1:24:12,  1.28it/s]\u001b[A\n",
            "Iteration:   1% 94/6559 [01:10<1:24:15,  1.28it/s]\u001b[A\n",
            "Iteration:   1% 95/6559 [01:10<1:24:27,  1.28it/s]\u001b[A\n",
            "Iteration:   1% 96/6559 [01:11<1:24:29,  1.27it/s]\u001b[A\n",
            "Iteration:   1% 97/6559 [01:12<1:24:34,  1.27it/s]\u001b[A\n",
            "Iteration:   1% 98/6559 [01:13<1:24:40,  1.27it/s]\u001b[A\n",
            "Iteration:   2% 99/6559 [01:13<1:24:37,  1.27it/s]\u001b[A\n",
            "Iteration:   2% 100/6559 [01:14<1:24:45,  1.27it/s]\u001b[A\n",
            "Iteration:   2% 101/6559 [01:15<1:24:59,  1.27it/s]\u001b[A\n",
            "Iteration:   2% 102/6559 [01:16<1:25:18,  1.26it/s]\u001b[A\n",
            "Iteration:   2% 103/6559 [01:17<1:25:18,  1.26it/s]\u001b[A\n",
            "Iteration:   2% 104/6559 [01:17<1:25:26,  1.26it/s]\u001b[A\n",
            "Iteration:   2% 105/6559 [01:18<1:25:27,  1.26it/s]\u001b[A\n",
            "Iteration:   2% 106/6559 [01:19<1:25:34,  1.26it/s]\u001b[A"
          ],
          "name": "stdout"
        }
      ]
    },
    {
      "cell_type": "code",
      "metadata": {
        "id": "T6tVzQpooDk7",
        "colab_type": "code",
        "colab": {
          "base_uri": "https://localhost:8080/",
          "height": 306
        },
        "outputId": "ed6f59d9-9e1b-429f-a481-f09ae70b456d"
      },
      "source": [
        "!nvidia-smi"
      ],
      "execution_count": 41,
      "outputs": [
        {
          "output_type": "stream",
          "text": [
            "Tue Mar 31 08:56:18 2020       \n",
            "+-----------------------------------------------------------------------------+\n",
            "| NVIDIA-SMI 440.64.00    Driver Version: 418.67       CUDA Version: 10.1     |\n",
            "|-------------------------------+----------------------+----------------------+\n",
            "| GPU  Name        Persistence-M| Bus-Id        Disp.A | Volatile Uncorr. ECC |\n",
            "| Fan  Temp  Perf  Pwr:Usage/Cap|         Memory-Usage | GPU-Util  Compute M. |\n",
            "|===============================+======================+======================|\n",
            "|   0  Tesla T4            Off  | 00000000:00:04.0 Off |                    0 |\n",
            "| N/A   43C    P8    10W /  70W |      0MiB / 15079MiB |      0%      Default |\n",
            "+-------------------------------+----------------------+----------------------+\n",
            "                                                                               \n",
            "+-----------------------------------------------------------------------------+\n",
            "| Processes:                                                       GPU Memory |\n",
            "|  GPU       PID   Type   Process name                             Usage      |\n",
            "|=============================================================================|\n",
            "|  No running processes found                                                 |\n",
            "+-----------------------------------------------------------------------------+\n"
          ],
          "name": "stdout"
        }
      ]
    },
    {
      "cell_type": "code",
      "metadata": {
        "id": "P2YU2Ae1ti42",
        "colab_type": "code",
        "colab": {}
      },
      "source": [
        ""
      ],
      "execution_count": 0,
      "outputs": []
    }
  ]
}