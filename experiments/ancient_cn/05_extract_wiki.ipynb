{
  "nbformat": 4,
  "nbformat_minor": 0,
  "metadata": {
    "colab": {
      "name": "05_extract_wiki.ipynb",
      "provenance": [],
      "collapsed_sections": [],
      "authorship_tag": "ABX9TyNHXRmu+8DXhwsL9pU8CoZt",
      "include_colab_link": true
    },
    "kernelspec": {
      "name": "python3",
      "display_name": "Python 3"
    }
  },
  "cells": [
    {
      "cell_type": "markdown",
      "metadata": {
        "id": "view-in-github",
        "colab_type": "text"
      },
      "source": [
        "<a href=\"https://colab.research.google.com/github/raynardj/python4ml/blob/master/experiments/ancient_cn/05_extract_wiki.ipynb\" target=\"_parent\"><img src=\"https://colab.research.google.com/assets/colab-badge.svg\" alt=\"Open In Colab\"/></a>"
      ]
    },
    {
      "cell_type": "markdown",
      "metadata": {
        "id": "clhUALjg4LET",
        "colab_type": "text"
      },
      "source": [
        "# Ancient Chinese Data\n",
        "> Process the [ZhWikiSource data](https://dumps.wikimedia.org/zhwikisource/20200301/)"
      ]
    },
    {
      "cell_type": "markdown",
      "metadata": {
        "id": "xbtwZfFr5Odi",
        "colab_type": "text"
      },
      "source": [
        "## Meta file: index.text"
      ]
    },
    {
      "cell_type": "code",
      "metadata": {
        "id": "CM_bx63O38Jk",
        "colab_type": "code",
        "outputId": "8f043380-a763-4910-c2b9-9aac91f96582",
        "colab": {
          "base_uri": "https://localhost:8080/",
          "height": 204
        }
      },
      "source": [
        "!wget https://dumps.wikimedia.org/zhwikisource/20200301/zhwikisource-20200301-pages-articles-multistream-index.txt.bz2"
      ],
      "execution_count": 1,
      "outputs": [
        {
          "output_type": "stream",
          "text": [
            "--2020-04-07 01:37:11--  https://dumps.wikimedia.org/zhwikisource/20200301/zhwikisource-20200301-pages-articles-multistream-index.txt.bz2\n",
            "Resolving dumps.wikimedia.org (dumps.wikimedia.org)... 208.80.154.7, 2620:0:861:1:208:80:154:7\n",
            "Connecting to dumps.wikimedia.org (dumps.wikimedia.org)|208.80.154.7|:443... connected.\n",
            "HTTP request sent, awaiting response... 200 OK\n",
            "Length: 5155089 (4.9M) [application/octet-stream]\n",
            "Saving to: ‘zhwikisource-20200301-pages-articles-multistream-index.txt.bz2’\n",
            "\n",
            "\r          zhwikisou   0%[                    ]       0  --.-KB/s               \r         zhwikisour  35%[======>             ]   1.73M  8.51MB/s               \r        zhwikisourc  47%[========>           ]   2.35M  5.67MB/s               \r       zhwikisource  69%[============>       ]   3.41M  5.50MB/s               \r      zhwikisource-  88%[================>   ]   4.35M  5.30MB/s               \rzhwikisource-202003 100%[===================>]   4.92M  5.23MB/s    in 0.9s    \n",
            "\n",
            "2020-04-07 01:37:13 (5.23 MB/s) - ‘zhwikisource-20200301-pages-articles-multistream-index.txt.bz2’ saved [5155089/5155089]\n",
            "\n"
          ],
          "name": "stdout"
        }
      ]
    },
    {
      "cell_type": "markdown",
      "metadata": {
        "id": "FT8x9E1-5_uA",
        "colab_type": "text"
      },
      "source": [
        "Decompress with bzip2"
      ]
    },
    {
      "cell_type": "code",
      "metadata": {
        "id": "6V5RASJS4hTP",
        "colab_type": "code",
        "colab": {}
      },
      "source": [
        "!bzip2 -d zhwikisource-20200301-pages-articles-multistream-index.txt.bz2"
      ],
      "execution_count": 0,
      "outputs": []
    },
    {
      "cell_type": "markdown",
      "metadata": {
        "id": "Y3mNQF2y66zw",
        "colab_type": "text"
      },
      "source": [
        "They're not all ancient, we'll have to filter"
      ]
    },
    {
      "cell_type": "code",
      "metadata": {
        "id": "NHRh4pzH40tR",
        "colab_type": "code",
        "outputId": "2fa882a3-6cb6-4660-9650-3fd077468b28",
        "colab": {
          "base_uri": "https://localhost:8080/",
          "height": 187
        }
      },
      "source": [
        "!head -n10 zhwikisource-20200301-pages-articles-multistream-index.txt"
      ],
      "execution_count": 3,
      "outputs": [
        {
          "output_type": "stream",
          "text": [
            "671:6:論語\n",
            "671:7:论语\n",
            "671:8:大學\n",
            "671:9:中華民國憲法\n",
            "671:11:南京條約\n",
            "671:14:條約\n",
            "671:15:条约\n",
            "671:16:诗歌\n",
            "671:17:正氣歌\n",
            "671:18:长恨歌\n"
          ],
          "name": "stdout"
        }
      ]
    },
    {
      "cell_type": "code",
      "metadata": {
        "id": "CwBReLe64aI-",
        "colab_type": "code",
        "outputId": "965d188b-c263-4b4f-8373-ad1ee27d8a29",
        "colab": {
          "base_uri": "https://localhost:8080/",
          "height": 34
        }
      },
      "source": [
        "!cat zhwikisource-20200301-pages-articles-multistream-index.txt|wc -l"
      ],
      "execution_count": 4,
      "outputs": [
        {
          "output_type": "stream",
          "text": [
            "944774\n"
          ],
          "name": "stdout"
        }
      ]
    },
    {
      "cell_type": "markdown",
      "metadata": {
        "id": "Mj5_2C315TpB",
        "colab_type": "text"
      },
      "source": [
        "## Text data in xml"
      ]
    },
    {
      "cell_type": "code",
      "metadata": {
        "id": "pEdWX5Z547-L",
        "colab_type": "code",
        "outputId": "409bf7d8-2389-436d-de71-4ff91076e4ba",
        "colab": {
          "base_uri": "https://localhost:8080/",
          "height": 204
        }
      },
      "source": [
        "!wget https://dumps.wikimedia.org/zhwikisource/20200301/zhwikisource-20200301-pages-meta-current.xml.bz2"
      ],
      "execution_count": 5,
      "outputs": [
        {
          "output_type": "stream",
          "text": [
            "--2020-04-07 01:37:29--  https://dumps.wikimedia.org/zhwikisource/20200301/zhwikisource-20200301-pages-meta-current.xml.bz2\n",
            "Resolving dumps.wikimedia.org (dumps.wikimedia.org)... 208.80.154.7, 2620:0:861:1:208:80:154:7\n",
            "Connecting to dumps.wikimedia.org (dumps.wikimedia.org)|208.80.154.7|:443... connected.\n",
            "HTTP request sent, awaiting response... 200 OK\n",
            "Length: 1819171855 (1.7G) [application/octet-stream]\n",
            "Saving to: ‘zhwikisource-20200301-pages-meta-current.xml.bz2’\n",
            "\n",
            "zhwikisource-202003 100%[===================>]   1.69G  4.53MB/s    in 6m 14s  \n",
            "\n",
            "2020-04-07 01:43:43 (4.64 MB/s) - ‘zhwikisource-20200301-pages-meta-current.xml.bz2’ saved [1819171855/1819171855]\n",
            "\n"
          ],
          "name": "stdout"
        }
      ]
    },
    {
      "cell_type": "code",
      "metadata": {
        "id": "3Kt0Wmb-5H2O",
        "colab_type": "code",
        "colab": {}
      },
      "source": [
        "!bzip2 -d zhwikisource-20200301-pages-meta-current.xml.bz2"
      ],
      "execution_count": 0,
      "outputs": []
    },
    {
      "cell_type": "code",
      "metadata": {
        "id": "aYsCCw-h7Bwk",
        "colab_type": "code",
        "outputId": "dd807f0d-b4a8-4f35-9e0d-8f026bfe05ca",
        "colab": {
          "base_uri": "https://localhost:8080/",
          "height": 51
        }
      },
      "source": [
        "!du -sh zhwiki*"
      ],
      "execution_count": 7,
      "outputs": [
        {
          "output_type": "stream",
          "text": [
            "61M\tzhwikisource-20200301-pages-articles-multistream-index.txt\n",
            "5.7G\tzhwikisource-20200301-pages-meta-current.xml\n"
          ],
          "name": "stdout"
        }
      ]
    },
    {
      "cell_type": "code",
      "metadata": {
        "id": "rXFyiDL_BW_i",
        "colab_type": "code",
        "outputId": "530ca5c7-8abc-43ec-82ca-8b7502d4ca19",
        "colab": {
          "base_uri": "https://localhost:8080/",
          "height": 102
        }
      },
      "source": [
        "!git clone https://github.com/attardi/wikiextractor"
      ],
      "execution_count": 8,
      "outputs": [
        {
          "output_type": "stream",
          "text": [
            "Cloning into 'wikiextractor'...\n",
            "remote: Enumerating objects: 613, done.\u001b[K\n",
            "Receiving objects:   0% (1/613)   \rReceiving objects:   1% (7/613)   \rReceiving objects:   2% (13/613)   \rReceiving objects:   3% (19/613)   \rReceiving objects:   4% (25/613)   \rReceiving objects:   5% (31/613)   \rReceiving objects:   6% (37/613)   \rReceiving objects:   7% (43/613)   \rReceiving objects:   8% (50/613)   \rReceiving objects:   9% (56/613)   \rReceiving objects:  10% (62/613)   \rReceiving objects:  11% (68/613)   \rReceiving objects:  12% (74/613)   \rReceiving objects:  13% (80/613)   \rReceiving objects:  14% (86/613)   \rReceiving objects:  15% (92/613)   \rReceiving objects:  16% (99/613)   \rReceiving objects:  17% (105/613)   \rReceiving objects:  18% (111/613)   \rReceiving objects:  19% (117/613)   \rReceiving objects:  20% (123/613)   \rReceiving objects:  21% (129/613)   \rReceiving objects:  22% (135/613)   \rReceiving objects:  23% (141/613)   \rReceiving objects:  24% (148/613)   \rReceiving objects:  25% (154/613)   \rReceiving objects:  26% (160/613)   \rReceiving objects:  27% (166/613)   \rReceiving objects:  28% (172/613)   \rReceiving objects:  29% (178/613)   \rReceiving objects:  30% (184/613)   \rReceiving objects:  31% (191/613)   \rReceiving objects:  32% (197/613)   \rReceiving objects:  33% (203/613)   \rReceiving objects:  34% (209/613)   \rReceiving objects:  35% (215/613)   \rReceiving objects:  36% (221/613)   \rReceiving objects:  37% (227/613)   \rReceiving objects:  38% (233/613)   \rReceiving objects:  39% (240/613)   \rReceiving objects:  40% (246/613)   \rReceiving objects:  41% (252/613)   \rReceiving objects:  42% (258/613)   \rReceiving objects:  43% (264/613)   \rReceiving objects:  44% (270/613)   \rReceiving objects:  45% (276/613)   \rReceiving objects:  46% (282/613)   \rReceiving objects:  47% (289/613)   \rReceiving objects:  48% (295/613)   \rReceiving objects:  49% (301/613)   \rReceiving objects:  50% (307/613)   \rReceiving objects:  51% (313/613)   \rReceiving objects:  52% (319/613)   \rReceiving objects:  53% (325/613)   \rReceiving objects:  54% (332/613)   \rReceiving objects:  55% (338/613)   \rReceiving objects:  56% (344/613)   \rReceiving objects:  57% (350/613)   \rReceiving objects:  58% (356/613)   \rReceiving objects:  59% (362/613)   \rReceiving objects:  60% (368/613)   \rReceiving objects:  61% (374/613)   \rReceiving objects:  62% (381/613)   \rReceiving objects:  63% (387/613)   \rReceiving objects:  64% (393/613)   \rReceiving objects:  65% (399/613)   \rReceiving objects:  66% (405/613)   \rReceiving objects:  67% (411/613)   \rReceiving objects:  68% (417/613)   \rReceiving objects:  69% (423/613)   \rReceiving objects:  70% (430/613)   \rReceiving objects:  71% (436/613)   \rReceiving objects:  72% (442/613)   \rReceiving objects:  73% (448/613)   \rReceiving objects:  74% (454/613)   \rReceiving objects:  75% (460/613)   \rReceiving objects:  76% (466/613)   \rReceiving objects:  77% (473/613)   \rReceiving objects:  78% (479/613)   \rReceiving objects:  79% (485/613)   \rReceiving objects:  80% (491/613)   \rReceiving objects:  81% (497/613)   \rReceiving objects:  82% (503/613)   \rReceiving objects:  83% (509/613)   \rReceiving objects:  84% (515/613)   \rremote: Total 613 (delta 0), reused 0 (delta 0), pack-reused 613\u001b[K\n",
            "Receiving objects:  85% (522/613)   \rReceiving objects:  86% (528/613)   \rReceiving objects:  87% (534/613)   \rReceiving objects:  88% (540/613)   \rReceiving objects:  89% (546/613)   \rReceiving objects:  90% (552/613)   \rReceiving objects:  91% (558/613)   \rReceiving objects:  92% (564/613)   \rReceiving objects:  93% (571/613)   \rReceiving objects:  94% (577/613)   \rReceiving objects:  95% (583/613)   \rReceiving objects:  96% (589/613)   \rReceiving objects:  97% (595/613)   \rReceiving objects:  98% (601/613)   \rReceiving objects:  99% (607/613)   \rReceiving objects: 100% (613/613)   \rReceiving objects: 100% (613/613), 1.24 MiB | 14.44 MiB/s, done.\n",
            "Resolving deltas:   0% (0/352)   \rResolving deltas:   2% (8/352)   \rResolving deltas:   7% (25/352)   \rResolving deltas:  25% (89/352)   \rResolving deltas:  43% (153/352)   \rResolving deltas:  44% (156/352)   \rResolving deltas:  45% (159/352)   \rResolving deltas:  46% (165/352)   \rResolving deltas:  56% (198/352)   \rResolving deltas:  63% (222/352)   \rResolving deltas:  65% (232/352)   \rResolving deltas:  68% (241/352)   \rResolving deltas:  70% (249/352)   \rResolving deltas:  71% (250/352)   \rResolving deltas:  73% (257/352)   \rResolving deltas:  76% (269/352)   \rResolving deltas:  84% (299/352)   \rResolving deltas:  85% (300/352)   \rResolving deltas:  87% (309/352)   \rResolving deltas:  88% (311/352)   \rResolving deltas:  89% (314/352)   \rResolving deltas:  90% (317/352)   \rResolving deltas:  91% (322/352)   \rResolving deltas: 100% (352/352)   \rResolving deltas: 100% (352/352), done.\n"
          ],
          "name": "stdout"
        }
      ]
    },
    {
      "cell_type": "code",
      "metadata": {
        "id": "ACrB6N3E0KYe",
        "colab_type": "code",
        "outputId": "e1d2ec1c-e0ad-45a8-8398-41aa370e1d0c",
        "colab": {
          "base_uri": "https://localhost:8080/",
          "height": 51
        }
      },
      "source": [
        "!ls"
      ],
      "execution_count": 9,
      "outputs": [
        {
          "output_type": "stream",
          "text": [
            "sample_data    zhwikisource-20200301-pages-articles-multistream-index.txt\n",
            "wikiextractor  zhwikisource-20200301-pages-meta-current.xml\n"
          ],
          "name": "stdout"
        }
      ]
    },
    {
      "cell_type": "code",
      "metadata": {
        "id": "K8hPA33swN_N",
        "colab_type": "code",
        "outputId": "4b8de9da-865c-46af-f598-4530a3f7d94c",
        "colab": {
          "base_uri": "https://localhost:8080/",
          "height": 153
        }
      },
      "source": [
        "!python wikiextractor/WikiExtractor.py --processes 4 -ns 0,100,102,14,114 -q --json zhwikisource-20200301-pages-meta-current.xml"
      ],
      "execution_count": 10,
      "outputs": [
        {
          "output_type": "stream",
          "text": [
            "WARNING: Template errors in article '全唐詩/卷264' (62037): title(1) recursion(0, 0, 0)\n",
            "WARNING: Template errors in article '華陽國志/卷三' (62107): title(1) recursion(0, 0, 0)\n",
            "WARNING: Template errors in article '佛說梵志計水淨經' (184297): title(1) recursion(0, 0, 0)\n",
            "WARNING: Template errors in article '脈經/卷06' (351359): title(1) recursion(0, 0, 0)\n",
            "WARNING: Template errors in article '心史/咸淳集' (363607): title(1) recursion(0, 0, 0)\n",
            "WARNING: Template errors in article '雙溪醉隱集/卷3' (881992): title(83) recursion(0, 0, 0)\n",
            "WARNING: Template errors in article '中興小紀/卷31' (1000286): title(1) recursion(0, 0, 0)\n",
            "WARNING: Template errors in article '基于多源雷达高度计数据的高亚洲湖泊水位变化数据集' (1007283): title(3) recursion(0, 0, 0)\n"
          ],
          "name": "stdout"
        }
      ]
    },
    {
      "cell_type": "code",
      "metadata": {
        "id": "yNhPG1RaweGJ",
        "colab_type": "code",
        "outputId": "ef27c4ad-4e32-4e58-d644-a1eec0208beb",
        "colab": {
          "base_uri": "https://localhost:8080/",
          "height": 68
        }
      },
      "source": [
        "!ls"
      ],
      "execution_count": 11,
      "outputs": [
        {
          "output_type": "stream",
          "text": [
            "sample_data    zhwikisource-20200301-pages-articles-multistream-index.txt\n",
            "text\t       zhwikisource-20200301-pages-meta-current.xml\n",
            "wikiextractor\n"
          ],
          "name": "stdout"
        }
      ]
    },
    {
      "cell_type": "markdown",
      "metadata": {
        "id": "qqziydPUZdME",
        "colab_type": "text"
      },
      "source": [
        "Count file numbers"
      ]
    },
    {
      "cell_type": "code",
      "metadata": {
        "id": "-Rk0PxcaLMbW",
        "colab_type": "code",
        "colab": {}
      },
      "source": [
        "from glob import glob\n",
        "all_files =glob(\"text/*/wiki*\")"
      ],
      "execution_count": 0,
      "outputs": []
    },
    {
      "cell_type": "code",
      "metadata": {
        "id": "wxSk18nnLTKg",
        "colab_type": "code",
        "outputId": "07b8f5f2-d797-4e51-f7e5-d9e3b95df5fb",
        "colab": {
          "base_uri": "https://localhost:8080/",
          "height": 34
        }
      },
      "source": [
        "len(all_files)"
      ],
      "execution_count": 13,
      "outputs": [
        {
          "output_type": "execute_result",
          "data": {
            "text/plain": [
              "3237"
            ]
          },
          "metadata": {
            "tags": []
          },
          "execution_count": 13
        }
      ]
    },
    {
      "cell_type": "markdown",
      "metadata": {
        "id": "HH700EJwZmeG",
        "colab_type": "text"
      },
      "source": [
        "Compress the processed data file"
      ]
    },
    {
      "cell_type": "code",
      "metadata": {
        "id": "-6n5i-xILU6j",
        "colab_type": "code",
        "colab": {}
      },
      "source": [
        "! tar -czvf cntext.tar.gz text/ > compress_lit"
      ],
      "execution_count": 0,
      "outputs": []
    },
    {
      "cell_type": "code",
      "metadata": {
        "id": "FfaLtaG_Lf_n",
        "colab_type": "code",
        "colab": {
          "base_uri": "https://localhost:8080/",
          "height": 34
        },
        "outputId": "f87ab659-f165-48df-dc98-2795a7df059a"
      },
      "source": [
        "!du -sh *tar.gz"
      ],
      "execution_count": 15,
      "outputs": [
        {
          "output_type": "stream",
          "text": [
            "1.4G\tcntext.tar.gz\n"
          ],
          "name": "stdout"
        }
      ]
    },
    {
      "cell_type": "markdown",
      "metadata": {
        "id": "-M7ZWGWQjmSi",
        "colab_type": "text"
      },
      "source": [
        "Save to google drive"
      ]
    },
    {
      "cell_type": "code",
      "metadata": {
        "id": "x09n0NdHhQG2",
        "colab_type": "code",
        "colab": {
          "base_uri": "https://localhost:8080/",
          "height": 122
        },
        "outputId": "4889906a-b193-4d3b-bc0e-a6d0c859d8f3"
      },
      "source": [
        "from google.colab import drive\n",
        "drive.mount(\"gdrive\")"
      ],
      "execution_count": 16,
      "outputs": [
        {
          "output_type": "stream",
          "text": [
            "Go to this URL in a browser: https://accounts.google.com/o/oauth2/auth?client_id=947318989803-6bn6qk8qdgf4n4g3pfee6491hc0brc4i.apps.googleusercontent.com&redirect_uri=urn%3aietf%3awg%3aoauth%3a2.0%3aoob&response_type=code&scope=email%20https%3a%2f%2fwww.googleapis.com%2fauth%2fdocs.test%20https%3a%2f%2fwww.googleapis.com%2fauth%2fdrive%20https%3a%2f%2fwww.googleapis.com%2fauth%2fdrive.photos.readonly%20https%3a%2f%2fwww.googleapis.com%2fauth%2fpeopleapi.readonly\n",
            "\n",
            "Enter your authorization code:\n",
            "··········\n",
            "Mounted at gdrive\n"
          ],
          "name": "stdout"
        }
      ]
    },
    {
      "cell_type": "code",
      "metadata": {
        "id": "xMT3mur_jdT_",
        "colab_type": "code",
        "colab": {}
      },
      "source": [
        "!cp cntext.tar.gz gdrive/My\\ Drive/data/cntext.tar.gz"
      ],
      "execution_count": 0,
      "outputs": []
    },
    {
      "cell_type": "code",
      "metadata": {
        "id": "EIT6IQenj96k",
        "colab_type": "code",
        "colab": {
          "base_uri": "https://localhost:8080/",
          "height": 34
        },
        "outputId": "a1db8262-0163-49f4-90be-182452f08ae3"
      },
      "source": [
        "!md5sum cntext.tar.gz"
      ],
      "execution_count": 18,
      "outputs": [
        {
          "output_type": "stream",
          "text": [
            "1d91e3cbb936942b9dc78281648ed041  cntext.tar.gz\n"
          ],
          "name": "stdout"
        }
      ]
    },
    {
      "cell_type": "code",
      "metadata": {
        "id": "-3AeWO5iklvu",
        "colab_type": "code",
        "colab": {
          "base_uri": "https://localhost:8080/",
          "height": 34
        },
        "outputId": "e6138b8c-007d-4677-aa99-bc0d1e1c672f"
      },
      "source": [
        "!md5sum gdrive/My\\ Drive/data/cntext.tar.gz"
      ],
      "execution_count": 19,
      "outputs": [
        {
          "output_type": "stream",
          "text": [
            "1d91e3cbb936942b9dc78281648ed041  gdrive/My Drive/data/cntext.tar.gz\n"
          ],
          "name": "stdout"
        }
      ]
    },
    {
      "cell_type": "code",
      "metadata": {
        "id": "__UW2bq8koqt",
        "colab_type": "code",
        "colab": {}
      },
      "source": [
        ""
      ],
      "execution_count": 0,
      "outputs": []
    }
  ]
}