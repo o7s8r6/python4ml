{
  "nbformat": 4,
  "nbformat_minor": 0,
  "metadata": {
    "colab": {
      "name": "05_extract_wiki.ipynb",
      "provenance": [],
      "collapsed_sections": [],
      "authorship_tag": "ABX9TyOxD5lf2QPHN1K1T9yCMxkE",
      "include_colab_link": true
    },
    "kernelspec": {
      "name": "python3",
      "display_name": "Python 3"
    }
  },
  "cells": [
    {
      "cell_type": "markdown",
      "metadata": {
        "id": "view-in-github",
        "colab_type": "text"
      },
      "source": [
        "<a href=\"https://colab.research.google.com/github/raynardj/python4ml/blob/master/experiments/ancient_cn/05_extract_wiki.ipynb\" target=\"_parent\"><img src=\"https://colab.research.google.com/assets/colab-badge.svg\" alt=\"Open In Colab\"/></a>"
      ]
    },
    {
      "cell_type": "markdown",
      "metadata": {
        "id": "clhUALjg4LET",
        "colab_type": "text"
      },
      "source": [
        "# Ancient Chinese Data\n",
        "> Process the [ZhWikiSource data](https://dumps.wikimedia.org/zhwikisource/20200301/)"
      ]
    },
    {
      "cell_type": "markdown",
      "metadata": {
        "id": "xbtwZfFr5Odi",
        "colab_type": "text"
      },
      "source": [
        "## Meta file: index.text"
      ]
    },
    {
      "cell_type": "code",
      "metadata": {
        "id": "CM_bx63O38Jk",
        "colab_type": "code",
        "colab": {
          "base_uri": "https://localhost:8080/",
          "height": 204
        },
        "outputId": "49f0a6d5-7683-489e-f165-6d51986e5732"
      },
      "source": [
        "!wget https://dumps.wikimedia.org/zhwikisource/20200301/zhwikisource-20200301-pages-articles-multistream-index.txt.bz2"
      ],
      "execution_count": 1,
      "outputs": [
        {
          "output_type": "stream",
          "text": [
            "--2020-04-06 14:09:36--  https://dumps.wikimedia.org/zhwikisource/20200301/zhwikisource-20200301-pages-articles-multistream-index.txt.bz2\n",
            "Resolving dumps.wikimedia.org (dumps.wikimedia.org)... 208.80.154.7, 2620:0:861:1:208:80:154:7\n",
            "Connecting to dumps.wikimedia.org (dumps.wikimedia.org)|208.80.154.7|:443... connected.\n",
            "HTTP request sent, awaiting response... 200 OK\n",
            "Length: 5155089 (4.9M) [application/octet-stream]\n",
            "Saving to: ‘zhwikisource-20200301-pages-articles-multistream-index.txt.bz2’\n",
            "\n",
            "zhwikisource-202003 100%[===================>]   4.92M  3.26MB/s    in 1.5s    \n",
            "\n",
            "2020-04-06 14:09:39 (3.26 MB/s) - ‘zhwikisource-20200301-pages-articles-multistream-index.txt.bz2’ saved [5155089/5155089]\n",
            "\n"
          ],
          "name": "stdout"
        }
      ]
    },
    {
      "cell_type": "markdown",
      "metadata": {
        "id": "FT8x9E1-5_uA",
        "colab_type": "text"
      },
      "source": [
        "Decompress with bzip2"
      ]
    },
    {
      "cell_type": "code",
      "metadata": {
        "id": "6V5RASJS4hTP",
        "colab_type": "code",
        "colab": {
          "base_uri": "https://localhost:8080/",
          "height": 34
        },
        "outputId": "bf049197-cbb2-4710-92ee-ede159a28799"
      },
      "source": [
        "!bzip2 -d zhwikisource-20200301-pages-articles-multistream-index.txt.bz2"
      ],
      "execution_count": 2,
      "outputs": [
        {
          "output_type": "stream",
          "text": [
            "bzip2: Output file zhwikisource-20200301-pages-articles-multistream-index.txt already exists.\n"
          ],
          "name": "stdout"
        }
      ]
    },
    {
      "cell_type": "markdown",
      "metadata": {
        "id": "Y3mNQF2y66zw",
        "colab_type": "text"
      },
      "source": [
        "They're not all ancient, we'll have to filter"
      ]
    },
    {
      "cell_type": "code",
      "metadata": {
        "id": "NHRh4pzH40tR",
        "colab_type": "code",
        "colab": {
          "base_uri": "https://localhost:8080/",
          "height": 187
        },
        "outputId": "893cfa87-b594-4223-96e1-b63a3c8cbc43"
      },
      "source": [
        "!head -n10 zhwikisource-20200301-pages-articles-multistream-index.txt"
      ],
      "execution_count": 3,
      "outputs": [
        {
          "output_type": "stream",
          "text": [
            "671:6:論語\n",
            "671:7:论语\n",
            "671:8:大學\n",
            "671:9:中華民國憲法\n",
            "671:11:南京條約\n",
            "671:14:條約\n",
            "671:15:条约\n",
            "671:16:诗歌\n",
            "671:17:正氣歌\n",
            "671:18:长恨歌\n"
          ],
          "name": "stdout"
        }
      ]
    },
    {
      "cell_type": "code",
      "metadata": {
        "id": "CwBReLe64aI-",
        "colab_type": "code",
        "colab": {
          "base_uri": "https://localhost:8080/",
          "height": 34
        },
        "outputId": "2299aba3-ead1-472d-956c-09d02e67b201"
      },
      "source": [
        "!cat zhwikisource-20200301-pages-articles-multistream-index.txt|wc -l"
      ],
      "execution_count": 4,
      "outputs": [
        {
          "output_type": "stream",
          "text": [
            "944774\n"
          ],
          "name": "stdout"
        }
      ]
    },
    {
      "cell_type": "markdown",
      "metadata": {
        "id": "Mj5_2C315TpB",
        "colab_type": "text"
      },
      "source": [
        "## Text data in xml"
      ]
    },
    {
      "cell_type": "code",
      "metadata": {
        "id": "pEdWX5Z547-L",
        "colab_type": "code",
        "colab": {
          "base_uri": "https://localhost:8080/",
          "height": 204
        },
        "outputId": "438b3122-5053-4e65-aaa7-d4905b044a23"
      },
      "source": [
        "!wget https://dumps.wikimedia.org/zhwikisource/20200301/zhwikisource-20200301-pages-meta-current.xml.bz2"
      ],
      "execution_count": 5,
      "outputs": [
        {
          "output_type": "stream",
          "text": [
            "--2020-04-06 14:09:50--  https://dumps.wikimedia.org/zhwikisource/20200301/zhwikisource-20200301-pages-meta-current.xml.bz2\n",
            "Resolving dumps.wikimedia.org (dumps.wikimedia.org)... 208.80.154.7, 2620:0:861:1:208:80:154:7\n",
            "Connecting to dumps.wikimedia.org (dumps.wikimedia.org)|208.80.154.7|:443... connected.\n",
            "HTTP request sent, awaiting response... 200 OK\n",
            "Length: 1819171855 (1.7G) [application/octet-stream]\n",
            "Saving to: ‘zhwikisource-20200301-pages-meta-current.xml.bz2’\n",
            "\n",
            "zhwikisource-202003 100%[===================>]   1.69G  4.68MB/s    in 6m 14s  \n",
            "\n",
            "2020-04-06 14:16:05 (4.64 MB/s) - ‘zhwikisource-20200301-pages-meta-current.xml.bz2’ saved [1819171855/1819171855]\n",
            "\n"
          ],
          "name": "stdout"
        }
      ]
    },
    {
      "cell_type": "code",
      "metadata": {
        "id": "3Kt0Wmb-5H2O",
        "colab_type": "code",
        "colab": {
          "base_uri": "https://localhost:8080/",
          "height": 34
        },
        "outputId": "baace3e1-a91f-4512-d137-32c51cb0f951"
      },
      "source": [
        "!bzip2 -d zhwikisource-20200301-pages-meta-current.xml.bz2"
      ],
      "execution_count": 6,
      "outputs": [
        {
          "output_type": "stream",
          "text": [
            "bzip2: Output file zhwikisource-20200301-pages-meta-current.xml already exists.\n"
          ],
          "name": "stdout"
        }
      ]
    },
    {
      "cell_type": "code",
      "metadata": {
        "id": "aYsCCw-h7Bwk",
        "colab_type": "code",
        "colab": {
          "base_uri": "https://localhost:8080/",
          "height": 85
        },
        "outputId": "28c95711-832d-4951-aa72-fdb0f4008ceb"
      },
      "source": [
        "!du -sh zhwiki*"
      ],
      "execution_count": 7,
      "outputs": [
        {
          "output_type": "stream",
          "text": [
            "61M\tzhwikisource-20200301-pages-articles-multistream-index.txt\n",
            "5.0M\tzhwikisource-20200301-pages-articles-multistream-index.txt.bz2\n",
            "5.7G\tzhwikisource-20200301-pages-meta-current.xml\n",
            "1.7G\tzhwikisource-20200301-pages-meta-current.xml.bz2\n"
          ],
          "name": "stdout"
        }
      ]
    },
    {
      "cell_type": "code",
      "metadata": {
        "id": "rXFyiDL_BW_i",
        "colab_type": "code",
        "colab": {
          "base_uri": "https://localhost:8080/",
          "height": 34
        },
        "outputId": "4aa205e7-8533-41cc-cbb2-b8cb52516ffa"
      },
      "source": [
        "!git clone https://github.com/attardi/wikiextractor"
      ],
      "execution_count": 8,
      "outputs": [
        {
          "output_type": "stream",
          "text": [
            "fatal: destination path 'wikiextractor' already exists and is not an empty directory.\n"
          ],
          "name": "stdout"
        }
      ]
    },
    {
      "cell_type": "code",
      "metadata": {
        "id": "ACrB6N3E0KYe",
        "colab_type": "code",
        "colab": {
          "base_uri": "https://localhost:8080/",
          "height": 136
        },
        "outputId": "728a6b4f-09b6-4413-c17c-f6a1da8e0f59"
      },
      "source": [
        "!ls"
      ],
      "execution_count": 9,
      "outputs": [
        {
          "output_type": "stream",
          "text": [
            "sample_data\n",
            "text\n",
            "wikiextractor\n",
            "zhwikisource-20200301-pages-articles-multistream-index.txt\n",
            "zhwikisource-20200301-pages-articles-multistream-index.txt.bz2\n",
            "zhwikisource-20200301-pages-meta-current.xml\n",
            "zhwikisource-20200301-pages-meta-current.xml.bz2\n"
          ],
          "name": "stdout"
        }
      ]
    },
    {
      "cell_type": "code",
      "metadata": {
        "id": "K8hPA33swN_N",
        "colab_type": "code",
        "colab": {
          "base_uri": "https://localhost:8080/",
          "height": 153
        },
        "outputId": "027405eb-c77b-4132-fa00-3267621b1538"
      },
      "source": [
        "!python wikiextractor/WikiExtractor.py --processes 4 -ns 0,100,102,14,114 -q --json zhwikisource-20200301-pages-meta-current.xml"
      ],
      "execution_count": 10,
      "outputs": [
        {
          "output_type": "stream",
          "text": [
            "WARNING: Template errors in article '全唐詩/卷264' (62037): title(1) recursion(0, 0, 0)\n",
            "WARNING: Template errors in article '華陽國志/卷三' (62107): title(1) recursion(0, 0, 0)\n",
            "WARNING: Template errors in article '佛說梵志計水淨經' (184297): title(1) recursion(0, 0, 0)\n",
            "WARNING: Template errors in article '脈經/卷06' (351359): title(1) recursion(0, 0, 0)\n",
            "WARNING: Template errors in article '心史/咸淳集' (363607): title(1) recursion(0, 0, 0)\n",
            "WARNING: Template errors in article '雙溪醉隱集/卷3' (881992): title(83) recursion(0, 0, 0)\n",
            "WARNING: Template errors in article '中興小紀/卷31' (1000286): title(1) recursion(0, 0, 0)\n",
            "WARNING: Template errors in article '基于多源雷达高度计数据的高亚洲湖泊水位变化数据集' (1007283): title(3) recursion(0, 0, 0)\n"
          ],
          "name": "stdout"
        }
      ]
    },
    {
      "cell_type": "code",
      "metadata": {
        "id": "yNhPG1RaweGJ",
        "colab_type": "code",
        "colab": {
          "base_uri": "https://localhost:8080/",
          "height": 136
        },
        "outputId": "9cbd33fa-512c-4dd3-fa40-72a0a098ccf0"
      },
      "source": [
        "!ls"
      ],
      "execution_count": 13,
      "outputs": [
        {
          "output_type": "stream",
          "text": [
            "sample_data\n",
            "text\n",
            "wikiextractor\n",
            "zhwikisource-20200301-pages-articles-multistream-index.txt\n",
            "zhwikisource-20200301-pages-articles-multistream-index.txt.bz2\n",
            "zhwikisource-20200301-pages-meta-current.xml\n",
            "zhwikisource-20200301-pages-meta-current.xml.bz2\n"
          ],
          "name": "stdout"
        }
      ]
    },
    {
      "cell_type": "code",
      "metadata": {
        "id": "Ke4murmCA4up",
        "colab_type": "code",
        "colab": {
          "base_uri": "https://localhost:8080/"
        },
        "outputId": "2a3331d3-5fb6-4d42-e014-4e2858f70829"
      },
      "source": [
        "!du -sh text"
      ],
      "execution_count": 13,
      "outputs": [
        {
          "output_type": "error",
          "ename": "SyntaxError",
          "evalue": "ignored",
          "traceback": [
            "\u001b[0;36m  File \u001b[0;32m\"<ipython-input-14-07c45cba79c8>\"\u001b[0;36m, line \u001b[0;32m1\u001b[0m\n\u001b[0;31m    du -sh text\u001b[0m\n\u001b[0m              ^\u001b[0m\n\u001b[0;31mSyntaxError\u001b[0m\u001b[0;31m:\u001b[0m invalid syntax\n"
          ]
        }
      ]
    },
    {
      "cell_type": "code",
      "metadata": {
        "id": "_nTgr5N8K9v5",
        "colab_type": "code",
        "colab": {
          "base_uri": "https://localhost:8080/"
        },
        "outputId": "cc3ff9db-bab0-4635-a415-fb94a3d5cd79"
      },
      "source": [
        "from glob import glob"
      ],
      "execution_count": 14,
      "outputs": [
        {
          "output_type": "stream",
          "text": [
            "ERROR! Session/line number was not unique in database. History logging moved to new session 62\n"
          ],
          "name": "stdout"
        }
      ]
    },
    {
      "cell_type": "code",
      "metadata": {
        "id": "-Rk0PxcaLMbW",
        "colab_type": "code",
        "colab": {}
      },
      "source": [
        "all_files =glob(\"text/*/wiki*\")"
      ],
      "execution_count": 0,
      "outputs": []
    },
    {
      "cell_type": "code",
      "metadata": {
        "id": "wxSk18nnLTKg",
        "colab_type": "code",
        "colab": {
          "base_uri": "https://localhost:8080/",
          "height": 34
        },
        "outputId": "de18fead-f39f-4226-9834-3248d24cba6d"
      },
      "source": [
        "len(all_files)"
      ],
      "execution_count": 16,
      "outputs": [
        {
          "output_type": "execute_result",
          "data": {
            "text/plain": [
              "3237"
            ]
          },
          "metadata": {
            "tags": []
          },
          "execution_count": 16
        }
      ]
    },
    {
      "cell_type": "code",
      "metadata": {
        "id": "-6n5i-xILU6j",
        "colab_type": "code",
        "colab": {
          "base_uri": "https://localhost:8080/"
        },
        "outputId": "5d166983-d3be-49ad-baae-aaccf04c9f5a"
      },
      "source": [
        "! tar -czvf cntext.tar.gz text/ > torm"
      ],
      "execution_count": 17,
      "outputs": [
        {
          "output_type": "stream",
          "text": [
            "text/\n",
            "text/AM/\n",
            "text/AM/wiki_12\n",
            "text/AM/wiki_57\n",
            "text/AM/wiki_52\n",
            "text/AM/wiki_89\n",
            "text/AM/wiki_37\n",
            "text/AM/wiki_94\n",
            "text/AM/wiki_63\n",
            "text/AM/wiki_65\n",
            "text/AM/wiki_43\n",
            "text/AM/wiki_21\n",
            "text/AM/wiki_29\n",
            "text/AM/wiki_59\n",
            "text/AM/wiki_88\n",
            "text/AM/wiki_46\n",
            "text/AM/wiki_90\n",
            "text/AM/wiki_50\n",
            "text/AM/wiki_68\n",
            "text/AM/wiki_49\n",
            "text/AM/wiki_71\n",
            "text/AM/wiki_48\n",
            "text/AM/wiki_96\n",
            "text/AM/wiki_05\n",
            "text/AM/wiki_87\n",
            "text/AM/wiki_53\n",
            "text/AM/wiki_06\n",
            "text/AM/wiki_17\n",
            "text/AM/wiki_18\n",
            "text/AM/wiki_47\n",
            "text/AM/wiki_72\n",
            "text/AM/wiki_45\n",
            "text/AM/wiki_30\n",
            "text/AM/wiki_74\n",
            "text/AM/wiki_82\n",
            "text/AM/wiki_64\n",
            "text/AM/wiki_81\n",
            "text/AM/wiki_33\n",
            "text/AM/wiki_61\n",
            "text/AM/wiki_77\n",
            "text/AM/wiki_44\n",
            "text/AM/wiki_41\n",
            "text/AM/wiki_23\n",
            "text/AM/wiki_92\n",
            "text/AM/wiki_20\n",
            "text/AM/wiki_24\n",
            "text/AM/wiki_09\n",
            "text/AM/wiki_03\n",
            "text/AM/wiki_11\n",
            "text/AM/wiki_80\n",
            "text/AM/wiki_27\n",
            "text/AM/wiki_08\n",
            "text/AM/wiki_04\n",
            "text/AM/wiki_73\n",
            "text/AM/wiki_54\n",
            "text/AM/wiki_02\n",
            "text/AM/wiki_83\n",
            "text/AM/wiki_98\n",
            "text/AM/wiki_19\n",
            "text/AM/wiki_34\n",
            "text/AM/wiki_67\n",
            "text/AM/wiki_62\n",
            "text/AM/wiki_07\n",
            "text/AM/wiki_85\n",
            "text/AM/wiki_78\n",
            "text/AM/wiki_13\n",
            "text/AM/wiki_28\n",
            "text/AM/wiki_58\n",
            "text/AM/wiki_32\n",
            "text/AM/wiki_16\n",
            "text/AM/wiki_00\n",
            "text/AM/wiki_10\n",
            "text/AM/wiki_69\n",
            "text/AM/wiki_86\n",
            "text/AM/wiki_79\n",
            "text/AM/wiki_55\n",
            "text/AM/wiki_76\n",
            "text/AM/wiki_93\n",
            "text/AM/wiki_15\n",
            "text/AM/wiki_25\n",
            "text/AM/wiki_99\n",
            "text/AM/wiki_70\n",
            "text/AM/wiki_51\n",
            "text/AM/wiki_60\n",
            "text/AM/wiki_22\n",
            "text/AM/wiki_38\n",
            "text/AM/wiki_35\n",
            "text/AM/wiki_75\n",
            "text/AM/wiki_91\n",
            "text/AM/wiki_97\n",
            "text/AM/wiki_01\n",
            "text/AM/wiki_95\n",
            "text/AM/wiki_14\n",
            "text/AM/wiki_84\n",
            "text/AM/wiki_26\n",
            "text/AM/wiki_56\n",
            "text/AM/wiki_39\n",
            "text/AM/wiki_36\n",
            "text/AM/wiki_66\n",
            "text/AM/wiki_31\n",
            "text/AM/wiki_42\n",
            "text/AM/wiki_40\n",
            "text/AV/\n",
            "text/AV/wiki_12\n",
            "text/AV/wiki_57\n",
            "text/AV/wiki_52\n",
            "text/AV/wiki_89\n",
            "text/AV/wiki_37\n",
            "text/AV/wiki_94\n",
            "text/AV/wiki_63\n",
            "text/AV/wiki_65\n",
            "text/AV/wiki_43\n",
            "text/AV/wiki_21\n",
            "text/AV/wiki_29\n",
            "text/AV/wiki_59\n",
            "text/AV/wiki_88\n",
            "text/AV/wiki_46\n",
            "text/AV/wiki_90\n",
            "text/AV/wiki_50\n",
            "text/AV/wiki_68\n",
            "text/AV/wiki_49\n",
            "text/AV/wiki_71\n",
            "text/AV/wiki_48\n",
            "text/AV/wiki_96\n",
            "text/AV/wiki_05\n",
            "text/AV/wiki_87\n",
            "text/AV/wiki_53\n",
            "text/AV/wiki_06\n",
            "text/AV/wiki_17\n",
            "text/AV/wiki_18\n",
            "text/AV/wiki_47\n",
            "text/AV/wiki_72\n",
            "text/AV/wiki_45\n",
            "text/AV/wiki_30\n",
            "text/AV/wiki_74\n",
            "text/AV/wiki_82\n",
            "text/AV/wiki_64\n",
            "text/AV/wiki_81\n",
            "text/AV/wiki_33\n",
            "text/AV/wiki_61\n",
            "text/AV/wiki_77\n",
            "text/AV/wiki_44\n",
            "text/AV/wiki_41\n",
            "text/AV/wiki_23\n",
            "text/AV/wiki_92\n",
            "text/AV/wiki_20\n",
            "text/AV/wiki_24\n",
            "text/AV/wiki_09\n",
            "text/AV/wiki_03\n",
            "text/AV/wiki_11\n",
            "text/AV/wiki_80\n",
            "text/AV/wiki_27\n",
            "text/AV/wiki_08\n",
            "text/AV/wiki_04\n",
            "text/AV/wiki_73\n",
            "text/AV/wiki_54\n",
            "text/AV/wiki_02\n",
            "text/AV/wiki_83\n",
            "text/AV/wiki_98\n",
            "text/AV/wiki_19\n",
            "text/AV/wiki_34\n",
            "text/AV/wiki_67\n",
            "text/AV/wiki_62\n",
            "text/AV/wiki_07\n",
            "text/AV/wiki_85\n",
            "text/AV/wiki_78\n",
            "text/AV/wiki_13\n",
            "text/AV/wiki_28\n",
            "text/AV/wiki_58\n",
            "text/AV/wiki_32\n",
            "text/AV/wiki_16\n",
            "text/AV/wiki_00\n",
            "text/AV/wiki_10\n",
            "text/AV/wiki_69\n",
            "text/AV/wiki_86\n",
            "text/AV/wiki_79\n",
            "text/AV/wiki_55\n",
            "text/AV/wiki_76\n",
            "text/AV/wiki_93\n",
            "text/AV/wiki_15\n",
            "text/AV/wiki_25\n"
          ],
          "name": "stdout"
        },
        {
          "output_type": "error",
          "ename": "KeyboardInterrupt",
          "evalue": "ignored",
          "traceback": [
            "\u001b[0;31m---------------------------------------------------------------------------\u001b[0m",
            "\u001b[0;31mKeyboardInterrupt\u001b[0m                         Traceback (most recent call last)",
            "\u001b[0;32m<ipython-input-17-fe9bdb3a11ec>\u001b[0m in \u001b[0;36m<module>\u001b[0;34m()\u001b[0m\n\u001b[0;32m----> 1\u001b[0;31m \u001b[0mget_ipython\u001b[0m\u001b[0;34m(\u001b[0m\u001b[0;34m)\u001b[0m\u001b[0;34m.\u001b[0m\u001b[0msystem\u001b[0m\u001b[0;34m(\u001b[0m\u001b[0;34m' tar -czvf cntext.tar.gz text/'\u001b[0m\u001b[0;34m)\u001b[0m\u001b[0;34m\u001b[0m\u001b[0;34m\u001b[0m\u001b[0m\n\u001b[0m",
            "\u001b[0;32m/usr/local/lib/python3.6/dist-packages/google/colab/_shell.py\u001b[0m in \u001b[0;36msystem\u001b[0;34m(self, *args, **kwargs)\u001b[0m\n\u001b[1;32m     94\u001b[0m       \u001b[0mkwargs\u001b[0m\u001b[0;34m.\u001b[0m\u001b[0mupdate\u001b[0m\u001b[0;34m(\u001b[0m\u001b[0;34m{\u001b[0m\u001b[0;34m'also_return_output'\u001b[0m\u001b[0;34m:\u001b[0m \u001b[0;32mTrue\u001b[0m\u001b[0;34m}\u001b[0m\u001b[0;34m)\u001b[0m\u001b[0;34m\u001b[0m\u001b[0;34m\u001b[0m\u001b[0m\n\u001b[1;32m     95\u001b[0m \u001b[0;34m\u001b[0m\u001b[0m\n\u001b[0;32m---> 96\u001b[0;31m     \u001b[0moutput\u001b[0m \u001b[0;34m=\u001b[0m \u001b[0m_system_commands\u001b[0m\u001b[0;34m.\u001b[0m\u001b[0m_system_compat\u001b[0m\u001b[0;34m(\u001b[0m\u001b[0mself\u001b[0m\u001b[0;34m,\u001b[0m \u001b[0;34m*\u001b[0m\u001b[0margs\u001b[0m\u001b[0;34m,\u001b[0m \u001b[0;34m**\u001b[0m\u001b[0mkwargs\u001b[0m\u001b[0;34m)\u001b[0m  \u001b[0;31m# pylint:disable=protected-access\u001b[0m\u001b[0;34m\u001b[0m\u001b[0;34m\u001b[0m\u001b[0m\n\u001b[0m\u001b[1;32m     97\u001b[0m \u001b[0;34m\u001b[0m\u001b[0m\n\u001b[1;32m     98\u001b[0m     \u001b[0;32mif\u001b[0m \u001b[0mpip_warn\u001b[0m\u001b[0;34m:\u001b[0m\u001b[0;34m\u001b[0m\u001b[0;34m\u001b[0m\u001b[0m\n",
            "\u001b[0;32m/usr/local/lib/python3.6/dist-packages/google/colab/_system_commands.py\u001b[0m in \u001b[0;36m_system_compat\u001b[0;34m(shell, cmd, also_return_output)\u001b[0m\n\u001b[1;32m    436\u001b[0m   \u001b[0;31m# stack.\u001b[0m\u001b[0;34m\u001b[0m\u001b[0;34m\u001b[0m\u001b[0;34m\u001b[0m\u001b[0m\n\u001b[1;32m    437\u001b[0m   result = _run_command(\n\u001b[0;32m--> 438\u001b[0;31m       shell.var_expand(cmd, depth=2), clear_streamed_output=False)\n\u001b[0m\u001b[1;32m    439\u001b[0m   \u001b[0mshell\u001b[0m\u001b[0;34m.\u001b[0m\u001b[0muser_ns\u001b[0m\u001b[0;34m[\u001b[0m\u001b[0;34m'_exit_code'\u001b[0m\u001b[0;34m]\u001b[0m \u001b[0;34m=\u001b[0m \u001b[0mresult\u001b[0m\u001b[0;34m.\u001b[0m\u001b[0mreturncode\u001b[0m\u001b[0;34m\u001b[0m\u001b[0;34m\u001b[0m\u001b[0m\n\u001b[1;32m    440\u001b[0m   \u001b[0;32mif\u001b[0m \u001b[0;34m-\u001b[0m\u001b[0mresult\u001b[0m\u001b[0;34m.\u001b[0m\u001b[0mreturncode\u001b[0m \u001b[0;32min\u001b[0m \u001b[0m_INTERRUPTED_SIGNALS\u001b[0m\u001b[0;34m:\u001b[0m\u001b[0;34m\u001b[0m\u001b[0;34m\u001b[0m\u001b[0m\n",
            "\u001b[0;32m/usr/local/lib/python3.6/dist-packages/google/colab/_system_commands.py\u001b[0m in \u001b[0;36m_run_command\u001b[0;34m(cmd, clear_streamed_output)\u001b[0m\n\u001b[1;32m    193\u001b[0m       \u001b[0mos\u001b[0m\u001b[0;34m.\u001b[0m\u001b[0mclose\u001b[0m\u001b[0;34m(\u001b[0m\u001b[0mchild_pty\u001b[0m\u001b[0;34m)\u001b[0m\u001b[0;34m\u001b[0m\u001b[0;34m\u001b[0m\u001b[0m\n\u001b[1;32m    194\u001b[0m \u001b[0;34m\u001b[0m\u001b[0m\n\u001b[0;32m--> 195\u001b[0;31m       \u001b[0;32mreturn\u001b[0m \u001b[0m_monitor_process\u001b[0m\u001b[0;34m(\u001b[0m\u001b[0mparent_pty\u001b[0m\u001b[0;34m,\u001b[0m \u001b[0mepoll\u001b[0m\u001b[0;34m,\u001b[0m \u001b[0mp\u001b[0m\u001b[0;34m,\u001b[0m \u001b[0mcmd\u001b[0m\u001b[0;34m,\u001b[0m \u001b[0mupdate_stdin_widget\u001b[0m\u001b[0;34m)\u001b[0m\u001b[0;34m\u001b[0m\u001b[0;34m\u001b[0m\u001b[0m\n\u001b[0m\u001b[1;32m    196\u001b[0m   \u001b[0;32mfinally\u001b[0m\u001b[0;34m:\u001b[0m\u001b[0;34m\u001b[0m\u001b[0;34m\u001b[0m\u001b[0m\n\u001b[1;32m    197\u001b[0m     \u001b[0mepoll\u001b[0m\u001b[0;34m.\u001b[0m\u001b[0mclose\u001b[0m\u001b[0;34m(\u001b[0m\u001b[0;34m)\u001b[0m\u001b[0;34m\u001b[0m\u001b[0;34m\u001b[0m\u001b[0m\n",
            "\u001b[0;32m/usr/lib/python3.6/contextlib.py\u001b[0m in \u001b[0;36m__exit__\u001b[0;34m(self, type, value, traceback)\u001b[0m\n\u001b[1;32m     86\u001b[0m         \u001b[0;32mif\u001b[0m \u001b[0mtype\u001b[0m \u001b[0;32mis\u001b[0m \u001b[0;32mNone\u001b[0m\u001b[0;34m:\u001b[0m\u001b[0;34m\u001b[0m\u001b[0;34m\u001b[0m\u001b[0m\n\u001b[1;32m     87\u001b[0m             \u001b[0;32mtry\u001b[0m\u001b[0;34m:\u001b[0m\u001b[0;34m\u001b[0m\u001b[0;34m\u001b[0m\u001b[0m\n\u001b[0;32m---> 88\u001b[0;31m                 \u001b[0mnext\u001b[0m\u001b[0;34m(\u001b[0m\u001b[0mself\u001b[0m\u001b[0;34m.\u001b[0m\u001b[0mgen\u001b[0m\u001b[0;34m)\u001b[0m\u001b[0;34m\u001b[0m\u001b[0;34m\u001b[0m\u001b[0m\n\u001b[0m\u001b[1;32m     89\u001b[0m             \u001b[0;32mexcept\u001b[0m \u001b[0mStopIteration\u001b[0m\u001b[0;34m:\u001b[0m\u001b[0;34m\u001b[0m\u001b[0;34m\u001b[0m\u001b[0m\n\u001b[1;32m     90\u001b[0m                 \u001b[0;32mreturn\u001b[0m \u001b[0;32mFalse\u001b[0m\u001b[0;34m\u001b[0m\u001b[0;34m\u001b[0m\u001b[0m\n",
            "\u001b[0;32m/usr/local/lib/python3.6/dist-packages/google/colab/_system_commands.py\u001b[0m in \u001b[0;36m_display_stdin_widget\u001b[0;34m(delay_millis)\u001b[0m\n\u001b[1;32m    353\u001b[0m \u001b[0;34m\u001b[0m\u001b[0m\n\u001b[1;32m    354\u001b[0m   \u001b[0mhide_args\u001b[0m \u001b[0;34m=\u001b[0m \u001b[0;34m[\u001b[0m\u001b[0;34m'cell_remove_stdin'\u001b[0m\u001b[0;34m,\u001b[0m \u001b[0;34m{\u001b[0m\u001b[0;34m}\u001b[0m\u001b[0;34m]\u001b[0m\u001b[0;34m\u001b[0m\u001b[0;34m\u001b[0m\u001b[0m\n\u001b[0;32m--> 355\u001b[0;31m   \u001b[0m_message\u001b[0m\u001b[0;34m.\u001b[0m\u001b[0mblocking_request\u001b[0m\u001b[0;34m(\u001b[0m\u001b[0;34m*\u001b[0m\u001b[0mhide_args\u001b[0m\u001b[0;34m,\u001b[0m \u001b[0mparent\u001b[0m\u001b[0;34m=\u001b[0m\u001b[0mshell\u001b[0m\u001b[0;34m.\u001b[0m\u001b[0mparent_header\u001b[0m\u001b[0;34m)\u001b[0m\u001b[0;34m\u001b[0m\u001b[0;34m\u001b[0m\u001b[0m\n\u001b[0m\u001b[1;32m    356\u001b[0m \u001b[0;34m\u001b[0m\u001b[0m\n\u001b[1;32m    357\u001b[0m \u001b[0;34m\u001b[0m\u001b[0m\n",
            "\u001b[0;32m/usr/local/lib/python3.6/dist-packages/google/colab/_message.py\u001b[0m in \u001b[0;36mblocking_request\u001b[0;34m(request_type, request, timeout_sec, parent)\u001b[0m\n\u001b[1;32m    169\u001b[0m   \u001b[0;31m# unique.\u001b[0m\u001b[0;34m\u001b[0m\u001b[0;34m\u001b[0m\u001b[0;34m\u001b[0m\u001b[0m\n\u001b[1;32m    170\u001b[0m   \u001b[0mrequest_id\u001b[0m \u001b[0;34m=\u001b[0m \u001b[0msend_request\u001b[0m\u001b[0;34m(\u001b[0m\u001b[0mrequest_type\u001b[0m\u001b[0;34m,\u001b[0m \u001b[0mrequest\u001b[0m\u001b[0;34m,\u001b[0m \u001b[0mparent\u001b[0m\u001b[0;34m=\u001b[0m\u001b[0mparent\u001b[0m\u001b[0;34m)\u001b[0m\u001b[0;34m\u001b[0m\u001b[0;34m\u001b[0m\u001b[0m\n\u001b[0;32m--> 171\u001b[0;31m   \u001b[0;32mreturn\u001b[0m \u001b[0mread_reply_from_input\u001b[0m\u001b[0;34m(\u001b[0m\u001b[0mrequest_id\u001b[0m\u001b[0;34m,\u001b[0m \u001b[0mtimeout_sec\u001b[0m\u001b[0;34m)\u001b[0m\u001b[0;34m\u001b[0m\u001b[0;34m\u001b[0m\u001b[0m\n\u001b[0m",
            "\u001b[0;32m/usr/local/lib/python3.6/dist-packages/google/colab/_message.py\u001b[0m in \u001b[0;36mread_reply_from_input\u001b[0;34m(message_id, timeout_sec)\u001b[0m\n\u001b[1;32m     99\u001b[0m     \u001b[0mreply\u001b[0m \u001b[0;34m=\u001b[0m \u001b[0m_read_next_input_message\u001b[0m\u001b[0;34m(\u001b[0m\u001b[0;34m)\u001b[0m\u001b[0;34m\u001b[0m\u001b[0;34m\u001b[0m\u001b[0m\n\u001b[1;32m    100\u001b[0m     \u001b[0;32mif\u001b[0m \u001b[0mreply\u001b[0m \u001b[0;34m==\u001b[0m \u001b[0m_NOT_READY\u001b[0m \u001b[0;32mor\u001b[0m \u001b[0;32mnot\u001b[0m \u001b[0misinstance\u001b[0m\u001b[0;34m(\u001b[0m\u001b[0mreply\u001b[0m\u001b[0;34m,\u001b[0m \u001b[0mdict\u001b[0m\u001b[0;34m)\u001b[0m\u001b[0;34m:\u001b[0m\u001b[0;34m\u001b[0m\u001b[0;34m\u001b[0m\u001b[0m\n\u001b[0;32m--> 101\u001b[0;31m       \u001b[0mtime\u001b[0m\u001b[0;34m.\u001b[0m\u001b[0msleep\u001b[0m\u001b[0;34m(\u001b[0m\u001b[0;36m0.025\u001b[0m\u001b[0;34m)\u001b[0m\u001b[0;34m\u001b[0m\u001b[0;34m\u001b[0m\u001b[0m\n\u001b[0m\u001b[1;32m    102\u001b[0m       \u001b[0;32mcontinue\u001b[0m\u001b[0;34m\u001b[0m\u001b[0;34m\u001b[0m\u001b[0m\n\u001b[1;32m    103\u001b[0m     if (reply.get('type') == 'colab_reply' and\n",
            "\u001b[0;31mKeyboardInterrupt\u001b[0m: "
          ]
        }
      ]
    },
    {
      "cell_type": "code",
      "metadata": {
        "id": "FfaLtaG_Lf_n",
        "colab_type": "code",
        "colab": {}
      },
      "source": [
        ""
      ],
      "execution_count": 0,
      "outputs": []
    }
  ]
}