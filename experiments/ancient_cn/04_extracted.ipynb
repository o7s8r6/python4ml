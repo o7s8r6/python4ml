{
 "cells": [
  {
   "cell_type": "markdown",
   "metadata": {},
   "source": [
    "# indexing the processed text"
   ]
  },
  {
   "cell_type": "markdown",
   "metadata": {},
   "source": [
    "[wikiextract](http://medialab.di.unipi.it/wiki/Wikipedia_Extractor) \n",
    "```shell\n",
    "python ~/github/wikiextractor/WikiExtractor.py --processes 4 -ns 0,100,102,14,114 --json zhwikisource-20200301-pages-articles-multistream.xml\n",
    "\n",
    "python ~/github/wikiextractor/WikiExtractor.py --processes 4 -ns 104 --json zhwikisource-20200301-pages-articles-multistream.xml\n",
    "```"
   ]
  },
  {
   "cell_type": "code",
   "execution_count": 1,
   "metadata": {},
   "outputs": [],
   "source": [
    "from pathlib import Path\n",
    "from glob import glob\n",
    "import json\n",
    "import pandas as pd\n",
    "import os\n",
    "import sys"
   ]
  },
  {
   "cell_type": "code",
   "execution_count": 3,
   "metadata": {},
   "outputs": [],
   "source": [
    "HOME = Path(os.environ[\"HOME\"])\n",
    "\n",
    "DATA = Path(HOME/\"data\"/\"zhwiki\")"
   ]
  },
  {
   "cell_type": "code",
   "execution_count": 15,
   "metadata": {},
   "outputs": [
    {
     "name": "stdout",
     "output_type": "stream",
     "text": [
      "3237\n"
     ]
    },
    {
     "data": {
      "text/plain": [
       "['/Users/salvor/data/zhwiki/text/AX/wiki_73',\n",
       " '/Users/salvor/data/zhwiki/text/AX/wiki_87',\n",
       " '/Users/salvor/data/zhwiki/text/AX/wiki_80',\n",
       " '/Users/salvor/data/zhwiki/text/AX/wiki_74',\n",
       " '/Users/salvor/data/zhwiki/text/AX/wiki_89']"
      ]
     },
     "execution_count": 15,
     "metadata": {},
     "output_type": "execute_result"
    }
   ],
   "source": [
    "all_files = glob(str(DATA/\"text\"/\"*\"/\"*\"))\n",
    "print(len(all_files))\n",
    "all_files[:5]"
   ]
  },
  {
   "cell_type": "code",
   "execution_count": 22,
   "metadata": {},
   "outputs": [],
   "source": [
    "def file_to_dict(path):\n",
    "    with open(path,\"r\") as f:\n",
    "        while True:\n",
    "            line = f.readline()\n",
    "            if line:\n",
    "                yield json.loads(line)\n",
    "            else:\n",
    "                break"
   ]
  },
  {
   "cell_type": "code",
   "execution_count": 29,
   "metadata": {},
   "outputs": [],
   "source": [
    "def batch_df(path):\n",
    "    return pd.DataFrame(list(d for d in file_to_dict(path)))"
   ]
  },
  {
   "cell_type": "code",
   "execution_count": 40,
   "metadata": {},
   "outputs": [],
   "source": [
    "def hash_name(name):\n",
    "    return hex(abs(hash(name)))"
   ]
  },
  {
   "cell_type": "code",
   "execution_count": 39,
   "metadata": {},
   "outputs": [
    {
     "data": {
      "text/html": [
       "<div>\n",
       "<style scoped>\n",
       "    .dataframe tbody tr th:only-of-type {\n",
       "        vertical-align: middle;\n",
       "    }\n",
       "\n",
       "    .dataframe tbody tr th {\n",
       "        vertical-align: top;\n",
       "    }\n",
       "\n",
       "    .dataframe thead th {\n",
       "        text-align: right;\n",
       "    }\n",
       "</style>\n",
       "<table border=\"1\" class=\"dataframe\">\n",
       "  <thead>\n",
       "    <tr style=\"text-align: right;\">\n",
       "      <th></th>\n",
       "      <th>id</th>\n",
       "      <th>url</th>\n",
       "      <th>title</th>\n",
       "      <th>text</th>\n",
       "    </tr>\n",
       "  </thead>\n",
       "  <tbody>\n",
       "    <tr>\n",
       "      <th>0</th>\n",
       "      <td>311031</td>\n",
       "      <td>https://zh.wikisource.org/wiki?curid=311031</td>\n",
       "      <td>十先生奥論註 (四庫全書本)/續集卷15</td>\n",
       "      <td>十先生奥論註 (四庫全書本)/續集卷15\\n\\n&lt;onlyinclude&gt;&lt;poem&gt;　　欽...</td>\n",
       "    </tr>\n",
       "    <tr>\n",
       "      <th>1</th>\n",
       "      <td>311032</td>\n",
       "      <td>https://zh.wikisource.org/wiki?curid=311032</td>\n",
       "      <td>兩宋名賢小集 (四庫全書本)/卷263</td>\n",
       "      <td>兩宋名賢小集 (四庫全書本)/卷263\\n\\n&lt;onlyinclude&gt;&lt;poem&gt;　　欽定...</td>\n",
       "    </tr>\n",
       "    <tr>\n",
       "      <th>2</th>\n",
       "      <td>311033</td>\n",
       "      <td>https://zh.wikisource.org/wiki?curid=311033</td>\n",
       "      <td>十先生奥論註 (四庫全書本)/全覽1</td>\n",
       "      <td>十先生奥論註 (四庫全書本)/全覽1\\n\\n﻿\\n﻿\\n﻿\\n﻿\\n﻿\\n﻿\\n﻿\\n﻿\\n...</td>\n",
       "    </tr>\n",
       "    <tr>\n",
       "      <th>3</th>\n",
       "      <td>311034</td>\n",
       "      <td>https://zh.wikisource.org/wiki?curid=311034</td>\n",
       "      <td>龜巢稿 (四庫全書本)/卷14</td>\n",
       "      <td>龜巢稿 (四庫全書本)/卷14\\n\\n&lt;onlyinclude&gt;&lt;poem&gt;　　欽定四庫全書...</td>\n",
       "    </tr>\n",
       "    <tr>\n",
       "      <th>4</th>\n",
       "      <td>311035</td>\n",
       "      <td>https://zh.wikisource.org/wiki?curid=311035</td>\n",
       "      <td>兩宋名賢小集 (四庫全書本)/卷264</td>\n",
       "      <td>兩宋名賢小集 (四庫全書本)/卷264\\n\\n&lt;onlyinclude&gt;&lt;poem&gt;　　欽定...</td>\n",
       "    </tr>\n",
       "    <tr>\n",
       "      <th>...</th>\n",
       "      <td>...</td>\n",
       "      <td>...</td>\n",
       "      <td>...</td>\n",
       "      <td>...</td>\n",
       "    </tr>\n",
       "    <tr>\n",
       "      <th>62</th>\n",
       "      <td>311097</td>\n",
       "      <td>https://zh.wikisource.org/wiki?curid=311097</td>\n",
       "      <td>兩宋名賢小集 (四庫全書本)/卷299</td>\n",
       "      <td>兩宋名賢小集 (四庫全書本)/卷299\\n\\n&lt;onlyinclude&gt;&lt;poem&gt;　　欽定...</td>\n",
       "    </tr>\n",
       "    <tr>\n",
       "      <th>63</th>\n",
       "      <td>311098</td>\n",
       "      <td>https://zh.wikisource.org/wiki?curid=311098</td>\n",
       "      <td>兩宋名賢小集 (四庫全書本)/卷300</td>\n",
       "      <td>兩宋名賢小集 (四庫全書本)/卷300\\n\\n&lt;onlyinclude&gt;&lt;poem&gt;　　欽定...</td>\n",
       "    </tr>\n",
       "    <tr>\n",
       "      <th>64</th>\n",
       "      <td>311099</td>\n",
       "      <td>https://zh.wikisource.org/wiki?curid=311099</td>\n",
       "      <td>南齊文紀 (四庫全書本)/卷07</td>\n",
       "      <td>南齊文紀 (四庫全書本)/卷07\\n\\n&lt;onlyinclude&gt;&lt;poem&gt;　　欽定四庫全...</td>\n",
       "    </tr>\n",
       "    <tr>\n",
       "      <th>65</th>\n",
       "      <td>311100</td>\n",
       "      <td>https://zh.wikisource.org/wiki?curid=311100</td>\n",
       "      <td>兩宋名賢小集 (四庫全書本)/卷301</td>\n",
       "      <td>兩宋名賢小集 (四庫全書本)/卷301\\n\\n&lt;onlyinclude&gt;&lt;poem&gt;　　欽定...</td>\n",
       "    </tr>\n",
       "    <tr>\n",
       "      <th>66</th>\n",
       "      <td>311101</td>\n",
       "      <td>https://zh.wikisource.org/wiki?curid=311101</td>\n",
       "      <td>兩宋名賢小集 (四庫全書本)/卷302</td>\n",
       "      <td>兩宋名賢小集 (四庫全書本)/卷302\\n\\n&lt;onlyinclude&gt;&lt;poem&gt;　　欽定...</td>\n",
       "    </tr>\n",
       "  </tbody>\n",
       "</table>\n",
       "<p>67 rows × 4 columns</p>\n",
       "</div>"
      ],
      "text/plain": [
       "        id                                          url                 title  \\\n",
       "0   311031  https://zh.wikisource.org/wiki?curid=311031  十先生奥論註 (四庫全書本)/續集卷15   \n",
       "1   311032  https://zh.wikisource.org/wiki?curid=311032   兩宋名賢小集 (四庫全書本)/卷263   \n",
       "2   311033  https://zh.wikisource.org/wiki?curid=311033    十先生奥論註 (四庫全書本)/全覽1   \n",
       "3   311034  https://zh.wikisource.org/wiki?curid=311034       龜巢稿 (四庫全書本)/卷14   \n",
       "4   311035  https://zh.wikisource.org/wiki?curid=311035   兩宋名賢小集 (四庫全書本)/卷264   \n",
       "..     ...                                          ...                   ...   \n",
       "62  311097  https://zh.wikisource.org/wiki?curid=311097   兩宋名賢小集 (四庫全書本)/卷299   \n",
       "63  311098  https://zh.wikisource.org/wiki?curid=311098   兩宋名賢小集 (四庫全書本)/卷300   \n",
       "64  311099  https://zh.wikisource.org/wiki?curid=311099      南齊文紀 (四庫全書本)/卷07   \n",
       "65  311100  https://zh.wikisource.org/wiki?curid=311100   兩宋名賢小集 (四庫全書本)/卷301   \n",
       "66  311101  https://zh.wikisource.org/wiki?curid=311101   兩宋名賢小集 (四庫全書本)/卷302   \n",
       "\n",
       "                                                 text  \n",
       "0   十先生奥論註 (四庫全書本)/續集卷15\\n\\n<onlyinclude><poem>　　欽...  \n",
       "1   兩宋名賢小集 (四庫全書本)/卷263\\n\\n<onlyinclude><poem>　　欽定...  \n",
       "2   十先生奥論註 (四庫全書本)/全覽1\\n\\n﻿\\n﻿\\n﻿\\n﻿\\n﻿\\n﻿\\n﻿\\n﻿\\n...  \n",
       "3   龜巢稿 (四庫全書本)/卷14\\n\\n<onlyinclude><poem>　　欽定四庫全書...  \n",
       "4   兩宋名賢小集 (四庫全書本)/卷264\\n\\n<onlyinclude><poem>　　欽定...  \n",
       "..                                                ...  \n",
       "62  兩宋名賢小集 (四庫全書本)/卷299\\n\\n<onlyinclude><poem>　　欽定...  \n",
       "63  兩宋名賢小集 (四庫全書本)/卷300\\n\\n<onlyinclude><poem>　　欽定...  \n",
       "64  南齊文紀 (四庫全書本)/卷07\\n\\n<onlyinclude><poem>　　欽定四庫全...  \n",
       "65  兩宋名賢小集 (四庫全書本)/卷301\\n\\n<onlyinclude><poem>　　欽定...  \n",
       "66  兩宋名賢小集 (四庫全書本)/卷302\\n\\n<onlyinclude><poem>　　欽定...  \n",
       "\n",
       "[67 rows x 4 columns]"
      ]
     },
     "execution_count": 39,
     "metadata": {},
     "output_type": "execute_result"
    }
   ],
   "source": [
    "batch_df(all_files[0])"
   ]
  },
  {
   "cell_type": "markdown",
   "metadata": {},
   "source": [
    "Create saving destination"
   ]
  },
  {
   "cell_type": "code",
   "execution_count": 53,
   "metadata": {},
   "outputs": [],
   "source": [
    "!mkdir -p {DATA/\"cn_text\"}"
   ]
  },
  {
   "cell_type": "markdown",
   "metadata": {},
   "source": [
    "Saving text instead of json"
   ]
  },
  {
   "cell_type": "code",
   "execution_count": 56,
   "metadata": {},
   "outputs": [],
   "source": [
    "def save_text(row):\n",
    "    rid = row[\"id\"]\n",
    "    hashed = hash_name(row[\"title\"])\n",
    "    filename = f\"{rid}_{hashed}.txt\"\n",
    "    with open(DATA/\"cn_text\"/filename,\"w\") as f:\n",
    "        f.write(row[\"text\"])\n",
    "    return filename"
   ]
  },
  {
   "cell_type": "code",
   "execution_count": 62,
   "metadata": {},
   "outputs": [
    {
     "name": "stdout",
     "output_type": "stream",
     "text": [
      "/Users/salvor/data/zhwiki/text/AZ/wiki_37"
     ]
    }
   ],
   "source": [
    "for path in all_files:\n",
    "    df = batch_df(path)\n",
    "    df[\"filename\"] = df.apply(save_text, axis=1)\n",
    "    df[[\"id\",\"url\",\"title\",\"filename\"]].to_csv(DATA/\"zhwikisource_title.csv\",\n",
    "                                               header=False,\n",
    "                                               index=False,\n",
    "                                               mode=\"a\", )\n",
    "    os.system(f\"rm {path}\")\n",
    "    sys.stdout.write(f\"\\r{path}\")"
   ]
  },
  {
   "cell_type": "code",
   "execution_count": 6,
   "metadata": {},
   "outputs": [
    {
     "name": "stdout",
     "output_type": "stream",
     "text": [
      "/Users/salvor/data/zhwiki/cn_text/*ff.txt"
     ]
    }
   ],
   "source": [
    "for i in list([0,1,2,3,4,5,6,7,8,9,\"a\",\"b\",\"c\",\"d\",\"e\",\"f\"]):\n",
    "    for j in list([0,1,2,3,4,5,6,7,8,9,\"a\",\"b\",\"c\",\"d\",\"e\",\"f\"]):\n",
    "        path = str(f\"/Users/salvor/data/zhwiki/cn_text/*{i}{j}.txt\")\n",
    "        os.system(f\"rm -rf {path}\")\n",
    "        sys.stdout.write(f\"\\r{path}\")"
   ]
  },
  {
   "cell_type": "code",
   "execution_count": 3,
   "metadata": {},
   "outputs": [],
   "source": [
    "df = pd.read_csv(\"/Users/salvor/data/cn_titles.csv\")"
   ]
  },
  {
   "cell_type": "code",
   "execution_count": 5,
   "metadata": {},
   "outputs": [],
   "source": [
    "for uuid in df.uuid:\n",
    "    os.system(f\"rm -rf /Users/salvor/data/cn_text/{uuid}.txt\")"
   ]
  },
  {
   "cell_type": "code",
   "execution_count": null,
   "metadata": {},
   "outputs": [],
   "source": []
  }
 ],
 "metadata": {
  "kernelspec": {
   "display_name": "Python 3",
   "language": "python",
   "name": "python3"
  },
  "language_info": {
   "codemirror_mode": {
    "name": "ipython",
    "version": 3
   },
   "file_extension": ".py",
   "mimetype": "text/x-python",
   "name": "python",
   "nbconvert_exporter": "python",
   "pygments_lexer": "ipython3",
   "version": "3.7.4"
  }
 },
 "nbformat": 4,
 "nbformat_minor": 4
}
