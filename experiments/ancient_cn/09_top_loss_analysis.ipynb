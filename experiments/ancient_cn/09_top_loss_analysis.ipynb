{
 "cells": [
  {
   "cell_type": "markdown",
   "metadata": {},
   "source": [
    "# Top loss analysis\n",
    "\n",
    "> Analyze the top loss, from BERT classification predicition, against manual rule base label"
   ]
  },
  {
   "cell_type": "code",
   "execution_count": 289,
   "metadata": {},
   "outputs": [],
   "source": [
    "import pandas as pd\n",
    "import numpy as np\n",
    "import os\n",
    "from path import Path"
   ]
  },
  {
   "cell_type": "code",
   "execution_count": 290,
   "metadata": {},
   "outputs": [],
   "source": [
    "HOME = Path(os.environ[\"HOME\"])\n",
    "DATA = HOME/\"data\"\n",
    "\n",
    "LOSS_FILE = DATA/\"cntext_loss2.csv\""
   ]
  },
  {
   "cell_type": "code",
   "execution_count": 291,
   "metadata": {},
   "outputs": [],
   "source": [
    "df = pd.read_csv(LOSS_FILE)"
   ]
  },
  {
   "cell_type": "code",
   "execution_count": 292,
   "metadata": {},
   "outputs": [
    {
     "data": {
      "text/html": [
       "<div>\n",
       "<style scoped>\n",
       "    .dataframe tbody tr th:only-of-type {\n",
       "        vertical-align: middle;\n",
       "    }\n",
       "\n",
       "    .dataframe tbody tr th {\n",
       "        vertical-align: top;\n",
       "    }\n",
       "\n",
       "    .dataframe thead th {\n",
       "        text-align: right;\n",
       "    }\n",
       "</style>\n",
       "<table border=\"1\" class=\"dataframe\">\n",
       "  <thead>\n",
       "    <tr style=\"text-align: right;\">\n",
       "      <th></th>\n",
       "      <th>id</th>\n",
       "      <th>url</th>\n",
       "      <th>title</th>\n",
       "      <th>preview</th>\n",
       "      <th>isy</th>\n",
       "      <th>loss</th>\n",
       "      <th>loss2</th>\n",
       "    </tr>\n",
       "  </thead>\n",
       "  <tbody>\n",
       "    <tr>\n",
       "      <th>59746</th>\n",
       "      <td>131153</td>\n",
       "      <td>https://zh.wikisource.org/wiki?curid=131153</td>\n",
       "      <td>對貌似溫敏判</td>\n",
       "      <td>對貌似溫敏判\\n\\n&lt;onlyinclude&gt;（儒生溫敏歿，或有貌似敏者，而弟子共師之。縣令...</td>\n",
       "      <td>True</td>\n",
       "      <td>0.001660</td>\n",
       "      <td>1.520550e-03</td>\n",
       "    </tr>\n",
       "    <tr>\n",
       "      <th>2452</th>\n",
       "      <td>189007</td>\n",
       "      <td>https://zh.wikisource.org/wiki?curid=189007</td>\n",
       "      <td>民國演義/6</td>\n",
       "      <td>民國演義/6\\n\\n　　卻說清太保世續，召袁總理世凱入宮，當由隆裕后問及優待條件，曾否寄往南...</td>\n",
       "      <td>False</td>\n",
       "      <td>0.409088</td>\n",
       "      <td>6.502518e-01</td>\n",
       "    </tr>\n",
       "    <tr>\n",
       "      <th>197728</th>\n",
       "      <td>328518</td>\n",
       "      <td>https://zh.wikisource.org/wiki?curid=328518</td>\n",
       "      <td>中华人民共和国国务院令第500号</td>\n",
       "      <td>中华人民共和国国务院令第500号\\n\\n&lt;section begin=国务院令 /&gt;&lt;sec...</td>\n",
       "      <td>False</td>\n",
       "      <td>0.002379</td>\n",
       "      <td>3.039791e-05</td>\n",
       "    </tr>\n",
       "    <tr>\n",
       "      <th>72482</th>\n",
       "      <td>606738</td>\n",
       "      <td>https://zh.wikisource.org/wiki?curid=606738</td>\n",
       "      <td>與友人論服制書</td>\n",
       "      <td>與友人論服制書\\n\\n&lt;onlyinclude&gt;\\n增三年之喪為三十六月，起於唐弘文館直學士...</td>\n",
       "      <td>True</td>\n",
       "      <td>0.000128</td>\n",
       "      <td>9.334498e-04</td>\n",
       "    </tr>\n",
       "    <tr>\n",
       "      <th>295592</th>\n",
       "      <td>281454</td>\n",
       "      <td>https://zh.wikisource.org/wiki?curid=281454</td>\n",
       "      <td>文苑英華 (四庫全書本)/卷0415</td>\n",
       "      <td>文苑英華 (四庫全書本)/卷0415\\n\\n&lt;onlyinclude&gt;&lt;poem&gt;　　欽定四...</td>\n",
       "      <td>True</td>\n",
       "      <td>-0.000000</td>\n",
       "      <td>1.192093e-07</td>\n",
       "    </tr>\n",
       "    <tr>\n",
       "      <th>12378</th>\n",
       "      <td>341528</td>\n",
       "      <td>https://zh.wikisource.org/wiki?curid=341528</td>\n",
       "      <td>海國春秋/35</td>\n",
       "      <td>海國春秋/35\\n\\n&lt;onlyinclude&gt;\\n　　話說雙龍之北最大的島曰屏風島。其四面...</td>\n",
       "      <td>True</td>\n",
       "      <td>0.000939</td>\n",
       "      <td>4.825535e-02</td>\n",
       "    </tr>\n",
       "    <tr>\n",
       "      <th>74354</th>\n",
       "      <td>119625</td>\n",
       "      <td>https://zh.wikisource.org/wiki?curid=119625</td>\n",
       "      <td>縣令箴</td>\n",
       "      <td>縣令箴\\n\\n&lt;onlyinclude&gt;諮爾多士，各司厥官。政不欲猛，刑不欲寬。寬則人慢，猛...</td>\n",
       "      <td>True</td>\n",
       "      <td>0.000267</td>\n",
       "      <td>8.715169e-04</td>\n",
       "    </tr>\n",
       "    <tr>\n",
       "      <th>310753</th>\n",
       "      <td>308828</td>\n",
       "      <td>https://zh.wikisource.org/wiki?curid=308828</td>\n",
       "      <td>道園學古録 (四庫全書本)/卷33</td>\n",
       "      <td>道園學古録 (四庫全書本)/卷33\\n\\n&lt;onlyinclude&gt;&lt;poem&gt;　　欽定四庫...</td>\n",
       "      <td>True</td>\n",
       "      <td>-0.000000</td>\n",
       "      <td>0.000000e+00</td>\n",
       "    </tr>\n",
       "    <tr>\n",
       "      <th>220130</th>\n",
       "      <td>187340</td>\n",
       "      <td>https://zh.wikisource.org/wiki?curid=187340</td>\n",
       "      <td>中华人民共和国国务院公报/2000年/第10号</td>\n",
       "      <td>中华人民共和国国务院公报/2000年/第10号\\n</td>\n",
       "      <td>False</td>\n",
       "      <td>0.056589</td>\n",
       "      <td>1.656995e-05</td>\n",
       "    </tr>\n",
       "    <tr>\n",
       "      <th>59131</th>\n",
       "      <td>20434</td>\n",
       "      <td>https://zh.wikisource.org/wiki?curid=20434</td>\n",
       "      <td>周書/卷01</td>\n",
       "      <td>周書/卷01\\n\\n太祖文皇帝姓宇文氏，諱泰，字黑獺，代武川人也。其先出自炎帝神農氏，為黃帝...</td>\n",
       "      <td>True</td>\n",
       "      <td>0.000012</td>\n",
       "      <td>1.559829e-03</td>\n",
       "    </tr>\n",
       "  </tbody>\n",
       "</table>\n",
       "</div>"
      ],
      "text/plain": [
       "            id                                          url  \\\n",
       "59746   131153  https://zh.wikisource.org/wiki?curid=131153   \n",
       "2452    189007  https://zh.wikisource.org/wiki?curid=189007   \n",
       "197728  328518  https://zh.wikisource.org/wiki?curid=328518   \n",
       "72482   606738  https://zh.wikisource.org/wiki?curid=606738   \n",
       "295592  281454  https://zh.wikisource.org/wiki?curid=281454   \n",
       "12378   341528  https://zh.wikisource.org/wiki?curid=341528   \n",
       "74354   119625  https://zh.wikisource.org/wiki?curid=119625   \n",
       "310753  308828  https://zh.wikisource.org/wiki?curid=308828   \n",
       "220130  187340  https://zh.wikisource.org/wiki?curid=187340   \n",
       "59131    20434   https://zh.wikisource.org/wiki?curid=20434   \n",
       "\n",
       "                          title  \\\n",
       "59746                    對貌似溫敏判   \n",
       "2452                     民國演義/6   \n",
       "197728         中华人民共和国国务院令第500号   \n",
       "72482                   與友人論服制書   \n",
       "295592       文苑英華 (四庫全書本)/卷0415   \n",
       "12378                   海國春秋/35   \n",
       "74354                       縣令箴   \n",
       "310753        道園學古録 (四庫全書本)/卷33   \n",
       "220130  中华人民共和国国务院公报/2000年/第10号   \n",
       "59131                    周書/卷01   \n",
       "\n",
       "                                                  preview    isy      loss  \\\n",
       "59746   對貌似溫敏判\\n\\n<onlyinclude>（儒生溫敏歿，或有貌似敏者，而弟子共師之。縣令...   True  0.001660   \n",
       "2452    民國演義/6\\n\\n　　卻說清太保世續，召袁總理世凱入宮，當由隆裕后問及優待條件，曾否寄往南...  False  0.409088   \n",
       "197728  中华人民共和国国务院令第500号\\n\\n<section begin=国务院令 /><sec...  False  0.002379   \n",
       "72482   與友人論服制書\\n\\n<onlyinclude>\\n增三年之喪為三十六月，起於唐弘文館直學士...   True  0.000128   \n",
       "295592  文苑英華 (四庫全書本)/卷0415\\n\\n<onlyinclude><poem>　　欽定四...   True -0.000000   \n",
       "12378   海國春秋/35\\n\\n<onlyinclude>\\n　　話說雙龍之北最大的島曰屏風島。其四面...   True  0.000939   \n",
       "74354   縣令箴\\n\\n<onlyinclude>諮爾多士，各司厥官。政不欲猛，刑不欲寬。寬則人慢，猛...   True  0.000267   \n",
       "310753  道園學古録 (四庫全書本)/卷33\\n\\n<onlyinclude><poem>　　欽定四庫...   True -0.000000   \n",
       "220130                          中华人民共和国国务院公报/2000年/第10号\\n  False  0.056589   \n",
       "59131   周書/卷01\\n\\n太祖文皇帝姓宇文氏，諱泰，字黑獺，代武川人也。其先出自炎帝神農氏，為黃帝...   True  0.000012   \n",
       "\n",
       "               loss2  \n",
       "59746   1.520550e-03  \n",
       "2452    6.502518e-01  \n",
       "197728  3.039791e-05  \n",
       "72482   9.334498e-04  \n",
       "295592  1.192093e-07  \n",
       "12378   4.825535e-02  \n",
       "74354   8.715169e-04  \n",
       "310753  0.000000e+00  \n",
       "220130  1.656995e-05  \n",
       "59131   1.559829e-03  "
      ]
     },
     "execution_count": 292,
     "metadata": {},
     "output_type": "execute_result"
    }
   ],
   "source": [
    "df.sample(10)"
   ]
  },
  {
   "cell_type": "code",
   "execution_count": 293,
   "metadata": {},
   "outputs": [],
   "source": [
    "from ipywidgets import interact,interact_manual\n",
    "from IPython.display import display"
   ]
  },
  {
   "cell_type": "code",
   "execution_count": 294,
   "metadata": {},
   "outputs": [],
   "source": [
    "current_list = []"
   ]
  },
  {
   "cell_type": "code",
   "execution_count": 295,
   "metadata": {},
   "outputs": [],
   "source": [
    "def tag_false(r_list = []):\n",
    "    global current_list\n",
    "    global df\n",
    "    for i in r_list:\n",
    "        current_list.remove(i)\n",
    "    df.loc[df.id.isin(r_list),\"loss2\"] = df.loc[df.id.isin(r_list),\"loss2\"].apply(lambda x:-abs(x))\n",
    "    df.loc[df.id.isin(current_list),\"isy\"] = False"
   ]
  },
  {
   "cell_type": "code",
   "execution_count": 299,
   "metadata": {},
   "outputs": [],
   "source": [
    "def passneg(row):\n",
    "    if row[\"loss\"]<0:\n",
    "        return -abs(row[\"loss2\"])\n",
    "    else:\n",
    "        return row[\"loss2\"]\n",
    "\n",
    "df.loss2 = df.apply(passneg,axis=1)"
   ]
  },
  {
   "cell_type": "code",
   "execution_count": 296,
   "metadata": {},
   "outputs": [
    {
     "data": {
      "application/vnd.jupyter.widget-view+json": {
       "model_id": "4834f15a5004418db9d1f58691dea937",
       "version_major": 2,
       "version_minor": 0
      },
      "text/plain": [
       "interactive(children=(IntSlider(value=10, description='page', max=20, min=1), Output()), _dom_classes=('widget…"
      ]
     },
     "metadata": {},
     "output_type": "display_data"
    }
   ],
   "source": [
    "@interact\n",
    "def preview_top(page=(1,20,1)):\n",
    "    global current_list \n",
    "    stat = pd.DataFrame(df.isy.value_counts())\n",
    "    stat = stat.join(pd.DataFrame(df.loss.apply(lambda x:True if x<0 else False).value_counts()))\n",
    "    stat = stat.join(pd.DataFrame(df.loss2.apply(lambda x:True if x<0 else False).value_counts()))\n",
    "    display(stat)\n",
    "    \n",
    "    subdf = df[df.isy].sort_values(by=\"loss2\",ascending=False).head(page*20).tail(20)\n",
    "    current_list = list(subdf.id)\n",
    "    return subdf"
   ]
  },
  {
   "cell_type": "code",
   "execution_count": 355,
   "metadata": {},
   "outputs": [],
   "source": [
    "tag_false([])"
   ]
  },
  {
   "cell_type": "markdown",
   "metadata": {},
   "source": [
    "### Set true"
   ]
  },
  {
   "cell_type": "code",
   "execution_count": null,
   "metadata": {},
   "outputs": [],
   "source": []
  },
  {
   "cell_type": "code",
   "execution_count": 301,
   "metadata": {
    "scrolled": false
   },
   "outputs": [
    {
     "data": {
      "application/vnd.jupyter.widget-view+json": {
       "model_id": "1adcdc3bb2ef4f798d1450331bf4edba",
       "version_major": 2,
       "version_minor": 0
      },
      "text/plain": [
       "interactive(children=(Text(value='kw', description='kw'), Dropdown(description='col', options=('title', 'previ…"
      ]
     },
     "metadata": {},
     "output_type": "display_data"
    }
   ],
   "source": [
    "@interact_manual\n",
    "def set_true(kw =\"kw\",col = [\"title\",\"preview\"]):\n",
    "    if kw == \"kw\": return None\n",
    "    subdf = df[df[col].str.contains(kw)]\n",
    "    df.loc[df[col].str.contains(kw),\"isy\"] = True\n",
    "    df.loc[df[col].str.contains(kw),\"loss2\"] = subdf.loss.apply(lambda x: - abs(x))\n",
    "    return subdf"
   ]
  },
  {
   "cell_type": "markdown",
   "metadata": {},
   "source": [
    "### Set false"
   ]
  },
  {
   "cell_type": "code",
   "execution_count": null,
   "metadata": {},
   "outputs": [],
   "source": []
  },
  {
   "cell_type": "code",
   "execution_count": 300,
   "metadata": {},
   "outputs": [
    {
     "data": {
      "application/vnd.jupyter.widget-view+json": {
       "model_id": "f77d0956fb6648d092c9bbd6a6a54fa4",
       "version_major": 2,
       "version_minor": 0
      },
      "text/plain": [
       "interactive(children=(Text(value='kw', description='kw'), Dropdown(description='col', options=('title', 'previ…"
      ]
     },
     "metadata": {},
     "output_type": "display_data"
    }
   ],
   "source": [
    "@interact_manual\n",
    "def set_false(kw =\"kw\",col = [\"title\",\"preview\"]):\n",
    "    if kw == \"kw\": return None\n",
    "    subdf = df[df[col].str.contains(kw)]\n",
    "    df.loc[df[col].str.contains(kw),\"isy\"] = False\n",
    "    df.loc[df[col].str.contains(kw),\"loss2\"] = subdf.loss.apply(lambda x: - abs(x))\n",
    "    return subdf"
   ]
  },
  {
   "cell_type": "code",
   "execution_count": 358,
   "metadata": {},
   "outputs": [
    {
     "data": {
      "text/plain": [
       "['目前時局與我們的策略',\n",
       " '从独裁到民主/第三章',\n",
       " '红四方面军政治部: 筹款须知',\n",
       " '黨的策略應當是發展遊擊戰爭',\n",
       " '國民黨的一個根本問題',\n",
       " '我们在现阶段政治斗争的策略问题',\n",
       " '黨的中心工作要集中在倒蔣',\n",
       " '在中共“八七”會議上的發言',\n",
       " '目前中國革命的中心問題',\n",
       " '說呼全傳/023']"
      ]
     },
     "execution_count": 358,
     "metadata": {},
     "output_type": "execute_result"
    }
   ],
   "source": [
    "list(df[df[\"preview\"].str.contains('的策略')].title)"
   ]
  },
  {
   "cell_type": "code",
   "execution_count": 359,
   "metadata": {},
   "outputs": [],
   "source": [
    "df.to_csv(DATA/\"save_cache_cntext.csv\",index = False)"
   ]
  },
  {
   "cell_type": "code",
   "execution_count": 360,
   "metadata": {},
   "outputs": [],
   "source": [
    "df.to_csv(DATA/\"cntext_v3.csv\",index = False)"
   ]
  },
  {
   "cell_type": "code",
   "execution_count": null,
   "metadata": {},
   "outputs": [],
   "source": []
  }
 ],
 "metadata": {
  "kernelspec": {
   "display_name": "Python 3",
   "language": "python",
   "name": "python3"
  },
  "language_info": {
   "codemirror_mode": {
    "name": "ipython",
    "version": 3
   },
   "file_extension": ".py",
   "mimetype": "text/x-python",
   "name": "python",
   "nbconvert_exporter": "python",
   "pygments_lexer": "ipython3",
   "version": "3.7.4"
  }
 },
 "nbformat": 4,
 "nbformat_minor": 4
}
