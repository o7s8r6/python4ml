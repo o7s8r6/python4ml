{
  "nbformat": 4,
  "nbformat_minor": 0,
  "metadata": {
    "colab": {
      "name": "06_filter_out_morden_cn_part1.ipynb",
      "provenance": [],
      "collapsed_sections": [],
      "mount_file_id": "15PZDUpFOI0hREYBZuFoAmeANE9tTTCFu",
      "authorship_tag": "ABX9TyPVdegHvY+eOb0THdMbXIQO",
      "include_colab_link": true
    },
    "kernelspec": {
      "name": "python3",
      "display_name": "Python 3"
    }
  },
  "cells": [
    {
      "cell_type": "markdown",
      "metadata": {
        "id": "view-in-github",
        "colab_type": "text"
      },
      "source": [
        "<a href=\"https://colab.research.google.com/github/raynardj/python4ml/blob/master/experiments/ancient_cn/06_filter_out_morden_cn_part1.ipynb\" target=\"_parent\"><img src=\"https://colab.research.google.com/assets/colab-badge.svg\" alt=\"Open In Colab\"/></a>"
      ]
    },
    {
      "cell_type": "markdown",
      "metadata": {
        "id": "CNIbE8ttHqnu",
        "colab_type": "text"
      },
      "source": [
        "# Filter out Morden Chinese Text (Part I)\n",
        "> Filter out the morden Chinese text from wikisource dump, the starting point is data from [this colab notebook](https://github.com/raynardj/python4ml/blob/master/experiments/ancient_cn/05_extract_wiki.ipynb)\n",
        "\n",
        ">The purpose the this filtering is to build a complete dataset of Chinese ancient books, poems, articles etc."
      ]
    },
    {
      "cell_type": "markdown",
      "metadata": {
        "id": "s_7YQM-WPUaq",
        "colab_type": "text"
      },
      "source": [
        "Mount the google drive from the left-side column"
      ]
    },
    {
      "cell_type": "markdown",
      "metadata": {
        "id": "6DpbEjWcIr88",
        "colab_type": "text"
      },
      "source": [
        "Copy file from gdrive to local "
      ]
    },
    {
      "cell_type": "code",
      "metadata": {
        "id": "hECaAQoWIEo-",
        "colab_type": "code",
        "colab": {}
      },
      "source": [
        "!cp drive/My\\ Drive/data/cntext.tar.gz cntext.tar.gz"
      ],
      "execution_count": 0,
      "outputs": []
    },
    {
      "cell_type": "markdown",
      "metadata": {
        "id": "9ulisRPhIwLu",
        "colab_type": "text"
      },
      "source": [
        "Unpack the tar.gz package"
      ]
    },
    {
      "cell_type": "code",
      "metadata": {
        "id": "N7xeQQ8fIg8Q",
        "colab_type": "code",
        "colab": {}
      },
      "source": [
        "!tar -xzvf cntext.tar.gz > untar_log;"
      ],
      "execution_count": 0,
      "outputs": []
    },
    {
      "cell_type": "code",
      "metadata": {
        "id": "8oalJeRZKHgm",
        "colab_type": "code",
        "colab": {
          "base_uri": "https://localhost:8080/"
        },
        "outputId": "0936c72e-9439-4ee0-bbf1-6f0794442465"
      },
      "source": [
        "!ls -l ."
      ],
      "execution_count": 4,
      "outputs": [
        {
          "output_type": "stream",
          "text": [
            "total 1467368\n",
            "-rw-------  1 root root 1502507249 Apr  7 15:25 cntext.tar.gz\n",
            "drwx------  3 root root       4096 Apr  7 15:24 drive\n",
            "drwxr-xr-x  1 root root       4096 Apr  3 16:24 sample_data\n",
            "drwxr-xr-x 35 root root       4096 Apr  7 02:28 text\n",
            "-rw-r--r--  1 root root      52095 Apr  7 15:26 untar_log\n"
          ],
          "name": "stdout"
        }
      ]
    },
    {
      "cell_type": "markdown",
      "metadata": {
        "id": "BlOaRHYHI0wu",
        "colab_type": "text"
      },
      "source": [
        "## Parse JSON lines in file"
      ]
    },
    {
      "cell_type": "code",
      "metadata": {
        "id": "gAVxzx87JNko",
        "colab_type": "code",
        "colab": {}
      },
      "source": [
        "from glob import glob\n",
        "all_files = glob(\"text/*/wiki*\")"
      ],
      "execution_count": 0,
      "outputs": []
    },
    {
      "cell_type": "code",
      "metadata": {
        "id": "jm3gDW7lP2_b",
        "colab_type": "code",
        "colab": {
          "base_uri": "https://localhost:8080/",
          "height": 51
        },
        "outputId": "443bc9b5-e274-4803-9850-4fb1a5af7897"
      },
      "source": [
        "print(len(all_files))\n",
        "print(all_files[:5])"
      ],
      "execution_count": 6,
      "outputs": [
        {
          "output_type": "stream",
          "text": [
            "3237\n",
            "['text/AT/wiki_04', 'text/AT/wiki_28', 'text/AT/wiki_65', 'text/AT/wiki_46', 'text/AT/wiki_31']\n"
          ],
          "name": "stdout"
        }
      ]
    },
    {
      "cell_type": "code",
      "metadata": {
        "id": "rZqfjTE3IqXv",
        "colab_type": "code",
        "colab": {}
      },
      "source": [
        "# an interator to generate lines of dictionary\n",
        "import json\n",
        "\n",
        "def file_to_dict(path):\n",
        "    with open(path,\"r\") as f:\n",
        "        while True:\n",
        "            line = f.readline()\n",
        "            if line:\n",
        "                yield json.loads(line)\n",
        "            else:\n",
        "                break"
      ],
      "execution_count": 0,
      "outputs": []
    },
    {
      "cell_type": "code",
      "metadata": {
        "id": "4djHbCcXO2wr",
        "colab_type": "code",
        "colab": {}
      },
      "source": [
        "all_data = []\n",
        "for path in all_files:\n",
        "    for d in file_to_dict(path):\n",
        "        all_data.append(d)"
      ],
      "execution_count": 0,
      "outputs": []
    },
    {
      "cell_type": "code",
      "metadata": {
        "id": "YHg8jOXmQSLM",
        "colab_type": "code",
        "colab": {}
      },
      "source": [
        "import pandas as pd"
      ],
      "execution_count": 0,
      "outputs": []
    },
    {
      "cell_type": "code",
      "metadata": {
        "id": "H-noiMAyQuCy",
        "colab_type": "code",
        "colab": {}
      },
      "source": [
        "df = pd.DataFrame(all_data)"
      ],
      "execution_count": 0,
      "outputs": []
    },
    {
      "cell_type": "code",
      "metadata": {
        "id": "pFac0KrLQxcR",
        "colab_type": "code",
        "colab": {
          "base_uri": "https://localhost:8080/",
          "height": 589
        },
        "outputId": "510dc58b-2fa1-436a-bd4b-e1c6bf578ab8"
      },
      "source": [
        "df"
      ],
      "execution_count": 11,
      "outputs": [
        {
          "output_type": "execute_result",
          "data": {
            "text/html": [
              "<div>\n",
              "<style scoped>\n",
              "    .dataframe tbody tr th:only-of-type {\n",
              "        vertical-align: middle;\n",
              "    }\n",
              "\n",
              "    .dataframe tbody tr th {\n",
              "        vertical-align: top;\n",
              "    }\n",
              "\n",
              "    .dataframe thead th {\n",
              "        text-align: right;\n",
              "    }\n",
              "</style>\n",
              "<table border=\"1\" class=\"dataframe\">\n",
              "  <thead>\n",
              "    <tr style=\"text-align: right;\">\n",
              "      <th></th>\n",
              "      <th>id</th>\n",
              "      <th>url</th>\n",
              "      <th>title</th>\n",
              "      <th>text</th>\n",
              "    </tr>\n",
              "  </thead>\n",
              "  <tbody>\n",
              "    <tr>\n",
              "      <th>0</th>\n",
              "      <td>276713</td>\n",
              "      <td>https://zh.wikisource.org/wiki?curid=276713</td>\n",
              "      <td>跨鼇集 (四庫全書本)/卷11</td>\n",
              "      <td>跨鼇集 (四庫全書本)/卷11\\n\\n&lt;onlyinclude&gt;&lt;poem&gt;　　欽定四庫全書...</td>\n",
              "    </tr>\n",
              "    <tr>\n",
              "      <th>1</th>\n",
              "      <td>276714</td>\n",
              "      <td>https://zh.wikisource.org/wiki?curid=276714</td>\n",
              "      <td>宋文鑑 (四庫全書本)/卷055</td>\n",
              "      <td>宋文鑑 (四庫全書本)/卷055\\n\\n&lt;onlyinclude&gt;&lt;poem&gt;　　欽定四庫全...</td>\n",
              "    </tr>\n",
              "    <tr>\n",
              "      <th>2</th>\n",
              "      <td>276715</td>\n",
              "      <td>https://zh.wikisource.org/wiki?curid=276715</td>\n",
              "      <td>唐宋八大家文鈔 (四庫全書本)/卷128</td>\n",
              "      <td>唐宋八大家文鈔 (四庫全書本)/卷128\\n\\n&lt;onlyinclude&gt;&lt;poem&gt;　　欽...</td>\n",
              "    </tr>\n",
              "    <tr>\n",
              "      <th>3</th>\n",
              "      <td>276716</td>\n",
              "      <td>https://zh.wikisource.org/wiki?curid=276716</td>\n",
              "      <td>跨鼇集 (四庫全書本)/卷12</td>\n",
              "      <td>跨鼇集 (四庫全書本)/卷12\\n\\n&lt;onlyinclude&gt;&lt;poem&gt;　　欽定四庫全書...</td>\n",
              "    </tr>\n",
              "    <tr>\n",
              "      <th>4</th>\n",
              "      <td>276717</td>\n",
              "      <td>https://zh.wikisource.org/wiki?curid=276717</td>\n",
              "      <td>宋文鑑 (四庫全書本)/卷056</td>\n",
              "      <td>宋文鑑 (四庫全書本)/卷056\\n\\n&lt;onlyinclude&gt;&lt;poem&gt;　　欽定四庫全...</td>\n",
              "    </tr>\n",
              "    <tr>\n",
              "      <th>...</th>\n",
              "      <td>...</td>\n",
              "      <td>...</td>\n",
              "      <td>...</td>\n",
              "      <td>...</td>\n",
              "    </tr>\n",
              "    <tr>\n",
              "      <th>311718</th>\n",
              "      <td>61176</td>\n",
              "      <td>https://zh.wikisource.org/wiki?curid=61176</td>\n",
              "      <td>舊唐書/卷18上</td>\n",
              "      <td>舊唐書/卷18上\\n\\n&lt;onlyinclude&gt;\\n　　武宗至道昭肅孝皇帝諱炎，穆宗第五子...</td>\n",
              "    </tr>\n",
              "    <tr>\n",
              "      <th>311719</th>\n",
              "      <td>61177</td>\n",
              "      <td>https://zh.wikisource.org/wiki?curid=61177</td>\n",
              "      <td>舊唐書/卷18下</td>\n",
              "      <td>舊唐書/卷18下\\n\\n宣宗聖武獻文孝皇帝諱忱，憲宗第十三子，母曰孝明皇后鄭氏。元和五年六月...</td>\n",
              "    </tr>\n",
              "    <tr>\n",
              "      <th>311720</th>\n",
              "      <td>61178</td>\n",
              "      <td>https://zh.wikisource.org/wiki?curid=61178</td>\n",
              "      <td>舊唐書/卷19上</td>\n",
              "      <td>舊唐書/卷19上\\n\\n　　懿宗昭聖恭惠孝皇帝漼，宣宗長子，母曰元昭皇太后晁氏。十一月十四日...</td>\n",
              "    </tr>\n",
              "    <tr>\n",
              "      <th>311721</th>\n",
              "      <td>61179</td>\n",
              "      <td>https://zh.wikisource.org/wiki?curid=61179</td>\n",
              "      <td>舊唐書/卷19下</td>\n",
              "      <td>舊唐書/卷19下\\n\\n　　僖宗惠聖恭定孝皇帝諱儇，懿宗第五子，母曰惠安皇后王氏。五月八日生...</td>\n",
              "    </tr>\n",
              "    <tr>\n",
              "      <th>311722</th>\n",
              "      <td>61180</td>\n",
              "      <td>https://zh.wikisource.org/wiki?curid=61180</td>\n",
              "      <td>舊唐書/卷20下</td>\n",
              "      <td>舊唐書/卷20下\\n\\n　　哀皇帝諱柷，昭宗第九子，母曰積善太后何氏。九月三日，生於大內。二...</td>\n",
              "    </tr>\n",
              "  </tbody>\n",
              "</table>\n",
              "<p>311723 rows × 4 columns</p>\n",
              "</div>"
            ],
            "text/plain": [
              "            id  ...                                               text\n",
              "0       276713  ...  跨鼇集 (四庫全書本)/卷11\\n\\n<onlyinclude><poem>　　欽定四庫全書...\n",
              "1       276714  ...  宋文鑑 (四庫全書本)/卷055\\n\\n<onlyinclude><poem>　　欽定四庫全...\n",
              "2       276715  ...  唐宋八大家文鈔 (四庫全書本)/卷128\\n\\n<onlyinclude><poem>　　欽...\n",
              "3       276716  ...  跨鼇集 (四庫全書本)/卷12\\n\\n<onlyinclude><poem>　　欽定四庫全書...\n",
              "4       276717  ...  宋文鑑 (四庫全書本)/卷056\\n\\n<onlyinclude><poem>　　欽定四庫全...\n",
              "...        ...  ...                                                ...\n",
              "311718   61176  ...  舊唐書/卷18上\\n\\n<onlyinclude>\\n　　武宗至道昭肅孝皇帝諱炎，穆宗第五子...\n",
              "311719   61177  ...  舊唐書/卷18下\\n\\n宣宗聖武獻文孝皇帝諱忱，憲宗第十三子，母曰孝明皇后鄭氏。元和五年六月...\n",
              "311720   61178  ...  舊唐書/卷19上\\n\\n　　懿宗昭聖恭惠孝皇帝漼，宣宗長子，母曰元昭皇太后晁氏。十一月十四日...\n",
              "311721   61179  ...  舊唐書/卷19下\\n\\n　　僖宗惠聖恭定孝皇帝諱儇，懿宗第五子，母曰惠安皇后王氏。五月八日生...\n",
              "311722   61180  ...  舊唐書/卷20下\\n\\n　　哀皇帝諱柷，昭宗第九子，母曰積善太后何氏。九月三日，生於大內。二...\n",
              "\n",
              "[311723 rows x 4 columns]"
            ]
          },
          "metadata": {
            "tags": []
          },
          "execution_count": 11
        }
      ]
    },
    {
      "cell_type": "code",
      "metadata": {
        "id": "RTG66qcaQ4ZB",
        "colab_type": "code",
        "colab": {}
      },
      "source": [
        "df[\"preview\"] = df.text.apply(lambda x:x[:100])"
      ],
      "execution_count": 0,
      "outputs": []
    },
    {
      "cell_type": "code",
      "metadata": {
        "id": "HhWoePELQ_J_",
        "colab_type": "code",
        "colab": {}
      },
      "source": [
        "df[[\"id\",\"url\",\"title\",\"preview\"]].to_csv(\"cntext_preview.csv\", index = False)"
      ],
      "execution_count": 0,
      "outputs": []
    },
    {
      "cell_type": "code",
      "metadata": {
        "id": "M5RX6BG5Q_p8",
        "colab_type": "code",
        "colab": {}
      },
      "source": [
        "!cp cntext_preview.csv drive/My\\ Drive/data/cntext_preview.csv"
      ],
      "execution_count": 0,
      "outputs": []
    },
    {
      "cell_type": "code",
      "metadata": {
        "id": "NotHGaouRZ69",
        "colab_type": "code",
        "colab": {
          "base_uri": "https://localhost:8080/",
          "height": 34
        },
        "outputId": "e34a787c-0e75-4a84-93e9-73a6dcdae98d"
      },
      "source": [
        "!ls"
      ],
      "execution_count": 16,
      "outputs": [
        {
          "output_type": "stream",
          "text": [
            "cntext_preview.csv  cntext.tar.gz  drive  sample_data  text  untar_log\n"
          ],
          "name": "stdout"
        }
      ]
    },
    {
      "cell_type": "code",
      "metadata": {
        "id": "diLQ3eOSR9Vm",
        "colab_type": "code",
        "colab": {}
      },
      "source": [
        ""
      ],
      "execution_count": 0,
      "outputs": []
    }
  ]
}