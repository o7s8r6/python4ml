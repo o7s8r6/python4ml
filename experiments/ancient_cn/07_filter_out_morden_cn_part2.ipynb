{
 "cells": [
  {
   "cell_type": "markdown",
   "metadata": {},
   "source": [
    "# Filter out Morden Chinese Text (Part II)\n",
    "> Create the filter CSV file\n",
    "\n",
    "> I don't know why, but wikisource is full of legal text, laws, notices etc"
   ]
  },
  {
   "cell_type": "code",
   "execution_count": 3,
   "metadata": {},
   "outputs": [],
   "source": [
    "import pandas as pd\n",
    "import numpy as np\n",
    "import os\n",
    "import json\n",
    "import sys\n",
    "from pathlib import Path"
   ]
  },
  {
   "cell_type": "code",
   "execution_count": 4,
   "metadata": {},
   "outputs": [],
   "source": [
    "HOME = Path(os.environ[\"HOME\"])"
   ]
  },
  {
   "cell_type": "code",
   "execution_count": 6,
   "metadata": {},
   "outputs": [],
   "source": [
    "DATA = HOME/\"data\"\n",
    "PREVIEW = DATA/\"cntext_preview.csv\""
   ]
  },
  {
   "cell_type": "code",
   "execution_count": 7,
   "metadata": {},
   "outputs": [],
   "source": [
    "df = pd.read_csv(PREVIEW)"
   ]
  },
  {
   "cell_type": "code",
   "execution_count": 9,
   "metadata": {},
   "outputs": [],
   "source": [
    "df[\"isy\"] = True"
   ]
  },
  {
   "cell_type": "code",
   "execution_count": 192,
   "metadata": {},
   "outputs": [
    {
     "data": {
      "text/html": [
       "<div>\n",
       "<style scoped>\n",
       "    .dataframe tbody tr th:only-of-type {\n",
       "        vertical-align: middle;\n",
       "    }\n",
       "\n",
       "    .dataframe tbody tr th {\n",
       "        vertical-align: top;\n",
       "    }\n",
       "\n",
       "    .dataframe thead th {\n",
       "        text-align: right;\n",
       "    }\n",
       "</style>\n",
       "<table border=\"1\" class=\"dataframe\">\n",
       "  <thead>\n",
       "    <tr style=\"text-align: right;\">\n",
       "      <th></th>\n",
       "      <th>id</th>\n",
       "      <th>url</th>\n",
       "      <th>title</th>\n",
       "      <th>preview</th>\n",
       "      <th>isy</th>\n",
       "    </tr>\n",
       "  </thead>\n",
       "  <tbody>\n",
       "    <tr>\n",
       "      <th>0</th>\n",
       "      <td>276713</td>\n",
       "      <td>https://zh.wikisource.org/wiki?curid=276713</td>\n",
       "      <td>跨鼇集 (四庫全書本)/卷11</td>\n",
       "      <td>跨鼇集 (四庫全書本)/卷11\\n\\n&lt;onlyinclude&gt;&lt;poem&gt;　　欽定四庫全書...</td>\n",
       "      <td>True</td>\n",
       "    </tr>\n",
       "    <tr>\n",
       "      <th>1</th>\n",
       "      <td>276714</td>\n",
       "      <td>https://zh.wikisource.org/wiki?curid=276714</td>\n",
       "      <td>宋文鑑 (四庫全書本)/卷055</td>\n",
       "      <td>宋文鑑 (四庫全書本)/卷055\\n\\n&lt;onlyinclude&gt;&lt;poem&gt;　　欽定四庫全...</td>\n",
       "      <td>True</td>\n",
       "    </tr>\n",
       "    <tr>\n",
       "      <th>2</th>\n",
       "      <td>276715</td>\n",
       "      <td>https://zh.wikisource.org/wiki?curid=276715</td>\n",
       "      <td>唐宋八大家文鈔 (四庫全書本)/卷128</td>\n",
       "      <td>唐宋八大家文鈔 (四庫全書本)/卷128\\n\\n&lt;onlyinclude&gt;&lt;poem&gt;　　欽...</td>\n",
       "      <td>True</td>\n",
       "    </tr>\n",
       "    <tr>\n",
       "      <th>3</th>\n",
       "      <td>276716</td>\n",
       "      <td>https://zh.wikisource.org/wiki?curid=276716</td>\n",
       "      <td>跨鼇集 (四庫全書本)/卷12</td>\n",
       "      <td>跨鼇集 (四庫全書本)/卷12\\n\\n&lt;onlyinclude&gt;&lt;poem&gt;　　欽定四庫全書...</td>\n",
       "      <td>True</td>\n",
       "    </tr>\n",
       "    <tr>\n",
       "      <th>4</th>\n",
       "      <td>276717</td>\n",
       "      <td>https://zh.wikisource.org/wiki?curid=276717</td>\n",
       "      <td>宋文鑑 (四庫全書本)/卷056</td>\n",
       "      <td>宋文鑑 (四庫全書本)/卷056\\n\\n&lt;onlyinclude&gt;&lt;poem&gt;　　欽定四庫全...</td>\n",
       "      <td>True</td>\n",
       "    </tr>\n",
       "    <tr>\n",
       "      <th>...</th>\n",
       "      <td>...</td>\n",
       "      <td>...</td>\n",
       "      <td>...</td>\n",
       "      <td>...</td>\n",
       "      <td>...</td>\n",
       "    </tr>\n",
       "    <tr>\n",
       "      <th>311718</th>\n",
       "      <td>61176</td>\n",
       "      <td>https://zh.wikisource.org/wiki?curid=61176</td>\n",
       "      <td>舊唐書/卷18上</td>\n",
       "      <td>舊唐書/卷18上\\n\\n&lt;onlyinclude&gt;\\n　　武宗至道昭肅孝皇帝諱炎，穆宗第五子...</td>\n",
       "      <td>True</td>\n",
       "    </tr>\n",
       "    <tr>\n",
       "      <th>311719</th>\n",
       "      <td>61177</td>\n",
       "      <td>https://zh.wikisource.org/wiki?curid=61177</td>\n",
       "      <td>舊唐書/卷18下</td>\n",
       "      <td>舊唐書/卷18下\\n\\n宣宗聖武獻文孝皇帝諱忱，憲宗第十三子，母曰孝明皇后鄭氏。元和五年六月...</td>\n",
       "      <td>True</td>\n",
       "    </tr>\n",
       "    <tr>\n",
       "      <th>311720</th>\n",
       "      <td>61178</td>\n",
       "      <td>https://zh.wikisource.org/wiki?curid=61178</td>\n",
       "      <td>舊唐書/卷19上</td>\n",
       "      <td>舊唐書/卷19上\\n\\n　　懿宗昭聖恭惠孝皇帝漼，宣宗長子，母曰元昭皇太后晁氏。十一月十四日...</td>\n",
       "      <td>True</td>\n",
       "    </tr>\n",
       "    <tr>\n",
       "      <th>311721</th>\n",
       "      <td>61179</td>\n",
       "      <td>https://zh.wikisource.org/wiki?curid=61179</td>\n",
       "      <td>舊唐書/卷19下</td>\n",
       "      <td>舊唐書/卷19下\\n\\n　　僖宗惠聖恭定孝皇帝諱儇，懿宗第五子，母曰惠安皇后王氏。五月八日生...</td>\n",
       "      <td>True</td>\n",
       "    </tr>\n",
       "    <tr>\n",
       "      <th>311722</th>\n",
       "      <td>61180</td>\n",
       "      <td>https://zh.wikisource.org/wiki?curid=61180</td>\n",
       "      <td>舊唐書/卷20下</td>\n",
       "      <td>舊唐書/卷20下\\n\\n　　哀皇帝諱柷，昭宗第九子，母曰積善太后何氏。九月三日，生於大內。二...</td>\n",
       "      <td>True</td>\n",
       "    </tr>\n",
       "  </tbody>\n",
       "</table>\n",
       "<p>311723 rows × 5 columns</p>\n",
       "</div>"
      ],
      "text/plain": [
       "            id                                          url  \\\n",
       "0       276713  https://zh.wikisource.org/wiki?curid=276713   \n",
       "1       276714  https://zh.wikisource.org/wiki?curid=276714   \n",
       "2       276715  https://zh.wikisource.org/wiki?curid=276715   \n",
       "3       276716  https://zh.wikisource.org/wiki?curid=276716   \n",
       "4       276717  https://zh.wikisource.org/wiki?curid=276717   \n",
       "...        ...                                          ...   \n",
       "311718   61176   https://zh.wikisource.org/wiki?curid=61176   \n",
       "311719   61177   https://zh.wikisource.org/wiki?curid=61177   \n",
       "311720   61178   https://zh.wikisource.org/wiki?curid=61178   \n",
       "311721   61179   https://zh.wikisource.org/wiki?curid=61179   \n",
       "311722   61180   https://zh.wikisource.org/wiki?curid=61180   \n",
       "\n",
       "                       title  \\\n",
       "0            跨鼇集 (四庫全書本)/卷11   \n",
       "1           宋文鑑 (四庫全書本)/卷055   \n",
       "2       唐宋八大家文鈔 (四庫全書本)/卷128   \n",
       "3            跨鼇集 (四庫全書本)/卷12   \n",
       "4           宋文鑑 (四庫全書本)/卷056   \n",
       "...                      ...   \n",
       "311718              舊唐書/卷18上   \n",
       "311719              舊唐書/卷18下   \n",
       "311720              舊唐書/卷19上   \n",
       "311721              舊唐書/卷19下   \n",
       "311722              舊唐書/卷20下   \n",
       "\n",
       "                                                  preview   isy  \n",
       "0       跨鼇集 (四庫全書本)/卷11\\n\\n<onlyinclude><poem>　　欽定四庫全書...  True  \n",
       "1       宋文鑑 (四庫全書本)/卷055\\n\\n<onlyinclude><poem>　　欽定四庫全...  True  \n",
       "2       唐宋八大家文鈔 (四庫全書本)/卷128\\n\\n<onlyinclude><poem>　　欽...  True  \n",
       "3       跨鼇集 (四庫全書本)/卷12\\n\\n<onlyinclude><poem>　　欽定四庫全書...  True  \n",
       "4       宋文鑑 (四庫全書本)/卷056\\n\\n<onlyinclude><poem>　　欽定四庫全...  True  \n",
       "...                                                   ...   ...  \n",
       "311718  舊唐書/卷18上\\n\\n<onlyinclude>\\n　　武宗至道昭肅孝皇帝諱炎，穆宗第五子...  True  \n",
       "311719  舊唐書/卷18下\\n\\n宣宗聖武獻文孝皇帝諱忱，憲宗第十三子，母曰孝明皇后鄭氏。元和五年六月...  True  \n",
       "311720  舊唐書/卷19上\\n\\n　　懿宗昭聖恭惠孝皇帝漼，宣宗長子，母曰元昭皇太后晁氏。十一月十四日...  True  \n",
       "311721  舊唐書/卷19下\\n\\n　　僖宗惠聖恭定孝皇帝諱儇，懿宗第五子，母曰惠安皇后王氏。五月八日生...  True  \n",
       "311722  舊唐書/卷20下\\n\\n　　哀皇帝諱柷，昭宗第九子，母曰積善太后何氏。九月三日，生於大內。二...  True  \n",
       "\n",
       "[311723 rows x 5 columns]"
      ]
     },
     "execution_count": 192,
     "metadata": {},
     "output_type": "execute_result"
    }
   ],
   "source": [
    "df"
   ]
  },
  {
   "cell_type": "code",
   "execution_count": 12,
   "metadata": {},
   "outputs": [],
   "source": [
    "def stats():\n",
    "    return pd.DataFrame(df.isy.value_counts())"
   ]
  },
  {
   "cell_type": "code",
   "execution_count": 13,
   "metadata": {},
   "outputs": [
    {
     "data": {
      "text/html": [
       "<div>\n",
       "<style scoped>\n",
       "    .dataframe tbody tr th:only-of-type {\n",
       "        vertical-align: middle;\n",
       "    }\n",
       "\n",
       "    .dataframe tbody tr th {\n",
       "        vertical-align: top;\n",
       "    }\n",
       "\n",
       "    .dataframe thead th {\n",
       "        text-align: right;\n",
       "    }\n",
       "</style>\n",
       "<table border=\"1\" class=\"dataframe\">\n",
       "  <thead>\n",
       "    <tr style=\"text-align: right;\">\n",
       "      <th></th>\n",
       "      <th>isy</th>\n",
       "    </tr>\n",
       "  </thead>\n",
       "  <tbody>\n",
       "    <tr>\n",
       "      <th>True</th>\n",
       "      <td>311723</td>\n",
       "    </tr>\n",
       "  </tbody>\n",
       "</table>\n",
       "</div>"
      ],
      "text/plain": [
       "         isy\n",
       "True  311723"
      ]
     },
     "execution_count": 13,
     "metadata": {},
     "output_type": "execute_result"
    }
   ],
   "source": [
    "stats()"
   ]
  },
  {
   "cell_type": "code",
   "execution_count": 25,
   "metadata": {},
   "outputs": [],
   "source": [
    "# df[df.title.str.contains(\"司法\")].title.sample(50)"
   ]
  },
  {
   "cell_type": "code",
   "execution_count": 29,
   "metadata": {},
   "outputs": [],
   "source": [
    "df.loc[df.title.str.contains(\"司法\"),\"isy\"] = False"
   ]
  },
  {
   "cell_type": "code",
   "execution_count": 30,
   "metadata": {},
   "outputs": [
    {
     "data": {
      "text/html": [
       "<div>\n",
       "<style scoped>\n",
       "    .dataframe tbody tr th:only-of-type {\n",
       "        vertical-align: middle;\n",
       "    }\n",
       "\n",
       "    .dataframe tbody tr th {\n",
       "        vertical-align: top;\n",
       "    }\n",
       "\n",
       "    .dataframe thead th {\n",
       "        text-align: right;\n",
       "    }\n",
       "</style>\n",
       "<table border=\"1\" class=\"dataframe\">\n",
       "  <thead>\n",
       "    <tr style=\"text-align: right;\">\n",
       "      <th></th>\n",
       "      <th>isy</th>\n",
       "    </tr>\n",
       "  </thead>\n",
       "  <tbody>\n",
       "    <tr>\n",
       "      <th>True</th>\n",
       "      <td>306617</td>\n",
       "    </tr>\n",
       "    <tr>\n",
       "      <th>False</th>\n",
       "      <td>5106</td>\n",
       "    </tr>\n",
       "  </tbody>\n",
       "</table>\n",
       "</div>"
      ],
      "text/plain": [
       "          isy\n",
       "True   306617\n",
       "False    5106"
      ]
     },
     "execution_count": 30,
     "metadata": {},
     "output_type": "execute_result"
    }
   ],
   "source": [
    "stats()"
   ]
  },
  {
   "cell_type": "code",
   "execution_count": 255,
   "metadata": {},
   "outputs": [],
   "source": [
    "def tt_kw(kw):\n",
    "    df.loc[df.title.str.contains(kw),\"isy\"] = False\n",
    "    return stats()\n",
    "\n",
    "def pv_kw(kw):\n",
    "    df.loc[df.preview.str.contains(kw),\"isy\"] = False\n",
    "    return stats()\n",
    "\n",
    "def pv_kw_t(kw):\n",
    "    df.loc[df.preview.str.contains(kw),\"isy\"] = True\n",
    "    return stats()"
   ]
  },
  {
   "cell_type": "code",
   "execution_count": 46,
   "metadata": {},
   "outputs": [],
   "source": [
    "df.loc[df.title.str.contains(\"人民\"),\"isy\"] = False"
   ]
  },
  {
   "cell_type": "code",
   "execution_count": 47,
   "metadata": {},
   "outputs": [
    {
     "data": {
      "text/html": [
       "<div>\n",
       "<style scoped>\n",
       "    .dataframe tbody tr th:only-of-type {\n",
       "        vertical-align: middle;\n",
       "    }\n",
       "\n",
       "    .dataframe tbody tr th {\n",
       "        vertical-align: top;\n",
       "    }\n",
       "\n",
       "    .dataframe thead th {\n",
       "        text-align: right;\n",
       "    }\n",
       "</style>\n",
       "<table border=\"1\" class=\"dataframe\">\n",
       "  <thead>\n",
       "    <tr style=\"text-align: right;\">\n",
       "      <th></th>\n",
       "      <th>isy</th>\n",
       "    </tr>\n",
       "  </thead>\n",
       "  <tbody>\n",
       "    <tr>\n",
       "      <th>True</th>\n",
       "      <td>300278</td>\n",
       "    </tr>\n",
       "    <tr>\n",
       "      <th>False</th>\n",
       "      <td>11445</td>\n",
       "    </tr>\n",
       "  </tbody>\n",
       "</table>\n",
       "</div>"
      ],
      "text/plain": [
       "          isy\n",
       "True   300278\n",
       "False   11445"
      ]
     },
     "execution_count": 47,
     "metadata": {},
     "output_type": "execute_result"
    }
   ],
   "source": [
    "stats()"
   ]
  },
  {
   "cell_type": "code",
   "execution_count": 56,
   "metadata": {},
   "outputs": [
    {
     "data": {
      "text/html": [
       "<div>\n",
       "<style scoped>\n",
       "    .dataframe tbody tr th:only-of-type {\n",
       "        vertical-align: middle;\n",
       "    }\n",
       "\n",
       "    .dataframe tbody tr th {\n",
       "        vertical-align: top;\n",
       "    }\n",
       "\n",
       "    .dataframe thead th {\n",
       "        text-align: right;\n",
       "    }\n",
       "</style>\n",
       "<table border=\"1\" class=\"dataframe\">\n",
       "  <thead>\n",
       "    <tr style=\"text-align: right;\">\n",
       "      <th></th>\n",
       "      <th>isy</th>\n",
       "    </tr>\n",
       "  </thead>\n",
       "  <tbody>\n",
       "    <tr>\n",
       "      <th>True</th>\n",
       "      <td>299715</td>\n",
       "    </tr>\n",
       "    <tr>\n",
       "      <th>False</th>\n",
       "      <td>12008</td>\n",
       "    </tr>\n",
       "  </tbody>\n",
       "</table>\n",
       "</div>"
      ],
      "text/plain": [
       "          isy\n",
       "True   299715\n",
       "False   12008"
      ]
     },
     "execution_count": 56,
     "metadata": {},
     "output_type": "execute_result"
    }
   ],
   "source": [
    "df.loc[df.title.str.contains(\"通知\"),\"isy\"] = False\n",
    "stats()"
   ]
  },
  {
   "cell_type": "code",
   "execution_count": 57,
   "metadata": {},
   "outputs": [
    {
     "data": {
      "text/plain": [
       "141361       国务院关于同意重庆市万县区和万县移民开发区更名为万州区和万州移民开发区的批复\n",
       "16001                              中华人民共和国国务院令第359号\n",
       "136249                      中华人民共和国国务院公报/2014年/第34号\n",
       "182573                             中华人民共和国国务院令第486号\n",
       "91601                 国务院关于同意建立全国农民合作社发展部际联席会议制度的批复\n",
       "137200             国务院关于同意四川省调整成都市部分行政区划的批复 (2016年)\n",
       "73039                              中华人民共和国国务院令第320号\n",
       "142028                  国务院关于做好当前和今后一个时期促进就业工作的若干意见\n",
       "267493                      中华人民共和国国务院公报/2008年/第21号\n",
       "267363                       中华人民共和国国务院公报/2012年/第5号\n",
       "267488                      中华人民共和国国务院公报/2008年/第26号\n",
       "182574                             中华人民共和国国务院令第291号\n",
       "137219               国务院关于同意安徽省调整六安市淮南市铜陵市部分行政区划的批复\n",
       "87206             国务院办公厅关于实施《国务院机构改革和职能转变方案》任务分工的通知\n",
       "267535                      中华人民共和国国务院公报/2007年/第15号\n",
       "267713                      中华人民共和国国务院公报/2002年/第25号\n",
       "142414                 国务院关于同意四川省调整内江市行政区划设立资阳地区的批复\n",
       "194485                             中华人民共和国国务院令第458号\n",
       "204415                           国务院关于修改《烈士褒扬条例》的决定\n",
       "195721                     国务院关于修改《征收教育费附加的暂行规定》的决定\n",
       "138169                             国务院关于实施健康中国行动的意见\n",
       "264041                     国务院关于北京城市总体规划的批复 (1993年)\n",
       "137141                     国务院关于同意重庆市江北区人民政府驻地迁移的批复\n",
       "209576                  中共中央、国务院关于印发《国家功勋荣誉表彰条例》的通知\n",
       "137232             国务院关于同意江苏省调整常州市部分行政区划的批复 (2015年)\n",
       "137018                        国务院关于同意天津市调整部分行政区划的批复\n",
       "267908                      中华人民共和国国务院公报/1998年/第14号\n",
       "267306                      中华人民共和国国务院公报/2013年/第26号\n",
       "265379                       中华人民共和国国务院公报/1995年/第2号\n",
       "267836                       中华人民共和国国务院公报/2000年/第3号\n",
       "142418                   国务院关于同意河南省撤销商丘地区设立地级商丘市的批复\n",
       "267334                      中华人民共和国国务院公报/2012年/第34号\n",
       "58745                              中华人民共和国国务院令第682号\n",
       "272767             国务院办公厅关于2001年春节、“五一”、“十一”放假安排的通知\n",
       "20720              全国人民代表大会常务委员会批准国务院关于劳动教养问题的决定的决议\n",
       "270839                   国务院关于北京市服务业扩大开放综合试点总体方案的批复\n",
       "267588                      中华人民共和国国务院公报/2005年/第35号\n",
       "142345             国务院关于同意内蒙古自治区撤销乌兰察布盟设立地级乌兰察布市的批复\n",
       "73000                              中华人民共和国国务院令第277号\n",
       "267487                      中华人民共和国国务院公报/2008年/第27号\n",
       "267545                       中华人民共和国国务院公报/2007年/第5号\n",
       "266587                             中华人民共和国国务院令第651号\n",
       "209342                              中华人民共和国国务院令第63号\n",
       "192959    国务院关于修改《中华人民共和国防治海岸工程建设项目污染损害海洋环境管理条例》的决定\n",
       "267846                      中华人民共和国国务院公报/1999年/第30号\n",
       "267818                      中华人民共和国国务院公报/2000年/第21号\n",
       "19878                         1993年中华人民共和国国务院政府工作报告\n",
       "267764                      中华人民共和国国务院公报/2001年/第10号\n",
       "68976          国务院关税税则委员会关于对原产于美国约160亿美元进口商品加征关税的公告\n",
       "265899                             中华人民共和国国务院令第662号\n",
       "Name: title, dtype: object"
      ]
     },
     "execution_count": 57,
     "metadata": {},
     "output_type": "execute_result"
    }
   ],
   "source": [
    "df[df.title.str.contains(\"国务院\")].title.sample(50)"
   ]
  },
  {
   "cell_type": "code",
   "execution_count": 58,
   "metadata": {},
   "outputs": [
    {
     "data": {
      "text/html": [
       "<div>\n",
       "<style scoped>\n",
       "    .dataframe tbody tr th:only-of-type {\n",
       "        vertical-align: middle;\n",
       "    }\n",
       "\n",
       "    .dataframe tbody tr th {\n",
       "        vertical-align: top;\n",
       "    }\n",
       "\n",
       "    .dataframe thead th {\n",
       "        text-align: right;\n",
       "    }\n",
       "</style>\n",
       "<table border=\"1\" class=\"dataframe\">\n",
       "  <thead>\n",
       "    <tr style=\"text-align: right;\">\n",
       "      <th></th>\n",
       "      <th>isy</th>\n",
       "    </tr>\n",
       "  </thead>\n",
       "  <tbody>\n",
       "    <tr>\n",
       "      <th>True</th>\n",
       "      <td>298852</td>\n",
       "    </tr>\n",
       "    <tr>\n",
       "      <th>False</th>\n",
       "      <td>12871</td>\n",
       "    </tr>\n",
       "  </tbody>\n",
       "</table>\n",
       "</div>"
      ],
      "text/plain": [
       "          isy\n",
       "True   298852\n",
       "False   12871"
      ]
     },
     "execution_count": 58,
     "metadata": {},
     "output_type": "execute_result"
    }
   ],
   "source": [
    "df.loc[df.title.str.contains(\"国务院\"),\"isy\"] = False\n",
    "stats()"
   ]
  },
  {
   "cell_type": "code",
   "execution_count": 61,
   "metadata": {},
   "outputs": [
    {
     "data": {
      "text/plain": [
       "160610                                            赵连海案起诉意见书\n",
       "81154                                  戴立清反革命案上海市人民检察院分院起诉书\n",
       "70611                                 唐忠富反革命案湖南省长沙市人民检察院起诉书\n",
       "81144                                  朱永嘉反革命案上海市人民检察院分院起诉书\n",
       "81151                     王维国积极参加反革命集团、策动叛乱案中国人民解放军军事检察院起诉书\n",
       "81157                                    徐景贤反革命案上海市人民检察院起诉书\n",
       "81149                       邵岩城报复陷害、扰乱社会秩序案黑龙江省哈尔滨市人民检察院起诉书\n",
       "160619                       四川省成都市人民检察院成检刑一诉字［2009］183号起诉书\n",
       "70615                                    翁森鹤反革命案浙江省人民检察院起诉书\n",
       "81162                                  聂元梓反革命案北京市人民检察院分院起诉书\n",
       "69264                            何立宽反革命案云南文山壮族苗族自治州人民检察院起诉书\n",
       "69262                                 涂晓雷反革命案云南省昆明市人民检察院起诉书\n",
       "69311                                  蒯大富反革命案北京市人民检察院分院起诉书\n",
       "81147                        牛成山、聂士荣阴谋颠覆政府案黑龙江省哈尔滨市人民检察院起诉书\n",
       "69258                                  黄金海反革命案上海市人民检察院分院起诉书\n",
       "81161                          赵登程阴谋颠覆政府、诬告陷害案北京市人民检察院分院起诉书\n",
       "69263                             刘光兴反革命案云南省楚雄彝族自治州人民检察院起诉书\n",
       "161855                     福建省福州市马尾区人民检察院马检公刑诉［2009］142号起诉书\n",
       "85397                    广东省东莞市第一市区人民检察院东一区检诉刑诉〔2017〕71号起诉书\n",
       "161911                         上海市静安区人民检察院（64）沪静检诉字第423号起诉书\n",
       "69252                               张厚阴谋颠覆政府案湖南省长沙市人民检察院起诉书\n",
       "69306                                中华人民共和国最高人民检察院特别检察厅起诉书\n",
       "69260                                 刘殷农反革命案云南省昆明市人民检察院起诉书\n",
       "70616                                 黄兆其反革命案云南省昆明市人民检察院起诉书\n",
       "70610                               胡勇阴谋颠覆政府案湖南省长沙市人民检察院起诉书\n",
       "265858                 最高人民法院关于人民法院是否受理因邮电部门电报稽延纠纷提起诉讼问题的批复\n",
       "81146                                    徐英年反革命案贵州省人民检察院起诉书\n",
       "70609                              叶卫东阴谋颠覆政府案湖南省长沙市人民检察院起诉书\n",
       "260564    最高人民法院关于当事人对具有强制执行效力的公证债权文书的内容有争议提起诉讼人民法院是否受理问...\n",
       "81152                                 顾同舟资敌案中国人民解放军军事检察院起诉书\n",
       "264580                       上海市人民检察院第二分院沪检二分刑诉（2013）96号起诉书\n",
       "69265                                  马振龙反革命案上海市人民检察院分院起诉书\n",
       "70614                                    张永生反革命案浙江省人民检察院起诉书\n",
       "81160                                  舒龙山反革命案北京市人民检察院分院起诉书\n",
       "69259                                  刘庆棠反革命案北京市人民检察院分院起诉书\n",
       "87873                                             许志永案起诉意见书\n",
       "69261                                 胡延观反革命案云南省昆明市人民检察院起诉书\n",
       "76084                         关于对陆勇妨害信用卡管理和销售假药案决定不起诉的释法说理书\n",
       "69304                                   迟群反革命案北京市人民检察院分院起诉书\n",
       "69305                                  戚本禹反革命案北京市人民检察院分院起诉书\n",
       "81156                                    王秀珍反革命案上海市人民检察院起诉书\n",
       "81145                                    孙昌德反革命案贵州省人民检察院起诉书\n",
       "81150                                刘结挺、张西挺反革命案四川省人民检察院起诉书\n",
       "67401                  最高人民法院关于依据原告起诉时提供的被告住址无法送达应如何处理问题的批复\n",
       "266613    最高人民法院关于人民法院对经劳动争议仲裁裁决的纠纷准予撤诉或驳回起诉后劳动争议仲裁裁决从何时...\n",
       "81148                      韩潮打砸抢、抢夺枪支弹药和诬陷案黑龙江省哈尔滨市人民检察院起诉书\n",
       "76083                                             对陆勇不起诉决定书\n",
       "81158                                  韩爱晶反革命案北京市人民检察院分院起诉书\n",
       "81155                                  陈阿大反革命案上海市人民检察院分院起诉书\n",
       "81153                                  叶昌明反革命案上海市人民检察院分院起诉书\n",
       "Name: title, dtype: object"
      ]
     },
     "execution_count": 61,
     "metadata": {},
     "output_type": "execute_result"
    }
   ],
   "source": [
    "df[df.title.str.contains(\"起诉\")].title.sample(50)"
   ]
  },
  {
   "cell_type": "code",
   "execution_count": 62,
   "metadata": {},
   "outputs": [
    {
     "data": {
      "text/html": [
       "<div>\n",
       "<style scoped>\n",
       "    .dataframe tbody tr th:only-of-type {\n",
       "        vertical-align: middle;\n",
       "    }\n",
       "\n",
       "    .dataframe tbody tr th {\n",
       "        vertical-align: top;\n",
       "    }\n",
       "\n",
       "    .dataframe thead th {\n",
       "        text-align: right;\n",
       "    }\n",
       "</style>\n",
       "<table border=\"1\" class=\"dataframe\">\n",
       "  <thead>\n",
       "    <tr style=\"text-align: right;\">\n",
       "      <th></th>\n",
       "      <th>isy</th>\n",
       "    </tr>\n",
       "  </thead>\n",
       "  <tbody>\n",
       "    <tr>\n",
       "      <th>True</th>\n",
       "      <td>298847</td>\n",
       "    </tr>\n",
       "    <tr>\n",
       "      <th>False</th>\n",
       "      <td>12876</td>\n",
       "    </tr>\n",
       "  </tbody>\n",
       "</table>\n",
       "</div>"
      ],
      "text/plain": [
       "          isy\n",
       "True   298847\n",
       "False   12876"
      ]
     },
     "execution_count": 62,
     "metadata": {},
     "output_type": "execute_result"
    }
   ],
   "source": [
    "df.loc[df.title.str.contains(\"起诉\"),\"isy\"] = False\n",
    "stats()"
   ]
  },
  {
   "cell_type": "code",
   "execution_count": 67,
   "metadata": {},
   "outputs": [
    {
     "data": {
      "text/html": [
       "<div>\n",
       "<style scoped>\n",
       "    .dataframe tbody tr th:only-of-type {\n",
       "        vertical-align: middle;\n",
       "    }\n",
       "\n",
       "    .dataframe tbody tr th {\n",
       "        vertical-align: top;\n",
       "    }\n",
       "\n",
       "    .dataframe thead th {\n",
       "        text-align: right;\n",
       "    }\n",
       "</style>\n",
       "<table border=\"1\" class=\"dataframe\">\n",
       "  <thead>\n",
       "    <tr style=\"text-align: right;\">\n",
       "      <th></th>\n",
       "      <th>isy</th>\n",
       "    </tr>\n",
       "  </thead>\n",
       "  <tbody>\n",
       "    <tr>\n",
       "      <th>True</th>\n",
       "      <td>292575</td>\n",
       "    </tr>\n",
       "    <tr>\n",
       "      <th>False</th>\n",
       "      <td>19148</td>\n",
       "    </tr>\n",
       "  </tbody>\n",
       "</table>\n",
       "</div>"
      ],
      "text/plain": [
       "          isy\n",
       "True   292575\n",
       "False   19148"
      ]
     },
     "execution_count": 67,
     "metadata": {},
     "output_type": "execute_result"
    }
   ],
   "source": [
    "df.loc[df.title.str.contains(\"民國\"),\"isy\"] = False\n",
    "stats()"
   ]
  },
  {
   "cell_type": "code",
   "execution_count": 71,
   "metadata": {},
   "outputs": [
    {
     "data": {
      "text/html": [
       "<div>\n",
       "<style scoped>\n",
       "    .dataframe tbody tr th:only-of-type {\n",
       "        vertical-align: middle;\n",
       "    }\n",
       "\n",
       "    .dataframe tbody tr th {\n",
       "        vertical-align: top;\n",
       "    }\n",
       "\n",
       "    .dataframe thead th {\n",
       "        text-align: right;\n",
       "    }\n",
       "</style>\n",
       "<table border=\"1\" class=\"dataframe\">\n",
       "  <thead>\n",
       "    <tr style=\"text-align: right;\">\n",
       "      <th></th>\n",
       "      <th>isy</th>\n",
       "    </tr>\n",
       "  </thead>\n",
       "  <tbody>\n",
       "    <tr>\n",
       "      <th>True</th>\n",
       "      <td>292266</td>\n",
       "    </tr>\n",
       "    <tr>\n",
       "      <th>False</th>\n",
       "      <td>19457</td>\n",
       "    </tr>\n",
       "  </tbody>\n",
       "</table>\n",
       "</div>"
      ],
      "text/plain": [
       "          isy\n",
       "True   292266\n",
       "False   19457"
      ]
     },
     "execution_count": 71,
     "metadata": {},
     "output_type": "execute_result"
    }
   ],
   "source": [
    "df.loc[df.title.str.contains(\"聯合國\"),\"isy\"] = False\n",
    "stats()"
   ]
  },
  {
   "cell_type": "code",
   "execution_count": 74,
   "metadata": {},
   "outputs": [
    {
     "data": {
      "text/html": [
       "<div>\n",
       "<style scoped>\n",
       "    .dataframe tbody tr th:only-of-type {\n",
       "        vertical-align: middle;\n",
       "    }\n",
       "\n",
       "    .dataframe tbody tr th {\n",
       "        vertical-align: top;\n",
       "    }\n",
       "\n",
       "    .dataframe thead th {\n",
       "        text-align: right;\n",
       "    }\n",
       "</style>\n",
       "<table border=\"1\" class=\"dataframe\">\n",
       "  <thead>\n",
       "    <tr style=\"text-align: right;\">\n",
       "      <th></th>\n",
       "      <th>isy</th>\n",
       "    </tr>\n",
       "  </thead>\n",
       "  <tbody>\n",
       "    <tr>\n",
       "      <th>True</th>\n",
       "      <td>292248</td>\n",
       "    </tr>\n",
       "    <tr>\n",
       "      <th>False</th>\n",
       "      <td>19475</td>\n",
       "    </tr>\n",
       "  </tbody>\n",
       "</table>\n",
       "</div>"
      ],
      "text/plain": [
       "          isy\n",
       "True   292248\n",
       "False   19475"
      ]
     },
     "execution_count": 74,
     "metadata": {},
     "output_type": "execute_result"
    }
   ],
   "source": [
    "df.loc[df.title.str.contains(\"決議\"),\"isy\"] = False\n",
    "stats()"
   ]
  },
  {
   "cell_type": "code",
   "execution_count": 332,
   "metadata": {},
   "outputs": [
    {
     "name": "stdout",
     "output_type": "stream",
     "text": [
      "False    912\n",
      "True      75\n",
      "Name: isy, dtype: int64\n",
      "94124                          軍政府公報\n",
      "46601                       論國民政府之北伐\n",
      "94214                       臺灣省政府編制表\n",
      "22697             臺灣省政府功能業務與組織調整暫行條例\n",
      "75582                政府公報 (洪憲元年1月6日)\n",
      "157699                     福建省政府組織規程\n",
      "169979                   臺北市政府組織自治條例\n",
      "131968    關於西藏地方政府負責執行和平解放西藏辦法的協議的聲明\n",
      "157700                     臺灣省政府組織規程\n",
      "192898               南京特別市市政府令第一百零七號\n",
      "Name: title, dtype: object\n"
     ]
    },
    {
     "data": {
      "text/plain": [
       "167721                                北京市人民政府令 (1989年5月20日)\n",
       "142253                          国际金融组织和外国政府贷款赠款管理办法 (2006年)\n",
       "138382                  中华人民共和国政府和葡萄牙共和国政府关于中葡两国建立外交关系的联合公报\n",
       "139193                        王水祥慘案牽涉甚多 港政府興文字獄 星島日報記者被監禁罰欵\n",
       "122408                                 中華民國八十三年度中央政府總預算執行條例\n",
       "142083                                     浙江省人民政府2003年工作报告\n",
       "194357                   臺北市政府單一陳情系統回復信 (W10-1060109-00390)\n",
       "149866                  中华人民共和国政府和菲律宾共和国政府关于21世纪双边合作框架的联合声明\n",
       "19578     第五届全国人民代表大会第五次会议关于修改《中华人民共和国地方各级人民代表大会和地方各级人民政...\n",
       "261583                          中华人民共和国政府关于在南海的领土主权和海洋权益的声明\n",
       "161913                     浙江省人民政府办公厅关于印发《浙江省人民政府印章管理办法》的通知\n",
       "40502                                     中華蘇維埃中央政府對內蒙古人民宣言\n",
       "136028                                       政府采购代理机构资格认定办法\n",
       "149865                             中华人民共和国政府与菲律宾共和国政府联合新闻公报\n",
       "94744                                 2012年中华人民共和国国务院政府工作报告\n",
       "61475     第六届全国人民代表大会第三次会议关于批准《中华人民共和国政府和大不列颠及北爱尔兰联合王国政府...\n",
       "69879                          关于我与以色列政府就以在香港特区保留总领事馆换文的备案函\n",
       "89671               北京市人民政府关于实施工作日高峰时段区域限行交通管理措施的通告 (2013年)\n",
       "82328          上海市人民政府关于对《上海市重点项目设备质量管理暂行办法》等15件规章宣布自然失效的决定\n",
       "303363                                2001年中华人民共和国国务院政府工作报告\n",
       "Name: title, dtype: object"
      ]
     },
     "execution_count": 332,
     "metadata": {},
     "output_type": "execute_result"
    }
   ],
   "source": [
    "def sample_search(x):\n",
    "    sub= df[df.title.str.contains(x)]\n",
    "    print(sub.isy.value_counts())\n",
    "    print(sub[sub.isy].sample(10).title)\n",
    "    return sub.title.sample(20)\n",
    "\n",
    "sample_search(\"政府\")"
   ]
  },
  {
   "cell_type": "code",
   "execution_count": 299,
   "metadata": {},
   "outputs": [
    {
     "name": "stdout",
     "output_type": "stream",
     "text": [
      "False    93\n",
      "True     76\n",
      "Name: isy, dtype: int64\n",
      "40757         日内瓦公约/1949年/第三公约/附件四\n",
      "24251                         湿地公约\n",
      "40773       日内瓦公约/1949年/第三公约/附件四/丁\n",
      "24247                       世界版权公约\n",
      "33025              海牙公约/1899年/第一宣言\n",
      "40780         日内瓦公约/1949年/第三公约/第六部\n",
      "40642    日内瓦公约/1949年/附加议定书/第三附加议定书\n",
      "Name: title, dtype: object\n"
     ]
    },
    {
     "data": {
      "text/plain": [
       "40777     日内瓦公约/1949年/第三公约/第三部\\n\\n\\n　　每一战俘，当其受讯问时，仅须告以其姓...\n",
       "35645     联合国海洋法公约/第11部分 “区域”\\n\\n=第11部分　“区域”=\\n\\n　　为本部分的...\n",
       "11101     经济、社会及文化权利国际公约\\n\\n本公约缔约各国:\\n\\n考虑到，按照联合国宪章所宣布的原...\n",
       "35647     联合国海洋法公约/第13部分 海洋科学研究\\n\\n=第13部分　海洋科学研究=\\n\\n　　所...\n",
       "73030     消耗臭氧层物质管理条例 (2018年)\\n\\n<onlyinclude>\\n第一条　为了加强...\n",
       "250115    国际民用航空公约\\n\\n序　言 <BR>    鉴于国际民用航空的未来发展对建立和保持世界各...\n",
       "94224     关于婚姻的同意、结婚最低年龄及婚姻登记的公约\\n\\n　　缔约国，\\n\\n　　深愿依照联合国宪...\n",
       "63946     大陆架公约\\n\\n=大陆架公约=\\n\\n　　本公约当事各国,\\n\\n　　议定条款如下：\\n\\...\n",
       "35679     联合国海洋法公约/附件2 大陆架界限委员会\\n\\n=附件2　大陆架界限委员会=\\n\\n　　按...\n",
       "40755     日内瓦公约/1949年/第三公约/附件二\\n\\n　　本公约第一百一十二条所规定之混合医务委员...\n",
       "139124    保护工业产权巴黎公约\\n\\n保护工业产权巴黎公约\\n\\n1883年3月20日\\n1900年1...\n",
       "147319    全国人民代表大会常务委员会关于批准《上海合作组织反极端主义公约》的决定\\n\\n第十三届全国人...\n",
       "35648     联合国海洋法公约/第14部分 海洋技术的发展和转让\\n\\n=第14部分　海洋技术的发展和转让...\n",
       "35634     联合国海洋法公约/序言\\n\\n=序言=\\n\\n　　本公约缔约各国，\\n\\n　　本着以互相谅解...\n",
       "64283     核材料实物保护公约\\n\\n　《核材料实物保护公约》于一九八0年三月三日在维也纳国际原子能机构...\n",
       "35755     中华人民共和国外交部长吴学谦关于我国加入1949年日内瓦四公约两项附加议定书和声明保留的通知...\n",
       "128346    消除一切形式种族歧视国际公约\\n\\n本公约缔约国， \\n\\n 一. 本公约称\"种族歧视\"者，...\n",
       "145622    中华人民共和国政府和菲律宾共和国政府关于油气开发合作的谅解备忘录\\n\\n　　一、基础。忆及《...\n",
       "31730     打击恐怖主义、分裂主义和极端主义上海公约\\n\\n　　哈萨克斯坦共和国、中华人民共和国、吉尔吉...\n",
       "33028     日内瓦公约/1864年\\n\\n瑞士邦联、巴登大公殿下、比利时国王陛下、丹麦国陛下、西班牙女王...\n",
       "Name: preview, dtype: object"
      ]
     },
     "execution_count": 299,
     "metadata": {},
     "output_type": "execute_result"
    }
   ],
   "source": [
    "def sample_search2(x):\n",
    "    sub= df[df.preview.str.contains(x)]\n",
    "    print(sub.isy.value_counts())\n",
    "    print(sub[sub.isy].sample(7).title)\n",
    "    return sub.preview.sample(20)\n",
    "\n",
    "sample_search2(\"公约\")"
   ]
  },
  {
   "cell_type": "code",
   "execution_count": 269,
   "metadata": {},
   "outputs": [
    {
     "data": {
      "text/html": [
       "<div>\n",
       "<style scoped>\n",
       "    .dataframe tbody tr th:only-of-type {\n",
       "        vertical-align: middle;\n",
       "    }\n",
       "\n",
       "    .dataframe tbody tr th {\n",
       "        vertical-align: top;\n",
       "    }\n",
       "\n",
       "    .dataframe thead th {\n",
       "        text-align: right;\n",
       "    }\n",
       "</style>\n",
       "<table border=\"1\" class=\"dataframe\">\n",
       "  <thead>\n",
       "    <tr style=\"text-align: right;\">\n",
       "      <th></th>\n",
       "      <th>isy</th>\n",
       "    </tr>\n",
       "  </thead>\n",
       "  <tbody>\n",
       "    <tr>\n",
       "      <th>True</th>\n",
       "      <td>282643</td>\n",
       "    </tr>\n",
       "    <tr>\n",
       "      <th>False</th>\n",
       "      <td>29080</td>\n",
       "    </tr>\n",
       "  </tbody>\n",
       "</table>\n",
       "</div>"
      ],
      "text/plain": [
       "          isy\n",
       "True   282643\n",
       "False   29080"
      ]
     },
     "execution_count": 269,
     "metadata": {},
     "output_type": "execute_result"
    }
   ],
   "source": [
    "tt_kw(\"總統華總一義字\")"
   ]
  },
  {
   "cell_type": "code",
   "execution_count": 248,
   "metadata": {},
   "outputs": [
    {
     "data": {
      "text/plain": [
       "(          isy\n",
       " True   282844\n",
       " False   28879,           isy\n",
       " True   282839\n",
       " False   28884,           isy\n",
       " True   282835\n",
       " False   28888)"
      ]
     },
     "execution_count": 248,
     "metadata": {},
     "output_type": "execute_result"
    }
   ],
   "source": [
    "pv_kw(\"魯迅\"),pv_kw(\"鲁迅\"),pv_kw(\"戴望舒\"),"
   ]
  },
  {
   "cell_type": "code",
   "execution_count": 243,
   "metadata": {},
   "outputs": [
    {
     "data": {
      "text/plain": [
       "(          isy\n",
       " True   282939\n",
       " False   28784,           isy\n",
       " True   282931\n",
       " False   28792,           isy\n",
       " True   282929\n",
       " False   28794)"
      ]
     },
     "execution_count": 243,
     "metadata": {},
     "output_type": "execute_result"
    }
   ],
   "source": [
    "pv_kw(\"联合国\"),pv_kw(\"新时代\"),pv_kw(\"新時代\")"
   ]
  },
  {
   "cell_type": "code",
   "execution_count": 334,
   "metadata": {},
   "outputs": [
    {
     "data": {
      "text/html": [
       "<div>\n",
       "<style scoped>\n",
       "    .dataframe tbody tr th:only-of-type {\n",
       "        vertical-align: middle;\n",
       "    }\n",
       "\n",
       "    .dataframe tbody tr th {\n",
       "        vertical-align: top;\n",
       "    }\n",
       "\n",
       "    .dataframe thead th {\n",
       "        text-align: right;\n",
       "    }\n",
       "</style>\n",
       "<table border=\"1\" class=\"dataframe\">\n",
       "  <thead>\n",
       "    <tr style=\"text-align: right;\">\n",
       "      <th></th>\n",
       "      <th>isy</th>\n",
       "    </tr>\n",
       "  </thead>\n",
       "  <tbody>\n",
       "    <tr>\n",
       "      <th>True</th>\n",
       "      <td>282116</td>\n",
       "    </tr>\n",
       "    <tr>\n",
       "      <th>False</th>\n",
       "      <td>29607</td>\n",
       "    </tr>\n",
       "  </tbody>\n",
       "</table>\n",
       "</div>"
      ],
      "text/plain": [
       "          isy\n",
       "True   282116\n",
       "False   29607"
      ]
     },
     "execution_count": 334,
     "metadata": {},
     "output_type": "execute_result"
    }
   ],
   "source": [
    "tt_kw(\"习近平\")"
   ]
  },
  {
   "cell_type": "code",
   "execution_count": 233,
   "metadata": {},
   "outputs": [
    {
     "data": {
      "text/html": [
       "<div>\n",
       "<style scoped>\n",
       "    .dataframe tbody tr th:only-of-type {\n",
       "        vertical-align: middle;\n",
       "    }\n",
       "\n",
       "    .dataframe tbody tr th {\n",
       "        vertical-align: top;\n",
       "    }\n",
       "\n",
       "    .dataframe thead th {\n",
       "        text-align: right;\n",
       "    }\n",
       "</style>\n",
       "<table border=\"1\" class=\"dataframe\">\n",
       "  <thead>\n",
       "    <tr style=\"text-align: right;\">\n",
       "      <th></th>\n",
       "      <th>isy</th>\n",
       "    </tr>\n",
       "  </thead>\n",
       "  <tbody>\n",
       "    <tr>\n",
       "      <th>True</th>\n",
       "      <td>284522</td>\n",
       "    </tr>\n",
       "    <tr>\n",
       "      <th>False</th>\n",
       "      <td>27201</td>\n",
       "    </tr>\n",
       "  </tbody>\n",
       "</table>\n",
       "</div>"
      ],
      "text/plain": [
       "          isy\n",
       "True   284522\n",
       "False   27201"
      ]
     },
     "execution_count": 233,
     "metadata": {},
     "output_type": "execute_result"
    }
   ],
   "source": [
    "pv_kw(\"中国人\")"
   ]
  },
  {
   "cell_type": "code",
   "execution_count": 225,
   "metadata": {},
   "outputs": [
    {
     "data": {
      "text/plain": [
       "(          isy\n",
       " True   284634\n",
       " False   27089,           isy\n",
       " True   284559\n",
       " False   27164)"
      ]
     },
     "execution_count": 225,
     "metadata": {},
     "output_type": "execute_result"
    }
   ],
   "source": [
    "pv_kw(\"国务院\"),pv_kw(\"基本准则\")"
   ]
  },
  {
   "cell_type": "code",
   "execution_count": 312,
   "metadata": {},
   "outputs": [
    {
     "data": {
      "text/plain": [
       "(          isy\n",
       " True   282319\n",
       " False   29404,           isy\n",
       " True   282319\n",
       " False   29404)"
      ]
     },
     "execution_count": 312,
     "metadata": {},
     "output_type": "execute_result"
    }
   ],
   "source": [
    "pv_kw(\"民國的\"),pv_kw(\"民国的\")"
   ]
  },
  {
   "cell_type": "code",
   "execution_count": 224,
   "metadata": {},
   "outputs": [
    {
     "data": {
      "text/html": [
       "<div>\n",
       "<style scoped>\n",
       "    .dataframe tbody tr th:only-of-type {\n",
       "        vertical-align: middle;\n",
       "    }\n",
       "\n",
       "    .dataframe tbody tr th {\n",
       "        vertical-align: top;\n",
       "    }\n",
       "\n",
       "    .dataframe thead th {\n",
       "        text-align: right;\n",
       "    }\n",
       "</style>\n",
       "<table border=\"1\" class=\"dataframe\">\n",
       "  <thead>\n",
       "    <tr style=\"text-align: right;\">\n",
       "      <th></th>\n",
       "      <th>isy</th>\n",
       "    </tr>\n",
       "  </thead>\n",
       "  <tbody>\n",
       "    <tr>\n",
       "      <th>True</th>\n",
       "      <td>284932</td>\n",
       "    </tr>\n",
       "    <tr>\n",
       "      <th>False</th>\n",
       "      <td>26791</td>\n",
       "    </tr>\n",
       "  </tbody>\n",
       "</table>\n",
       "</div>"
      ],
      "text/plain": [
       "          isy\n",
       "True   284932\n",
       "False   26791"
      ]
     },
     "execution_count": 224,
     "metadata": {},
     "output_type": "execute_result"
    }
   ],
   "source": [
    "pv_kw(\"共产党\")"
   ]
  },
  {
   "cell_type": "code",
   "execution_count": 222,
   "metadata": {},
   "outputs": [
    {
     "data": {
      "text/html": [
       "<div>\n",
       "<style scoped>\n",
       "    .dataframe tbody tr th:only-of-type {\n",
       "        vertical-align: middle;\n",
       "    }\n",
       "\n",
       "    .dataframe tbody tr th {\n",
       "        vertical-align: top;\n",
       "    }\n",
       "\n",
       "    .dataframe thead th {\n",
       "        text-align: right;\n",
       "    }\n",
       "</style>\n",
       "<table border=\"1\" class=\"dataframe\">\n",
       "  <thead>\n",
       "    <tr style=\"text-align: right;\">\n",
       "      <th></th>\n",
       "      <th>isy</th>\n",
       "    </tr>\n",
       "  </thead>\n",
       "  <tbody>\n",
       "    <tr>\n",
       "      <th>True</th>\n",
       "      <td>284968</td>\n",
       "    </tr>\n",
       "    <tr>\n",
       "      <th>False</th>\n",
       "      <td>26755</td>\n",
       "    </tr>\n",
       "  </tbody>\n",
       "</table>\n",
       "</div>"
      ],
      "text/plain": [
       "          isy\n",
       "True   284968\n",
       "False   26755"
      ]
     },
     "execution_count": 222,
     "metadata": {},
     "output_type": "execute_result"
    }
   ],
   "source": [
    "pv_kw(\"共和国\")"
   ]
  },
  {
   "cell_type": "code",
   "execution_count": 215,
   "metadata": {},
   "outputs": [
    {
     "data": {
      "text/html": [
       "<div>\n",
       "<style scoped>\n",
       "    .dataframe tbody tr th:only-of-type {\n",
       "        vertical-align: middle;\n",
       "    }\n",
       "\n",
       "    .dataframe tbody tr th {\n",
       "        vertical-align: top;\n",
       "    }\n",
       "\n",
       "    .dataframe thead th {\n",
       "        text-align: right;\n",
       "    }\n",
       "</style>\n",
       "<table border=\"1\" class=\"dataframe\">\n",
       "  <thead>\n",
       "    <tr style=\"text-align: right;\">\n",
       "      <th></th>\n",
       "      <th>isy</th>\n",
       "    </tr>\n",
       "  </thead>\n",
       "  <tbody>\n",
       "    <tr>\n",
       "      <th>True</th>\n",
       "      <td>285257</td>\n",
       "    </tr>\n",
       "    <tr>\n",
       "      <th>False</th>\n",
       "      <td>26466</td>\n",
       "    </tr>\n",
       "  </tbody>\n",
       "</table>\n",
       "</div>"
      ],
      "text/plain": [
       "          isy\n",
       "True   285257\n",
       "False   26466"
      ]
     },
     "execution_count": 215,
     "metadata": {},
     "output_type": "execute_result"
    }
   ],
   "source": [
    "tt_kw(\"號解釋\")"
   ]
  },
  {
   "cell_type": "code",
   "execution_count": 300,
   "metadata": {},
   "outputs": [
    {
     "data": {
      "text/plain": [
       "(          isy\n",
       " True   282615\n",
       " False   29108,           isy\n",
       " True   282614\n",
       " False   29109,           isy\n",
       " True   282410\n",
       " False   29313,           isy\n",
       " True   282334\n",
       " False   29389)"
      ]
     },
     "execution_count": 300,
     "metadata": {},
     "output_type": "execute_result"
    }
   ],
   "source": [
    "pv_kw(\"上海市\"),pv_kw(\"吸烟\"),pv_kw(\"条例\"),pv_kw(\"公约\")"
   ]
  },
  {
   "cell_type": "code",
   "execution_count": 218,
   "metadata": {},
   "outputs": [
    {
     "data": {
      "text/html": [
       "<div>\n",
       "<style scoped>\n",
       "    .dataframe tbody tr th:only-of-type {\n",
       "        vertical-align: middle;\n",
       "    }\n",
       "\n",
       "    .dataframe tbody tr th {\n",
       "        vertical-align: top;\n",
       "    }\n",
       "\n",
       "    .dataframe thead th {\n",
       "        text-align: right;\n",
       "    }\n",
       "</style>\n",
       "<table border=\"1\" class=\"dataframe\">\n",
       "  <thead>\n",
       "    <tr style=\"text-align: right;\">\n",
       "      <th></th>\n",
       "      <th>isy</th>\n",
       "    </tr>\n",
       "  </thead>\n",
       "  <tbody>\n",
       "    <tr>\n",
       "      <th>True</th>\n",
       "      <td>285250</td>\n",
       "    </tr>\n",
       "    <tr>\n",
       "      <th>False</th>\n",
       "      <td>26473</td>\n",
       "    </tr>\n",
       "  </tbody>\n",
       "</table>\n",
       "</div>"
      ],
      "text/plain": [
       "          isy\n",
       "True   285250\n",
       "False   26473"
      ]
     },
     "execution_count": 218,
     "metadata": {},
     "output_type": "execute_result"
    }
   ],
   "source": [
    "pv_kw(\"当事人\")"
   ]
  },
  {
   "cell_type": "code",
   "execution_count": 325,
   "metadata": {},
   "outputs": [
    {
     "data": {
      "text/html": [
       "<div>\n",
       "<style scoped>\n",
       "    .dataframe tbody tr th:only-of-type {\n",
       "        vertical-align: middle;\n",
       "    }\n",
       "\n",
       "    .dataframe tbody tr th {\n",
       "        vertical-align: top;\n",
       "    }\n",
       "\n",
       "    .dataframe thead th {\n",
       "        text-align: right;\n",
       "    }\n",
       "</style>\n",
       "<table border=\"1\" class=\"dataframe\">\n",
       "  <thead>\n",
       "    <tr style=\"text-align: right;\">\n",
       "      <th></th>\n",
       "      <th>isy</th>\n",
       "    </tr>\n",
       "  </thead>\n",
       "  <tbody>\n",
       "    <tr>\n",
       "      <th>True</th>\n",
       "      <td>282192</td>\n",
       "    </tr>\n",
       "    <tr>\n",
       "      <th>False</th>\n",
       "      <td>29531</td>\n",
       "    </tr>\n",
       "  </tbody>\n",
       "</table>\n",
       "</div>"
      ],
      "text/plain": [
       "          isy\n",
       "True   282192\n",
       "False   29531"
      ]
     },
     "execution_count": 325,
     "metadata": {},
     "output_type": "execute_result"
    }
   ],
   "source": [
    "tt_kw(\"会计准则\")"
   ]
  },
  {
   "cell_type": "code",
   "execution_count": 212,
   "metadata": {},
   "outputs": [
    {
     "data": {
      "text/html": [
       "<div>\n",
       "<style scoped>\n",
       "    .dataframe tbody tr th:only-of-type {\n",
       "        vertical-align: middle;\n",
       "    }\n",
       "\n",
       "    .dataframe tbody tr th {\n",
       "        vertical-align: top;\n",
       "    }\n",
       "\n",
       "    .dataframe thead th {\n",
       "        text-align: right;\n",
       "    }\n",
       "</style>\n",
       "<table border=\"1\" class=\"dataframe\">\n",
       "  <thead>\n",
       "    <tr style=\"text-align: right;\">\n",
       "      <th></th>\n",
       "      <th>isy</th>\n",
       "    </tr>\n",
       "  </thead>\n",
       "  <tbody>\n",
       "    <tr>\n",
       "      <th>True</th>\n",
       "      <td>287385</td>\n",
       "    </tr>\n",
       "    <tr>\n",
       "      <th>False</th>\n",
       "      <td>24338</td>\n",
       "    </tr>\n",
       "  </tbody>\n",
       "</table>\n",
       "</div>"
      ],
      "text/plain": [
       "          isy\n",
       "True   287385\n",
       "False   24338"
      ]
     },
     "execution_count": 212,
     "metadata": {},
     "output_type": "execute_result"
    }
   ],
   "source": [
    "pv_kw(\"當事人\")"
   ]
  },
  {
   "cell_type": "code",
   "execution_count": 196,
   "metadata": {},
   "outputs": [
    {
     "data": {
      "text/html": [
       "<div>\n",
       "<style scoped>\n",
       "    .dataframe tbody tr th:only-of-type {\n",
       "        vertical-align: middle;\n",
       "    }\n",
       "\n",
       "    .dataframe tbody tr th {\n",
       "        vertical-align: top;\n",
       "    }\n",
       "\n",
       "    .dataframe thead th {\n",
       "        text-align: right;\n",
       "    }\n",
       "</style>\n",
       "<table border=\"1\" class=\"dataframe\">\n",
       "  <thead>\n",
       "    <tr style=\"text-align: right;\">\n",
       "      <th></th>\n",
       "      <th>isy</th>\n",
       "    </tr>\n",
       "  </thead>\n",
       "  <tbody>\n",
       "    <tr>\n",
       "      <th>True</th>\n",
       "      <td>287694</td>\n",
       "    </tr>\n",
       "    <tr>\n",
       "      <th>False</th>\n",
       "      <td>24029</td>\n",
       "    </tr>\n",
       "  </tbody>\n",
       "</table>\n",
       "</div>"
      ],
      "text/plain": [
       "          isy\n",
       "True   287694\n",
       "False   24029"
      ]
     },
     "execution_count": 196,
     "metadata": {},
     "output_type": "execute_result"
    }
   ],
   "source": [
    "pv_kw(\"中華民國\")"
   ]
  },
  {
   "cell_type": "code",
   "execution_count": 307,
   "metadata": {},
   "outputs": [
    {
     "data": {
      "text/html": [
       "<div>\n",
       "<style scoped>\n",
       "    .dataframe tbody tr th:only-of-type {\n",
       "        vertical-align: middle;\n",
       "    }\n",
       "\n",
       "    .dataframe tbody tr th {\n",
       "        vertical-align: top;\n",
       "    }\n",
       "\n",
       "    .dataframe thead th {\n",
       "        text-align: right;\n",
       "    }\n",
       "</style>\n",
       "<table border=\"1\" class=\"dataframe\">\n",
       "  <thead>\n",
       "    <tr style=\"text-align: right;\">\n",
       "      <th></th>\n",
       "      <th>isy</th>\n",
       "    </tr>\n",
       "  </thead>\n",
       "  <tbody>\n",
       "    <tr>\n",
       "      <th>True</th>\n",
       "      <td>282321</td>\n",
       "    </tr>\n",
       "    <tr>\n",
       "      <th>False</th>\n",
       "      <td>29402</td>\n",
       "    </tr>\n",
       "  </tbody>\n",
       "</table>\n",
       "</div>"
      ],
      "text/plain": [
       "          isy\n",
       "True   282321\n",
       "False   29402"
      ]
     },
     "execution_count": 307,
     "metadata": {},
     "output_type": "execute_result"
    }
   ],
   "source": [
    "pv_kw(\"中央政府\")"
   ]
  },
  {
   "cell_type": "code",
   "execution_count": 322,
   "metadata": {},
   "outputs": [
    {
     "data": {
      "text/html": [
       "<div>\n",
       "<style scoped>\n",
       "    .dataframe tbody tr th:only-of-type {\n",
       "        vertical-align: middle;\n",
       "    }\n",
       "\n",
       "    .dataframe tbody tr th {\n",
       "        vertical-align: top;\n",
       "    }\n",
       "\n",
       "    .dataframe thead th {\n",
       "        text-align: right;\n",
       "    }\n",
       "</style>\n",
       "<table border=\"1\" class=\"dataframe\">\n",
       "  <thead>\n",
       "    <tr style=\"text-align: right;\">\n",
       "      <th></th>\n",
       "      <th>isy</th>\n",
       "    </tr>\n",
       "  </thead>\n",
       "  <tbody>\n",
       "    <tr>\n",
       "      <th>True</th>\n",
       "      <td>282287</td>\n",
       "    </tr>\n",
       "    <tr>\n",
       "      <th>False</th>\n",
       "      <td>29436</td>\n",
       "    </tr>\n",
       "  </tbody>\n",
       "</table>\n",
       "</div>"
      ],
      "text/plain": [
       "          isy\n",
       "True   282287\n",
       "False   29436"
      ]
     },
     "execution_count": 322,
     "metadata": {},
     "output_type": "execute_result"
    }
   ],
   "source": [
    "tt_kw(\"中国的\")"
   ]
  },
  {
   "cell_type": "code",
   "execution_count": 323,
   "metadata": {},
   "outputs": [
    {
     "data": {
      "text/html": [
       "<div>\n",
       "<style scoped>\n",
       "    .dataframe tbody tr th:only-of-type {\n",
       "        vertical-align: middle;\n",
       "    }\n",
       "\n",
       "    .dataframe tbody tr th {\n",
       "        vertical-align: top;\n",
       "    }\n",
       "\n",
       "    .dataframe thead th {\n",
       "        text-align: right;\n",
       "    }\n",
       "</style>\n",
       "<table border=\"1\" class=\"dataframe\">\n",
       "  <thead>\n",
       "    <tr style=\"text-align: right;\">\n",
       "      <th></th>\n",
       "      <th>isy</th>\n",
       "    </tr>\n",
       "  </thead>\n",
       "  <tbody>\n",
       "    <tr>\n",
       "      <th>True</th>\n",
       "      <td>282287</td>\n",
       "    </tr>\n",
       "    <tr>\n",
       "      <th>False</th>\n",
       "      <td>29436</td>\n",
       "    </tr>\n",
       "  </tbody>\n",
       "</table>\n",
       "</div>"
      ],
      "text/plain": [
       "          isy\n",
       "True   282287\n",
       "False   29436"
      ]
     },
     "execution_count": 323,
     "metadata": {},
     "output_type": "execute_result"
    }
   ],
   "source": [
    "pv_kw(\"組織條例\")"
   ]
  },
  {
   "cell_type": "code",
   "execution_count": 202,
   "metadata": {},
   "outputs": [
    {
     "data": {
      "text/html": [
       "<div>\n",
       "<style scoped>\n",
       "    .dataframe tbody tr th:only-of-type {\n",
       "        vertical-align: middle;\n",
       "    }\n",
       "\n",
       "    .dataframe tbody tr th {\n",
       "        vertical-align: top;\n",
       "    }\n",
       "\n",
       "    .dataframe thead th {\n",
       "        text-align: right;\n",
       "    }\n",
       "</style>\n",
       "<table border=\"1\" class=\"dataframe\">\n",
       "  <thead>\n",
       "    <tr style=\"text-align: right;\">\n",
       "      <th></th>\n",
       "      <th>isy</th>\n",
       "    </tr>\n",
       "  </thead>\n",
       "  <tbody>\n",
       "    <tr>\n",
       "      <th>True</th>\n",
       "      <td>287513</td>\n",
       "    </tr>\n",
       "    <tr>\n",
       "      <th>False</th>\n",
       "      <td>24210</td>\n",
       "    </tr>\n",
       "  </tbody>\n",
       "</table>\n",
       "</div>"
      ],
      "text/plain": [
       "          isy\n",
       "True   287513\n",
       "False   24210"
      ]
     },
     "execution_count": 202,
     "metadata": {},
     "output_type": "execute_result"
    }
   ],
   "source": [
    "pv_kw(\"中華民國\")"
   ]
  },
  {
   "cell_type": "code",
   "execution_count": 143,
   "metadata": {},
   "outputs": [
    {
     "data": {
      "text/html": [
       "<div>\n",
       "<style scoped>\n",
       "    .dataframe tbody tr th:only-of-type {\n",
       "        vertical-align: middle;\n",
       "    }\n",
       "\n",
       "    .dataframe tbody tr th {\n",
       "        vertical-align: top;\n",
       "    }\n",
       "\n",
       "    .dataframe thead th {\n",
       "        text-align: right;\n",
       "    }\n",
       "</style>\n",
       "<table border=\"1\" class=\"dataframe\">\n",
       "  <thead>\n",
       "    <tr style=\"text-align: right;\">\n",
       "      <th></th>\n",
       "      <th>isy</th>\n",
       "    </tr>\n",
       "  </thead>\n",
       "  <tbody>\n",
       "    <tr>\n",
       "      <th>True</th>\n",
       "      <td>288252</td>\n",
       "    </tr>\n",
       "    <tr>\n",
       "      <th>False</th>\n",
       "      <td>23471</td>\n",
       "    </tr>\n",
       "  </tbody>\n",
       "</table>\n",
       "</div>"
      ],
      "text/plain": [
       "          isy\n",
       "True   288252\n",
       "False   23471"
      ]
     },
     "execution_count": 143,
     "metadata": {},
     "output_type": "execute_result"
    }
   ],
   "source": [
    "for i in [\"国家\",\"科学\",\"革命\",\"英国\",\"美国\",\"法国\",\"香港\",\"共和国\"]:\n",
    "    df.loc[df.title.str.contains(i),\"isy\"] = False\n",
    "stats()"
   ]
  },
  {
   "cell_type": "code",
   "execution_count": 176,
   "metadata": {},
   "outputs": [
    {
     "data": {
      "text/html": [
       "<div>\n",
       "<style scoped>\n",
       "    .dataframe tbody tr th:only-of-type {\n",
       "        vertical-align: middle;\n",
       "    }\n",
       "\n",
       "    .dataframe tbody tr th {\n",
       "        vertical-align: top;\n",
       "    }\n",
       "\n",
       "    .dataframe thead th {\n",
       "        text-align: right;\n",
       "    }\n",
       "</style>\n",
       "<table border=\"1\" class=\"dataframe\">\n",
       "  <thead>\n",
       "    <tr style=\"text-align: right;\">\n",
       "      <th></th>\n",
       "      <th>isy</th>\n",
       "    </tr>\n",
       "  </thead>\n",
       "  <tbody>\n",
       "    <tr>\n",
       "      <th>True</th>\n",
       "      <td>287798</td>\n",
       "    </tr>\n",
       "    <tr>\n",
       "      <th>False</th>\n",
       "      <td>23925</td>\n",
       "    </tr>\n",
       "  </tbody>\n",
       "</table>\n",
       "</div>"
      ],
      "text/plain": [
       "          isy\n",
       "True   287798\n",
       "False   23925"
      ]
     },
     "execution_count": 176,
     "metadata": {},
     "output_type": "execute_result"
    }
   ],
   "source": [
    "for i in [\"毛泽东\",\"蒋介石\",\"云南\",\"广西\",\"北京市\",\"通告\",\"病毒\",\"命令\",\"抗日\"]:\n",
    "    df.loc[df.title.str.contains(i),\"isy\"] = False\n",
    "stats()"
   ]
  },
  {
   "cell_type": "code",
   "execution_count": 185,
   "metadata": {},
   "outputs": [
    {
     "data": {
      "text/html": [
       "<div>\n",
       "<style scoped>\n",
       "    .dataframe tbody tr th:only-of-type {\n",
       "        vertical-align: middle;\n",
       "    }\n",
       "\n",
       "    .dataframe tbody tr th {\n",
       "        vertical-align: top;\n",
       "    }\n",
       "\n",
       "    .dataframe thead th {\n",
       "        text-align: right;\n",
       "    }\n",
       "</style>\n",
       "<table border=\"1\" class=\"dataframe\">\n",
       "  <thead>\n",
       "    <tr style=\"text-align: right;\">\n",
       "      <th></th>\n",
       "      <th>isy</th>\n",
       "    </tr>\n",
       "  </thead>\n",
       "  <tbody>\n",
       "    <tr>\n",
       "      <th>True</th>\n",
       "      <td>287694</td>\n",
       "    </tr>\n",
       "    <tr>\n",
       "      <th>False</th>\n",
       "      <td>24029</td>\n",
       "    </tr>\n",
       "  </tbody>\n",
       "</table>\n",
       "</div>"
      ],
      "text/plain": [
       "          isy\n",
       "True   287694\n",
       "False   24029"
      ]
     },
     "execution_count": 185,
     "metadata": {},
     "output_type": "execute_result"
    }
   ],
   "source": [
    "for i in [\"国民党\",\"國民黨\",\"共產黨\",\"共产党\"]:\n",
    "    df.loc[df.title.str.contains(i),\"isy\"] = False\n",
    "stats()"
   ]
  },
  {
   "cell_type": "code",
   "execution_count": 120,
   "metadata": {},
   "outputs": [
    {
     "data": {
      "text/html": [
       "<div>\n",
       "<style scoped>\n",
       "    .dataframe tbody tr th:only-of-type {\n",
       "        vertical-align: middle;\n",
       "    }\n",
       "\n",
       "    .dataframe tbody tr th {\n",
       "        vertical-align: top;\n",
       "    }\n",
       "\n",
       "    .dataframe thead th {\n",
       "        text-align: right;\n",
       "    }\n",
       "</style>\n",
       "<table border=\"1\" class=\"dataframe\">\n",
       "  <thead>\n",
       "    <tr style=\"text-align: right;\">\n",
       "      <th></th>\n",
       "      <th>isy</th>\n",
       "    </tr>\n",
       "  </thead>\n",
       "  <tbody>\n",
       "    <tr>\n",
       "      <th>True</th>\n",
       "      <td>288564</td>\n",
       "    </tr>\n",
       "    <tr>\n",
       "      <th>False</th>\n",
       "      <td>23159</td>\n",
       "    </tr>\n",
       "  </tbody>\n",
       "</table>\n",
       "</div>"
      ],
      "text/plain": [
       "          isy\n",
       "True   288564\n",
       "False   23159"
      ]
     },
     "execution_count": 120,
     "metadata": {},
     "output_type": "execute_result"
    }
   ],
   "source": [
    "df.loc[df.title.str.contains(\"新闻\"),\"isy\"] = False\n",
    "df.loc[df.title.str.contains(\"网络\"),\"isy\"] = False\n",
    "stats()"
   ]
  },
  {
   "cell_type": "code",
   "execution_count": 113,
   "metadata": {},
   "outputs": [
    {
     "data": {
      "text/html": [
       "<div>\n",
       "<style scoped>\n",
       "    .dataframe tbody tr th:only-of-type {\n",
       "        vertical-align: middle;\n",
       "    }\n",
       "\n",
       "    .dataframe tbody tr th {\n",
       "        vertical-align: top;\n",
       "    }\n",
       "\n",
       "    .dataframe thead th {\n",
       "        text-align: right;\n",
       "    }\n",
       "</style>\n",
       "<table border=\"1\" class=\"dataframe\">\n",
       "  <thead>\n",
       "    <tr style=\"text-align: right;\">\n",
       "      <th></th>\n",
       "      <th>isy</th>\n",
       "    </tr>\n",
       "  </thead>\n",
       "  <tbody>\n",
       "    <tr>\n",
       "      <th>True</th>\n",
       "      <td>288581</td>\n",
       "    </tr>\n",
       "    <tr>\n",
       "      <th>False</th>\n",
       "      <td>23142</td>\n",
       "    </tr>\n",
       "  </tbody>\n",
       "</table>\n",
       "</div>"
      ],
      "text/plain": [
       "          isy\n",
       "True   288581\n",
       "False   23142"
      ]
     },
     "execution_count": 113,
     "metadata": {},
     "output_type": "execute_result"
    }
   ],
   "source": [
    "df.loc[df.title.str.contains(\"新聞\"),\"isy\"] = False\n",
    "stats()"
   ]
  },
  {
   "cell_type": "code",
   "execution_count": 85,
   "metadata": {},
   "outputs": [
    {
     "data": {
      "text/html": [
       "<div>\n",
       "<style scoped>\n",
       "    .dataframe tbody tr th:only-of-type {\n",
       "        vertical-align: middle;\n",
       "    }\n",
       "\n",
       "    .dataframe tbody tr th {\n",
       "        vertical-align: top;\n",
       "    }\n",
       "\n",
       "    .dataframe thead th {\n",
       "        text-align: right;\n",
       "    }\n",
       "</style>\n",
       "<table border=\"1\" class=\"dataframe\">\n",
       "  <thead>\n",
       "    <tr style=\"text-align: right;\">\n",
       "      <th></th>\n",
       "      <th>isy</th>\n",
       "    </tr>\n",
       "  </thead>\n",
       "  <tbody>\n",
       "    <tr>\n",
       "      <th>True</th>\n",
       "      <td>292120</td>\n",
       "    </tr>\n",
       "    <tr>\n",
       "      <th>False</th>\n",
       "      <td>19603</td>\n",
       "    </tr>\n",
       "  </tbody>\n",
       "</table>\n",
       "</div>"
      ],
      "text/plain": [
       "          isy\n",
       "True   292120\n",
       "False   19603"
      ]
     },
     "execution_count": 85,
     "metadata": {},
     "output_type": "execute_result"
    }
   ],
   "source": [
    "df.loc[df.title.str.contains(\"细则\"),\"isy\"] = False\n",
    "stats()"
   ]
  },
  {
   "cell_type": "code",
   "execution_count": 92,
   "metadata": {},
   "outputs": [
    {
     "data": {
      "text/html": [
       "<div>\n",
       "<style scoped>\n",
       "    .dataframe tbody tr th:only-of-type {\n",
       "        vertical-align: middle;\n",
       "    }\n",
       "\n",
       "    .dataframe tbody tr th {\n",
       "        vertical-align: top;\n",
       "    }\n",
       "\n",
       "    .dataframe thead th {\n",
       "        text-align: right;\n",
       "    }\n",
       "</style>\n",
       "<table border=\"1\" class=\"dataframe\">\n",
       "  <thead>\n",
       "    <tr style=\"text-align: right;\">\n",
       "      <th></th>\n",
       "      <th>isy</th>\n",
       "    </tr>\n",
       "  </thead>\n",
       "  <tbody>\n",
       "    <tr>\n",
       "      <th>True</th>\n",
       "      <td>288919</td>\n",
       "    </tr>\n",
       "    <tr>\n",
       "      <th>False</th>\n",
       "      <td>22804</td>\n",
       "    </tr>\n",
       "  </tbody>\n",
       "</table>\n",
       "</div>"
      ],
      "text/plain": [
       "          isy\n",
       "True   288919\n",
       "False   22804"
      ]
     },
     "execution_count": 92,
     "metadata": {},
     "output_type": "execute_result"
    }
   ],
   "source": [
    "df.loc[df.title.str.contains(\"管理\"),\"isy\"] = False\n",
    "stats()"
   ]
  },
  {
   "cell_type": "code",
   "execution_count": 86,
   "metadata": {},
   "outputs": [
    {
     "data": {
      "text/html": [
       "<div>\n",
       "<style scoped>\n",
       "    .dataframe tbody tr th:only-of-type {\n",
       "        vertical-align: middle;\n",
       "    }\n",
       "\n",
       "    .dataframe tbody tr th {\n",
       "        vertical-align: top;\n",
       "    }\n",
       "\n",
       "    .dataframe thead th {\n",
       "        text-align: right;\n",
       "    }\n",
       "</style>\n",
       "<table border=\"1\" class=\"dataframe\">\n",
       "  <thead>\n",
       "    <tr style=\"text-align: right;\">\n",
       "      <th></th>\n",
       "      <th>isy</th>\n",
       "    </tr>\n",
       "  </thead>\n",
       "  <tbody>\n",
       "    <tr>\n",
       "      <th>True</th>\n",
       "      <td>289727</td>\n",
       "    </tr>\n",
       "    <tr>\n",
       "      <th>False</th>\n",
       "      <td>21996</td>\n",
       "    </tr>\n",
       "  </tbody>\n",
       "</table>\n",
       "</div>"
      ],
      "text/plain": [
       "          isy\n",
       "True   289727\n",
       "False   21996"
      ]
     },
     "execution_count": 86,
     "metadata": {},
     "output_type": "execute_result"
    }
   ],
   "source": [
    "for i in range(61):\n",
    "    year = f\"{i+1960}年\"\n",
    "    df.loc[df.title.str.contains(year),\"isy\"] = False\n",
    "stats()"
   ]
  },
  {
   "cell_type": "code",
   "execution_count": 96,
   "metadata": {},
   "outputs": [
    {
     "data": {
      "text/html": [
       "<div>\n",
       "<style scoped>\n",
       "    .dataframe tbody tr th:only-of-type {\n",
       "        vertical-align: middle;\n",
       "    }\n",
       "\n",
       "    .dataframe tbody tr th {\n",
       "        vertical-align: top;\n",
       "    }\n",
       "\n",
       "    .dataframe thead th {\n",
       "        text-align: right;\n",
       "    }\n",
       "</style>\n",
       "<table border=\"1\" class=\"dataframe\">\n",
       "  <thead>\n",
       "    <tr style=\"text-align: right;\">\n",
       "      <th></th>\n",
       "      <th>isy</th>\n",
       "    </tr>\n",
       "  </thead>\n",
       "  <tbody>\n",
       "    <tr>\n",
       "      <th>True</th>\n",
       "      <td>288759</td>\n",
       "    </tr>\n",
       "    <tr>\n",
       "      <th>False</th>\n",
       "      <td>22964</td>\n",
       "    </tr>\n",
       "  </tbody>\n",
       "</table>\n",
       "</div>"
      ],
      "text/plain": [
       "          isy\n",
       "True   288759\n",
       "False   22964"
      ]
     },
     "execution_count": 96,
     "metadata": {},
     "output_type": "execute_result"
    }
   ],
   "source": [
    "df.loc[df.title.str.contains(\"规定\"),\"isy\"] = False\n",
    "stats()"
   ]
  },
  {
   "cell_type": "code",
   "execution_count": 106,
   "metadata": {},
   "outputs": [
    {
     "data": {
      "text/html": [
       "<div>\n",
       "<style scoped>\n",
       "    .dataframe tbody tr th:only-of-type {\n",
       "        vertical-align: middle;\n",
       "    }\n",
       "\n",
       "    .dataframe tbody tr th {\n",
       "        vertical-align: top;\n",
       "    }\n",
       "\n",
       "    .dataframe thead th {\n",
       "        text-align: right;\n",
       "    }\n",
       "</style>\n",
       "<table border=\"1\" class=\"dataframe\">\n",
       "  <thead>\n",
       "    <tr style=\"text-align: right;\">\n",
       "      <th></th>\n",
       "      <th>isy</th>\n",
       "    </tr>\n",
       "  </thead>\n",
       "  <tbody>\n",
       "    <tr>\n",
       "      <th>True</th>\n",
       "      <td>288609</td>\n",
       "    </tr>\n",
       "    <tr>\n",
       "      <th>False</th>\n",
       "      <td>23114</td>\n",
       "    </tr>\n",
       "  </tbody>\n",
       "</table>\n",
       "</div>"
      ],
      "text/plain": [
       "          isy\n",
       "True   288609\n",
       "False   23114"
      ]
     },
     "execution_count": 106,
     "metadata": {},
     "output_type": "execute_result"
    }
   ],
   "source": [
    "df.loc[df.title.str.contains(\"办法\"),\"isy\"] = False\n",
    "stats()"
   ]
  },
  {
   "cell_type": "code",
   "execution_count": 337,
   "metadata": {},
   "outputs": [
    {
     "data": {
      "text/html": [
       "<div>\n",
       "<style scoped>\n",
       "    .dataframe tbody tr th:only-of-type {\n",
       "        vertical-align: middle;\n",
       "    }\n",
       "\n",
       "    .dataframe tbody tr th {\n",
       "        vertical-align: top;\n",
       "    }\n",
       "\n",
       "    .dataframe thead th {\n",
       "        text-align: right;\n",
       "    }\n",
       "</style>\n",
       "<table border=\"1\" class=\"dataframe\">\n",
       "  <thead>\n",
       "    <tr style=\"text-align: right;\">\n",
       "      <th></th>\n",
       "      <th>id</th>\n",
       "      <th>url</th>\n",
       "      <th>title</th>\n",
       "      <th>preview</th>\n",
       "      <th>isy</th>\n",
       "    </tr>\n",
       "  </thead>\n",
       "  <tbody>\n",
       "    <tr>\n",
       "      <th>117815</th>\n",
       "      <td>58943</td>\n",
       "      <td>https://zh.wikisource.org/wiki?curid=58943</td>\n",
       "      <td>六州</td>\n",
       "      <td>六州\\n\\n堯傳舜，盛事千古難並。回龍馭，辭鳳掖，北內別有蓬瀛。為天子父，冊鴻名。萬年千歲福...</td>\n",
       "      <td>True</td>\n",
       "    </tr>\n",
       "    <tr>\n",
       "      <th>60417</th>\n",
       "      <td>498122</td>\n",
       "      <td>https://zh.wikisource.org/wiki?curid=498122</td>\n",
       "      <td>傷硤石縣病叟</td>\n",
       "      <td>傷硤石縣病叟\\n\\n&lt;onlyinclude&gt;\\n&lt;poem&gt;\\n無子無孫一病翁，將何筋力事...</td>\n",
       "      <td>True</td>\n",
       "    </tr>\n",
       "    <tr>\n",
       "      <th>37461</th>\n",
       "      <td>115023</td>\n",
       "      <td>https://zh.wikisource.org/wiki?curid=115023</td>\n",
       "      <td>艾人賦（以「懸艾為人，以禳毒氣」為韻）</td>\n",
       "      <td>艾人賦（以「懸艾為人，以禳毒氣」為韻）\\n\\n&lt;onlyinclude&gt;采彼艾兮，及此佳辰，...</td>\n",
       "      <td>True</td>\n",
       "    </tr>\n",
       "    <tr>\n",
       "      <th>288467</th>\n",
       "      <td>84697</td>\n",
       "      <td>https://zh.wikisource.org/wiki?curid=84697</td>\n",
       "      <td>佛學大辭典/俱解脫</td>\n",
       "      <td>佛學大辭典/俱解脫\\n\\n【俱解脫】\\n\\n（術語）九無學之一。鈍根之羅漢，唯離煩惱之障，謂...</td>\n",
       "      <td>True</td>\n",
       "    </tr>\n",
       "    <tr>\n",
       "      <th>307394</th>\n",
       "      <td>78947</td>\n",
       "      <td>https://zh.wikisource.org/wiki?curid=78947</td>\n",
       "      <td>佛學大辭典/事觀</td>\n",
       "      <td>佛學大辭典/事觀\\n\\n【事觀】\\n\\n（術語）對於理觀而言。（參見：觀）</td>\n",
       "      <td>True</td>\n",
       "    </tr>\n",
       "    <tr>\n",
       "      <th>183310</th>\n",
       "      <td>212873</td>\n",
       "      <td>https://zh.wikisource.org/wiki?curid=212873</td>\n",
       "      <td>春秋考 (四庫全書本)/卷06</td>\n",
       "      <td>春秋考 (四庫全書本)/卷06\\n\\n&lt;onlyinclude&gt;&lt;poem&gt;　　欽定四庫全書...</td>\n",
       "      <td>True</td>\n",
       "    </tr>\n",
       "    <tr>\n",
       "      <th>279594</th>\n",
       "      <td>94066</td>\n",
       "      <td>https://zh.wikisource.org/wiki?curid=94066</td>\n",
       "      <td>石炭（並引）</td>\n",
       "      <td>石炭（並引）\\n\\n&lt;onlyinclude&gt;&lt;poem&gt;\\n彭城舊無石炭。元豐元年十二月，...</td>\n",
       "      <td>True</td>\n",
       "    </tr>\n",
       "    <tr>\n",
       "      <th>79900</th>\n",
       "      <td>843594</td>\n",
       "      <td>https://zh.wikisource.org/wiki?curid=843594</td>\n",
       "      <td>敬業堂詩集 (四部叢刊本)/卷第十五</td>\n",
       "      <td>敬業堂詩集 (四部叢刊本)/卷第十五\\n\\n&lt;pages from=\"8\" to=\"45\" ...</td>\n",
       "      <td>True</td>\n",
       "    </tr>\n",
       "    <tr>\n",
       "      <th>47105</th>\n",
       "      <td>346836</td>\n",
       "      <td>https://zh.wikisource.org/wiki?curid=346836</td>\n",
       "      <td>女仙外史/029</td>\n",
       "      <td>女仙外史/029\\n\\n&lt;onlyinclude&gt;\\n　　話說月君，自鬼母尊與剎魔主去後，下...</td>\n",
       "      <td>True</td>\n",
       "    </tr>\n",
       "    <tr>\n",
       "      <th>16772</th>\n",
       "      <td>33207</td>\n",
       "      <td>https://zh.wikisource.org/wiki?curid=33207</td>\n",
       "      <td>送王尚一嚴嶷二侍御赴司馬都督軍</td>\n",
       "      <td>送王尚一嚴嶷二侍御赴司馬都督軍\\n\\n&lt;onlyinclude&gt;\\n&lt;poem&gt;\\n漢掖通沙...</td>\n",
       "      <td>True</td>\n",
       "    </tr>\n",
       "    <tr>\n",
       "      <th>291479</th>\n",
       "      <td>95319</td>\n",
       "      <td>https://zh.wikisource.org/wiki?curid=95319</td>\n",
       "      <td>和還舊居夢歸惠州白鶴山居作</td>\n",
       "      <td>和還舊居夢歸惠州白鶴山居作\\n\\n&lt;onlyinclude&gt;&lt;poem&gt;\\n痿人常念起，夫我...</td>\n",
       "      <td>True</td>\n",
       "    </tr>\n",
       "    <tr>\n",
       "      <th>12206</th>\n",
       "      <td>26503</td>\n",
       "      <td>https://zh.wikisource.org/wiki?curid=26503</td>\n",
       "      <td>鄒衍谷</td>\n",
       "      <td>鄒衍谷\\n\\n&lt;onlyinclude&gt;\\n&lt;poem&gt;\\n燕谷無煖氣，窮巖閉嚴陰。\\n鄒子...</td>\n",
       "      <td>True</td>\n",
       "    </tr>\n",
       "    <tr>\n",
       "      <th>243768</th>\n",
       "      <td>261124</td>\n",
       "      <td>https://zh.wikisource.org/wiki?curid=261124</td>\n",
       "      <td>雲笈七籖 (四庫全書本)/卷022</td>\n",
       "      <td>雲笈七籖 (四庫全書本)/卷022\\n\\n&lt;onlyinclude&gt;&lt;poem&gt;　　欽定四庫...</td>\n",
       "      <td>True</td>\n",
       "    </tr>\n",
       "    <tr>\n",
       "      <th>57926</th>\n",
       "      <td>613198</td>\n",
       "      <td>https://zh.wikisource.org/wiki?curid=613198</td>\n",
       "      <td>京塵雜錄/1</td>\n",
       "      <td>京塵雜錄/1\\n\\n&lt;onlyinclude&gt;\\n\\n秀蘭，范姓，字小桐，吳人今日之牡丹花也...</td>\n",
       "      <td>True</td>\n",
       "    </tr>\n",
       "    <tr>\n",
       "      <th>96935</th>\n",
       "      <td>166058</td>\n",
       "      <td>https://zh.wikisource.org/wiki?curid=166058</td>\n",
       "      <td>步至華楊洞歌</td>\n",
       "      <td>步至華楊洞歌\\n</td>\n",
       "      <td>True</td>\n",
       "    </tr>\n",
       "    <tr>\n",
       "      <th>55971</th>\n",
       "      <td>621012</td>\n",
       "      <td>https://zh.wikisource.org/wiki?curid=621012</td>\n",
       "      <td>脂硯齋重評石頭記甲戌本/第八回</td>\n",
       "      <td>脂硯齋重評石頭記甲戌本/第八回\\n\\n第八回 薛寶釵小恙梨香院 賈寶玉大鬧絳芸軒\\n\\n題曰...</td>\n",
       "      <td>True</td>\n",
       "    </tr>\n",
       "    <tr>\n",
       "      <th>288958</th>\n",
       "      <td>85194</td>\n",
       "      <td>https://zh.wikisource.org/wiki?curid=85194</td>\n",
       "      <td>佛學大辭典/祖師堂</td>\n",
       "      <td>佛學大辭典/祖師堂\\n\\n【祖師堂】\\n\\n（堂塔）禪苑安置初祖達磨之堂名也。</td>\n",
       "      <td>True</td>\n",
       "    </tr>\n",
       "    <tr>\n",
       "      <th>42630</th>\n",
       "      <td>344749</td>\n",
       "      <td>https://zh.wikisource.org/wiki?curid=344749</td>\n",
       "      <td>俠隱記/第19回</td>\n",
       "      <td>俠隱記/第19回\\n\\n&lt;onlyinclude&gt;\\n達特安一刻不敢耽擱，他知道那個人是主教...</td>\n",
       "      <td>True</td>\n",
       "    </tr>\n",
       "    <tr>\n",
       "      <th>251179</th>\n",
       "      <td>801518</td>\n",
       "      <td>https://zh.wikisource.org/wiki?curid=801518</td>\n",
       "      <td>嘉靖贛州府志 (天一閣藏本)/卷09</td>\n",
       "      <td>嘉靖贛州府志 (天一閣藏本)/卷09\\n\\n&lt;pages index=\"嘉靖贛州府志.pdf...</td>\n",
       "      <td>True</td>\n",
       "    </tr>\n",
       "    <tr>\n",
       "      <th>212826</th>\n",
       "      <td>286324</td>\n",
       "      <td>https://zh.wikisource.org/wiki?curid=286324</td>\n",
       "      <td>詞綜 (四庫全書本)/卷22</td>\n",
       "      <td>詞綜 (四庫全書本)/卷22\\n\\n&lt;onlyinclude&gt;&lt;poem&gt;　　欽定四庫全書\\...</td>\n",
       "      <td>True</td>\n",
       "    </tr>\n",
       "    <tr>\n",
       "      <th>297905</th>\n",
       "      <td>74641</td>\n",
       "      <td>https://zh.wikisource.org/wiki?curid=74641</td>\n",
       "      <td>佛學大辭典/本算</td>\n",
       "      <td>佛學大辭典/本算\\n\\n【本算】\\n\\n（術語）問答之論題。一問即最初所問，謂之本算。二問已...</td>\n",
       "      <td>True</td>\n",
       "    </tr>\n",
       "    <tr>\n",
       "      <th>203523</th>\n",
       "      <td>254575</td>\n",
       "      <td>https://zh.wikisource.org/wiki?curid=254575</td>\n",
       "      <td>居業録 (四庫全書本)</td>\n",
       "      <td>居業録 (四庫全書本)\\n\\n&lt;onlyinclude&gt;&lt;poem&gt;　　欽定四庫全書　　　　...</td>\n",
       "      <td>True</td>\n",
       "    </tr>\n",
       "    <tr>\n",
       "      <th>301765</th>\n",
       "      <td>96412</td>\n",
       "      <td>https://zh.wikisource.org/wiki?curid=96412</td>\n",
       "      <td>答魯子宣三首（之一）</td>\n",
       "      <td>答魯子宣三首（之一）\\n\\n&lt;onlyinclude&gt;&lt;poem&gt;\\n某啟。流落江湖，晚復叨...</td>\n",
       "      <td>True</td>\n",
       "    </tr>\n",
       "    <tr>\n",
       "      <th>8763</th>\n",
       "      <td>30322</td>\n",
       "      <td>https://zh.wikisource.org/wiki?curid=30322</td>\n",
       "      <td>送子壻崔真甫李穆往揚州 (渡口發梅花)</td>\n",
       "      <td>送子壻崔真甫李穆往揚州 (渡口發梅花)\\n\\n&lt;onlyinclude&gt;\\n&lt;poem&gt;\\n...</td>\n",
       "      <td>True</td>\n",
       "    </tr>\n",
       "    <tr>\n",
       "      <th>142538</th>\n",
       "      <td>878804</td>\n",
       "      <td>https://zh.wikisource.org/wiki?curid=878804</td>\n",
       "      <td>青龍寺軌記</td>\n",
       "      <td>青龍寺軌記\\n\\n青龍寺軌記\\n\\n先瑜伽者。常可住本尊觀。行步觀想踐蓮華而住。次至精舍門而...</td>\n",
       "      <td>True</td>\n",
       "    </tr>\n",
       "    <tr>\n",
       "      <th>153680</th>\n",
       "      <td>225800</td>\n",
       "      <td>https://zh.wikisource.org/wiki?curid=225800</td>\n",
       "      <td>太平寰宇記 (四庫全書本)/卷047</td>\n",
       "      <td>太平寰宇記 (四庫全書本)/卷047\\n\\n&lt;onlyinclude&gt;&lt;poem&gt;　　欽定四...</td>\n",
       "      <td>True</td>\n",
       "    </tr>\n",
       "    <tr>\n",
       "      <th>80358</th>\n",
       "      <td>848498</td>\n",
       "      <td>https://zh.wikisource.org/wiki?curid=848498</td>\n",
       "      <td>抱經堂文集 (四部叢刊本)/卷第二十二</td>\n",
       "      <td>抱經堂文集 (四部叢刊本)/卷第二十二\\n\\n&lt;pages from=\"44\" to=\"75...</td>\n",
       "      <td>True</td>\n",
       "    </tr>\n",
       "    <tr>\n",
       "      <th>29620</th>\n",
       "      <td>309197</td>\n",
       "      <td>https://zh.wikisource.org/wiki?curid=309197</td>\n",
       "      <td>雲峯集 (四庫全書本)/卷5</td>\n",
       "      <td>雲峯集 (四庫全書本)/卷5\\n\\n&lt;onlyinclude&gt;&lt;poem&gt;　　欽定四庫全書\\...</td>\n",
       "      <td>True</td>\n",
       "    </tr>\n",
       "    <tr>\n",
       "      <th>50406</th>\n",
       "      <td>271007</td>\n",
       "      <td>https://zh.wikisource.org/wiki?curid=271007</td>\n",
       "      <td>太平御覽 (四庫全書本)/卷0017</td>\n",
       "      <td>太平御覽 (四庫全書本)/卷0017\\n\\n&lt;onlyinclude&gt;&lt;poem&gt;　　欽定四...</td>\n",
       "      <td>True</td>\n",
       "    </tr>\n",
       "    <tr>\n",
       "      <th>255382</th>\n",
       "      <td>807755</td>\n",
       "      <td>https://zh.wikisource.org/wiki?curid=807755</td>\n",
       "      <td>增廣註釋音辯唐柳先生集 (四部叢刊本)/卷第十九</td>\n",
       "      <td>增廣註釋音辯唐柳先生集 (四部叢刊本)/卷第十九\\n\\n&lt;pages from=\"24\" t...</td>\n",
       "      <td>True</td>\n",
       "    </tr>\n",
       "    <tr>\n",
       "      <th>198510</th>\n",
       "      <td>253268</td>\n",
       "      <td>https://zh.wikisource.org/wiki?curid=253268</td>\n",
       "      <td>蘭亭考 (四庫全書本)/卷09</td>\n",
       "      <td>蘭亭考 (四庫全書本)/卷09\\n\\n&lt;onlyinclude&gt;&lt;poem&gt;　　欽定四庫全書...</td>\n",
       "      <td>True</td>\n",
       "    </tr>\n",
       "    <tr>\n",
       "      <th>210902</th>\n",
       "      <td>285385</td>\n",
       "      <td>https://zh.wikisource.org/wiki?curid=285385</td>\n",
       "      <td>草堂雅集 (四庫全書本)/卷09</td>\n",
       "      <td>草堂雅集 (四庫全書本)/卷09\\n\\n&lt;onlyinclude&gt;&lt;poem&gt;　　欽定四庫全...</td>\n",
       "      <td>True</td>\n",
       "    </tr>\n",
       "    <tr>\n",
       "      <th>181887</th>\n",
       "      <td>210351</td>\n",
       "      <td>https://zh.wikisource.org/wiki?curid=210351</td>\n",
       "      <td>易學象數論 (四庫全書本)/卷4</td>\n",
       "      <td>易學象數論 (四庫全書本)/卷4\\n\\n&lt;onlyinclude&gt;&lt;poem&gt;　　欽定四庫全...</td>\n",
       "      <td>True</td>\n",
       "    </tr>\n",
       "    <tr>\n",
       "      <th>176354</th>\n",
       "      <td>313604</td>\n",
       "      <td>https://zh.wikisource.org/wiki?curid=313604</td>\n",
       "      <td>皇王大紀 (四庫全書本)/卷72</td>\n",
       "      <td>皇王大紀 (四庫全書本)/卷72\\n\\n&lt;onlyinclude&gt;&lt;poem&gt;　　欽定四庫全...</td>\n",
       "      <td>True</td>\n",
       "    </tr>\n",
       "    <tr>\n",
       "      <th>303384</th>\n",
       "      <td>90969</td>\n",
       "      <td>https://zh.wikisource.org/wiki?curid=90969</td>\n",
       "      <td>代小玉家為蕃騎所虜後寄故集賢裴公相國</td>\n",
       "      <td>代小玉家為蕃騎所虜後寄故集賢裴公相國\\n\\n動天金鼓逼神州，惜別無心學墜樓。不得回眸辭傅粉，...</td>\n",
       "      <td>True</td>\n",
       "    </tr>\n",
       "    <tr>\n",
       "      <th>214008</th>\n",
       "      <td>286550</td>\n",
       "      <td>https://zh.wikisource.org/wiki?curid=286550</td>\n",
       "      <td>尊前集 (四庫全書本)/前集卷下</td>\n",
       "      <td>尊前集 (四庫全書本)/前集卷下\\n\\n&lt;onlyinclude&gt;&lt;poem&gt;　　欽定四庫全...</td>\n",
       "      <td>True</td>\n",
       "    </tr>\n",
       "    <tr>\n",
       "      <th>261957</th>\n",
       "      <td>199559</td>\n",
       "      <td>https://zh.wikisource.org/wiki?curid=199559</td>\n",
       "      <td>臺灣高等法院臺中分院95年度上重更(五)字第46號刑事判決</td>\n",
       "      <td>臺灣高等法院臺中分院95年度上重更(五)字第46號刑事判決\\n</td>\n",
       "      <td>True</td>\n",
       "    </tr>\n",
       "    <tr>\n",
       "      <th>156224</th>\n",
       "      <td>136189</td>\n",
       "      <td>https://zh.wikisource.org/wiki?curid=136189</td>\n",
       "      <td>廣雜纂</td>\n",
       "      <td>廣雜纂\\n\\n○合弗來買爆仗與別人放。\\n\\n施主齋僧拜和尚。○最好看撮戲法人肚裏餓發極。啞...</td>\n",
       "      <td>True</td>\n",
       "    </tr>\n",
       "    <tr>\n",
       "      <th>94505</th>\n",
       "      <td>157133</td>\n",
       "      <td>https://zh.wikisource.org/wiki?curid=157133</td>\n",
       "      <td>黑奴籲天錄/第十三章</td>\n",
       "      <td>黑奴籲天錄/第十三章\\n\\n著书者曰：吾予以上十二章，均叙悲惨断肠之事，令人寡欢。今吾须少易...</td>\n",
       "      <td>True</td>\n",
       "    </tr>\n",
       "    <tr>\n",
       "      <th>56732</th>\n",
       "      <td>611607</td>\n",
       "      <td>https://zh.wikisource.org/wiki?curid=611607</td>\n",
       "      <td>懷遠亭 (姚承緒)</td>\n",
       "      <td>懷遠亭 (姚承緒)\\n\\n&lt;onlyinclude&gt;\\n\\n&lt;poem&gt;\\n雙鳳涇頭水，清流...</td>\n",
       "      <td>True</td>\n",
       "    </tr>\n",
       "    <tr>\n",
       "      <th>211954</th>\n",
       "      <td>285128</td>\n",
       "      <td>https://zh.wikisource.org/wiki?curid=285128</td>\n",
       "      <td>釋文紀 (四庫全書本)/卷21</td>\n",
       "      <td>釋文紀 (四庫全書本)/卷21\\n\\n&lt;onlyinclude&gt;&lt;poem&gt;　　欽定四庫全書...</td>\n",
       "      <td>True</td>\n",
       "    </tr>\n",
       "    <tr>\n",
       "      <th>71382</th>\n",
       "      <td>875314</td>\n",
       "      <td>https://zh.wikisource.org/wiki?curid=875314</td>\n",
       "      <td>大乘八大曼拏羅經</td>\n",
       "      <td>大乘八大曼拏羅經\\n\\n大乘八大曼拏罗经一卷\\n宋元入藏诸大小乘经\\n大乘八大曼拏罗经一卷\\...</td>\n",
       "      <td>True</td>\n",
       "    </tr>\n",
       "    <tr>\n",
       "      <th>134190</th>\n",
       "      <td>961944</td>\n",
       "      <td>https://zh.wikisource.org/wiki?curid=961944</td>\n",
       "      <td>欽定古今圖書集成/博物彙編/藝術典/第378卷</td>\n",
       "      <td>欽定古今圖書集成/博物彙編/藝術典/第378卷\\n\\n__NOEDITSECTION__\\n...</td>\n",
       "      <td>True</td>\n",
       "    </tr>\n",
       "    <tr>\n",
       "      <th>311100</th>\n",
       "      <td>89148</td>\n",
       "      <td>https://zh.wikisource.org/wiki?curid=89148</td>\n",
       "      <td>淳熙三山志/卷06</td>\n",
       "      <td>淳熙三山志/卷06\\n\\n江潮 \\n\\n海道 \\n\\n江潮\\n\\n水路，視潮次停泊，猶驛鋪也...</td>\n",
       "      <td>True</td>\n",
       "    </tr>\n",
       "    <tr>\n",
       "      <th>65809</th>\n",
       "      <td>103958</td>\n",
       "      <td>https://zh.wikisource.org/wiki?curid=103958</td>\n",
       "      <td>被召作</td>\n",
       "      <td>被召作\\n\\n&lt;onlyinclude&gt;&lt;poem&gt;\\n榮祿嗟何及，明恩愧未酬。\\n欲尋西掖...</td>\n",
       "      <td>True</td>\n",
       "    </tr>\n",
       "    <tr>\n",
       "      <th>37239</th>\n",
       "      <td>122669</td>\n",
       "      <td>https://zh.wikisource.org/wiki?curid=122669</td>\n",
       "      <td>故太子右庶子集賢院學士贈左散騎常侍王公神道碑銘（並序）</td>\n",
       "      <td>故太子右庶子集賢院學士贈左散騎常侍王公神道碑銘（並序）\\n\\n&lt;onlyinclude&gt;興元...</td>\n",
       "      <td>True</td>\n",
       "    </tr>\n",
       "    <tr>\n",
       "      <th>142606</th>\n",
       "      <td>890003</td>\n",
       "      <td>https://zh.wikisource.org/wiki?curid=890003</td>\n",
       "      <td>無上秘要/卷三十八</td>\n",
       "      <td>無上秘要/卷三十八\\n\\n無上祕要卷之三十八\\n\\n　　授洞神三皇儀品\\n\\n　　設壇法：\\...</td>\n",
       "      <td>True</td>\n",
       "    </tr>\n",
       "    <tr>\n",
       "      <th>199519</th>\n",
       "      <td>254800</td>\n",
       "      <td>https://zh.wikisource.org/wiki?curid=254800</td>\n",
       "      <td>御定孝經衍義 (四庫全書本)/全覽3</td>\n",
       "      <td>御定孝經衍義 (四庫全書本)/全覽3\\n\\n﻿\\n﻿\\n﻿\\n﻿\\n﻿\\n﻿\\n﻿\\n﻿\\n...</td>\n",
       "      <td>True</td>\n",
       "    </tr>\n",
       "    <tr>\n",
       "      <th>92048</th>\n",
       "      <td>175161</td>\n",
       "      <td>https://zh.wikisource.org/wiki?curid=175161</td>\n",
       "      <td>通鑑紀事本末/第二十九卷</td>\n",
       "      <td>通鑑紀事本末/第二十九卷\\n\\n唐高祖武德九年秋八月甲子，太宗即皇帝位於東宮顯德殿。九月己酉...</td>\n",
       "      <td>True</td>\n",
       "    </tr>\n",
       "    <tr>\n",
       "      <th>34026</th>\n",
       "      <td>119225</td>\n",
       "      <td>https://zh.wikisource.org/wiki?curid=119225</td>\n",
       "      <td>謝宣賜道場錢表</td>\n",
       "      <td>謝宣賜道場錢表\\n\\n&lt;onlyinclude&gt;臣某言：今日伏奉聖旨，以臣自前月二十一日就當...</td>\n",
       "      <td>True</td>\n",
       "    </tr>\n",
       "  </tbody>\n",
       "</table>\n",
       "</div>"
      ],
      "text/plain": [
       "            id                                          url  \\\n",
       "117815   58943   https://zh.wikisource.org/wiki?curid=58943   \n",
       "60417   498122  https://zh.wikisource.org/wiki?curid=498122   \n",
       "37461   115023  https://zh.wikisource.org/wiki?curid=115023   \n",
       "288467   84697   https://zh.wikisource.org/wiki?curid=84697   \n",
       "307394   78947   https://zh.wikisource.org/wiki?curid=78947   \n",
       "183310  212873  https://zh.wikisource.org/wiki?curid=212873   \n",
       "279594   94066   https://zh.wikisource.org/wiki?curid=94066   \n",
       "79900   843594  https://zh.wikisource.org/wiki?curid=843594   \n",
       "47105   346836  https://zh.wikisource.org/wiki?curid=346836   \n",
       "16772    33207   https://zh.wikisource.org/wiki?curid=33207   \n",
       "291479   95319   https://zh.wikisource.org/wiki?curid=95319   \n",
       "12206    26503   https://zh.wikisource.org/wiki?curid=26503   \n",
       "243768  261124  https://zh.wikisource.org/wiki?curid=261124   \n",
       "57926   613198  https://zh.wikisource.org/wiki?curid=613198   \n",
       "96935   166058  https://zh.wikisource.org/wiki?curid=166058   \n",
       "55971   621012  https://zh.wikisource.org/wiki?curid=621012   \n",
       "288958   85194   https://zh.wikisource.org/wiki?curid=85194   \n",
       "42630   344749  https://zh.wikisource.org/wiki?curid=344749   \n",
       "251179  801518  https://zh.wikisource.org/wiki?curid=801518   \n",
       "212826  286324  https://zh.wikisource.org/wiki?curid=286324   \n",
       "297905   74641   https://zh.wikisource.org/wiki?curid=74641   \n",
       "203523  254575  https://zh.wikisource.org/wiki?curid=254575   \n",
       "301765   96412   https://zh.wikisource.org/wiki?curid=96412   \n",
       "8763     30322   https://zh.wikisource.org/wiki?curid=30322   \n",
       "142538  878804  https://zh.wikisource.org/wiki?curid=878804   \n",
       "153680  225800  https://zh.wikisource.org/wiki?curid=225800   \n",
       "80358   848498  https://zh.wikisource.org/wiki?curid=848498   \n",
       "29620   309197  https://zh.wikisource.org/wiki?curid=309197   \n",
       "50406   271007  https://zh.wikisource.org/wiki?curid=271007   \n",
       "255382  807755  https://zh.wikisource.org/wiki?curid=807755   \n",
       "198510  253268  https://zh.wikisource.org/wiki?curid=253268   \n",
       "210902  285385  https://zh.wikisource.org/wiki?curid=285385   \n",
       "181887  210351  https://zh.wikisource.org/wiki?curid=210351   \n",
       "176354  313604  https://zh.wikisource.org/wiki?curid=313604   \n",
       "303384   90969   https://zh.wikisource.org/wiki?curid=90969   \n",
       "214008  286550  https://zh.wikisource.org/wiki?curid=286550   \n",
       "261957  199559  https://zh.wikisource.org/wiki?curid=199559   \n",
       "156224  136189  https://zh.wikisource.org/wiki?curid=136189   \n",
       "94505   157133  https://zh.wikisource.org/wiki?curid=157133   \n",
       "56732   611607  https://zh.wikisource.org/wiki?curid=611607   \n",
       "211954  285128  https://zh.wikisource.org/wiki?curid=285128   \n",
       "71382   875314  https://zh.wikisource.org/wiki?curid=875314   \n",
       "134190  961944  https://zh.wikisource.org/wiki?curid=961944   \n",
       "311100   89148   https://zh.wikisource.org/wiki?curid=89148   \n",
       "65809   103958  https://zh.wikisource.org/wiki?curid=103958   \n",
       "37239   122669  https://zh.wikisource.org/wiki?curid=122669   \n",
       "142606  890003  https://zh.wikisource.org/wiki?curid=890003   \n",
       "199519  254800  https://zh.wikisource.org/wiki?curid=254800   \n",
       "92048   175161  https://zh.wikisource.org/wiki?curid=175161   \n",
       "34026   119225  https://zh.wikisource.org/wiki?curid=119225   \n",
       "\n",
       "                                title  \\\n",
       "117815                             六州   \n",
       "60417                          傷硤石縣病叟   \n",
       "37461             艾人賦（以「懸艾為人，以禳毒氣」為韻）   \n",
       "288467                      佛學大辭典/俱解脫   \n",
       "307394                       佛學大辭典/事觀   \n",
       "183310                春秋考 (四庫全書本)/卷06   \n",
       "279594                         石炭（並引）   \n",
       "79900              敬業堂詩集 (四部叢刊本)/卷第十五   \n",
       "47105                        女仙外史/029   \n",
       "16772                 送王尚一嚴嶷二侍御赴司馬都督軍   \n",
       "291479                  和還舊居夢歸惠州白鶴山居作   \n",
       "12206                             鄒衍谷   \n",
       "243768              雲笈七籖 (四庫全書本)/卷022   \n",
       "57926                          京塵雜錄/1   \n",
       "96935                          步至華楊洞歌   \n",
       "55971                 脂硯齋重評石頭記甲戌本/第八回   \n",
       "288958                      佛學大辭典/祖師堂   \n",
       "42630                        俠隱記/第19回   \n",
       "251179             嘉靖贛州府志 (天一閣藏本)/卷09   \n",
       "212826                 詞綜 (四庫全書本)/卷22   \n",
       "297905                       佛學大辭典/本算   \n",
       "203523                    居業録 (四庫全書本)   \n",
       "301765                     答魯子宣三首（之一）   \n",
       "8763              送子壻崔真甫李穆往揚州 (渡口發梅花)   \n",
       "142538                          青龍寺軌記   \n",
       "153680             太平寰宇記 (四庫全書本)/卷047   \n",
       "80358             抱經堂文集 (四部叢刊本)/卷第二十二   \n",
       "29620                  雲峯集 (四庫全書本)/卷5   \n",
       "50406              太平御覽 (四庫全書本)/卷0017   \n",
       "255382       增廣註釋音辯唐柳先生集 (四部叢刊本)/卷第十九   \n",
       "198510                蘭亭考 (四庫全書本)/卷09   \n",
       "210902               草堂雅集 (四庫全書本)/卷09   \n",
       "181887               易學象數論 (四庫全書本)/卷4   \n",
       "176354               皇王大紀 (四庫全書本)/卷72   \n",
       "303384             代小玉家為蕃騎所虜後寄故集賢裴公相國   \n",
       "214008               尊前集 (四庫全書本)/前集卷下   \n",
       "261957  臺灣高等法院臺中分院95年度上重更(五)字第46號刑事判決   \n",
       "156224                            廣雜纂   \n",
       "94505                      黑奴籲天錄/第十三章   \n",
       "56732                       懷遠亭 (姚承緒)   \n",
       "211954                釋文紀 (四庫全書本)/卷21   \n",
       "71382                        大乘八大曼拏羅經   \n",
       "134190        欽定古今圖書集成/博物彙編/藝術典/第378卷   \n",
       "311100                      淳熙三山志/卷06   \n",
       "65809                             被召作   \n",
       "37239     故太子右庶子集賢院學士贈左散騎常侍王公神道碑銘（並序）   \n",
       "142606                      無上秘要/卷三十八   \n",
       "199519             御定孝經衍義 (四庫全書本)/全覽3   \n",
       "92048                    通鑑紀事本末/第二十九卷   \n",
       "34026                         謝宣賜道場錢表   \n",
       "\n",
       "                                                  preview   isy  \n",
       "117815  六州\\n\\n堯傳舜，盛事千古難並。回龍馭，辭鳳掖，北內別有蓬瀛。為天子父，冊鴻名。萬年千歲福...  True  \n",
       "60417   傷硤石縣病叟\\n\\n<onlyinclude>\\n<poem>\\n無子無孫一病翁，將何筋力事...  True  \n",
       "37461   艾人賦（以「懸艾為人，以禳毒氣」為韻）\\n\\n<onlyinclude>采彼艾兮，及此佳辰，...  True  \n",
       "288467  佛學大辭典/俱解脫\\n\\n【俱解脫】\\n\\n（術語）九無學之一。鈍根之羅漢，唯離煩惱之障，謂...  True  \n",
       "307394              佛學大辭典/事觀\\n\\n【事觀】\\n\\n（術語）對於理觀而言。（參見：觀）  True  \n",
       "183310  春秋考 (四庫全書本)/卷06\\n\\n<onlyinclude><poem>　　欽定四庫全書...  True  \n",
       "279594  石炭（並引）\\n\\n<onlyinclude><poem>\\n彭城舊無石炭。元豐元年十二月，...  True  \n",
       "79900   敬業堂詩集 (四部叢刊本)/卷第十五\\n\\n<pages from=\"8\" to=\"45\" ...  True  \n",
       "47105   女仙外史/029\\n\\n<onlyinclude>\\n　　話說月君，自鬼母尊與剎魔主去後，下...  True  \n",
       "16772   送王尚一嚴嶷二侍御赴司馬都督軍\\n\\n<onlyinclude>\\n<poem>\\n漢掖通沙...  True  \n",
       "291479  和還舊居夢歸惠州白鶴山居作\\n\\n<onlyinclude><poem>\\n痿人常念起，夫我...  True  \n",
       "12206   鄒衍谷\\n\\n<onlyinclude>\\n<poem>\\n燕谷無煖氣，窮巖閉嚴陰。\\n鄒子...  True  \n",
       "243768  雲笈七籖 (四庫全書本)/卷022\\n\\n<onlyinclude><poem>　　欽定四庫...  True  \n",
       "57926   京塵雜錄/1\\n\\n<onlyinclude>\\n\\n秀蘭，范姓，字小桐，吳人今日之牡丹花也...  True  \n",
       "96935                                            步至華楊洞歌\\n  True  \n",
       "55971   脂硯齋重評石頭記甲戌本/第八回\\n\\n第八回 薛寶釵小恙梨香院 賈寶玉大鬧絳芸軒\\n\\n題曰...  True  \n",
       "288958            佛學大辭典/祖師堂\\n\\n【祖師堂】\\n\\n（堂塔）禪苑安置初祖達磨之堂名也。  True  \n",
       "42630   俠隱記/第19回\\n\\n<onlyinclude>\\n達特安一刻不敢耽擱，他知道那個人是主教...  True  \n",
       "251179  嘉靖贛州府志 (天一閣藏本)/卷09\\n\\n<pages index=\"嘉靖贛州府志.pdf...  True  \n",
       "212826  詞綜 (四庫全書本)/卷22\\n\\n<onlyinclude><poem>　　欽定四庫全書\\...  True  \n",
       "297905  佛學大辭典/本算\\n\\n【本算】\\n\\n（術語）問答之論題。一問即最初所問，謂之本算。二問已...  True  \n",
       "203523  居業録 (四庫全書本)\\n\\n<onlyinclude><poem>　　欽定四庫全書　　　　...  True  \n",
       "301765  答魯子宣三首（之一）\\n\\n<onlyinclude><poem>\\n某啟。流落江湖，晚復叨...  True  \n",
       "8763    送子壻崔真甫李穆往揚州 (渡口發梅花)\\n\\n<onlyinclude>\\n<poem>\\n...  True  \n",
       "142538  青龍寺軌記\\n\\n青龍寺軌記\\n\\n先瑜伽者。常可住本尊觀。行步觀想踐蓮華而住。次至精舍門而...  True  \n",
       "153680  太平寰宇記 (四庫全書本)/卷047\\n\\n<onlyinclude><poem>　　欽定四...  True  \n",
       "80358   抱經堂文集 (四部叢刊本)/卷第二十二\\n\\n<pages from=\"44\" to=\"75...  True  \n",
       "29620   雲峯集 (四庫全書本)/卷5\\n\\n<onlyinclude><poem>　　欽定四庫全書\\...  True  \n",
       "50406   太平御覽 (四庫全書本)/卷0017\\n\\n<onlyinclude><poem>　　欽定四...  True  \n",
       "255382  增廣註釋音辯唐柳先生集 (四部叢刊本)/卷第十九\\n\\n<pages from=\"24\" t...  True  \n",
       "198510  蘭亭考 (四庫全書本)/卷09\\n\\n<onlyinclude><poem>　　欽定四庫全書...  True  \n",
       "210902  草堂雅集 (四庫全書本)/卷09\\n\\n<onlyinclude><poem>　　欽定四庫全...  True  \n",
       "181887  易學象數論 (四庫全書本)/卷4\\n\\n<onlyinclude><poem>　　欽定四庫全...  True  \n",
       "176354  皇王大紀 (四庫全書本)/卷72\\n\\n<onlyinclude><poem>　　欽定四庫全...  True  \n",
       "303384  代小玉家為蕃騎所虜後寄故集賢裴公相國\\n\\n動天金鼓逼神州，惜別無心學墜樓。不得回眸辭傅粉，...  True  \n",
       "214008  尊前集 (四庫全書本)/前集卷下\\n\\n<onlyinclude><poem>　　欽定四庫全...  True  \n",
       "261957                    臺灣高等法院臺中分院95年度上重更(五)字第46號刑事判決\\n  True  \n",
       "156224  廣雜纂\\n\\n○合弗來買爆仗與別人放。\\n\\n施主齋僧拜和尚。○最好看撮戲法人肚裏餓發極。啞...  True  \n",
       "94505   黑奴籲天錄/第十三章\\n\\n著书者曰：吾予以上十二章，均叙悲惨断肠之事，令人寡欢。今吾须少易...  True  \n",
       "56732   懷遠亭 (姚承緒)\\n\\n<onlyinclude>\\n\\n<poem>\\n雙鳳涇頭水，清流...  True  \n",
       "211954  釋文紀 (四庫全書本)/卷21\\n\\n<onlyinclude><poem>　　欽定四庫全書...  True  \n",
       "71382   大乘八大曼拏羅經\\n\\n大乘八大曼拏罗经一卷\\n宋元入藏诸大小乘经\\n大乘八大曼拏罗经一卷\\...  True  \n",
       "134190  欽定古今圖書集成/博物彙編/藝術典/第378卷\\n\\n__NOEDITSECTION__\\n...  True  \n",
       "311100  淳熙三山志/卷06\\n\\n江潮 \\n\\n海道 \\n\\n江潮\\n\\n水路，視潮次停泊，猶驛鋪也...  True  \n",
       "65809   被召作\\n\\n<onlyinclude><poem>\\n榮祿嗟何及，明恩愧未酬。\\n欲尋西掖...  True  \n",
       "37239   故太子右庶子集賢院學士贈左散騎常侍王公神道碑銘（並序）\\n\\n<onlyinclude>興元...  True  \n",
       "142606  無上秘要/卷三十八\\n\\n無上祕要卷之三十八\\n\\n　　授洞神三皇儀品\\n\\n　　設壇法：\\...  True  \n",
       "199519  御定孝經衍義 (四庫全書本)/全覽3\\n\\n﻿\\n﻿\\n﻿\\n﻿\\n﻿\\n﻿\\n﻿\\n﻿\\n...  True  \n",
       "92048   通鑑紀事本末/第二十九卷\\n\\n唐高祖武德九年秋八月甲子，太宗即皇帝位於東宮顯德殿。九月己酉...  True  \n",
       "34026   謝宣賜道場錢表\\n\\n<onlyinclude>臣某言：今日伏奉聖旨，以臣自前月二十一日就當...  True  "
      ]
     },
     "execution_count": 337,
     "metadata": {},
     "output_type": "execute_result"
    }
   ],
   "source": [
    "df[df.isy].sample(50)"
   ]
  },
  {
   "cell_type": "code",
   "execution_count": 340,
   "metadata": {},
   "outputs": [],
   "source": [
    "df.to_csv(DATA/\"cntext_rule_sep.csv\",index=False)"
   ]
  }
 ],
 "metadata": {
  "kernelspec": {
   "display_name": "Python 3",
   "language": "python",
   "name": "python3"
  },
  "language_info": {
   "codemirror_mode": {
    "name": "ipython",
    "version": 3
   },
   "file_extension": ".py",
   "mimetype": "text/x-python",
   "name": "python",
   "nbconvert_exporter": "python",
   "pygments_lexer": "ipython3",
   "version": "3.7.4"
  }
 },
 "nbformat": 4,
 "nbformat_minor": 4
}
