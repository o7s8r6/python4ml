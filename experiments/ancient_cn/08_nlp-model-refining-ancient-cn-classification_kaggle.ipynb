{
 "cells": [
  {
   "cell_type": "markdown",
   "metadata": {},
   "source": [
    "# Using NLP AI model to refine classification\n",
    "> Base on the keyword rule based label\n",
    "\n",
    "* I intend to build a neat dataset about ancient Chinese literatures, all the poem, article, history, etc.\n",
    "* [Wikisource dump on zhongwen](https://dumps.wikimedia.org/zhwikisource/20200301/) is a wonderfule starting point\n",
    "* The problem is, it contains too much morden text, include government decree, notice, law etc.\n",
    "\n",
    "### So the task here is to classify the text"
   ]
  },
  {
   "cell_type": "code",
   "execution_count": 1,
   "metadata": {
    "_cell_guid": "b1076dfc-b9ad-4769-8c92-a6c4dae69d19",
    "_uuid": "8f2839f25d086af736a60e9eeb907d3b93b6e0e5"
   },
   "outputs": [
    {
     "name": "stdout",
     "output_type": "stream",
     "text": [
      "/kaggle/input/zhwikisource-title-draft/cntext_rule_sep.csv\n"
     ]
    }
   ],
   "source": [
    "# This Python 3 environment comes with many helpful analytics libraries installed\n",
    "# It is defined by the kaggle/python docker image: https://github.com/kaggle/docker-python\n",
    "# For example, here's several helpful packages to load in \n",
    "\n",
    "import numpy as np # linear algebra\n",
    "import pandas as pd # data processing, CSV file I/O (e.g. pd.read_csv)\n",
    "\n",
    "# Input data files are available in the \"../input/\" directory.\n",
    "# For example, running this (by clicking run or pressing Shift+Enter) will list all files under the input directory\n",
    "\n",
    "import os\n",
    "for dirname, _, filenames in os.walk('/kaggle/input'):\n",
    "    for filename in filenames:\n",
    "        print(os.path.join(dirname, filename))\n",
    "\n",
    "# Any results you write to the current directory are saved as output."
   ]
  },
  {
   "cell_type": "markdown",
   "metadata": {},
   "source": [
    "The data was created from [this notebook](https://github.com/raynardj/python4ml/blob/master/experiments/ancient_cn/07_filter_out_morden_cn_part2.ipynb)"
   ]
  },
  {
   "cell_type": "code",
   "execution_count": 2,
   "metadata": {
    "_cell_guid": "79c7e3d0-c299-4dcb-8224-4455121ee9b0",
    "_uuid": "d629ff2d2480ee46fbb7e2d37f6b5fab8052498a"
   },
   "outputs": [],
   "source": [
    "from pathlib import Path\n",
    "DATA =  Path(\"/kaggle/input/zhwikisource-title-draft/cntext_rule_sep.csv\")"
   ]
  },
  {
   "cell_type": "code",
   "execution_count": 3,
   "metadata": {},
   "outputs": [],
   "source": [
    "df = pd.read_csv(DATA)"
   ]
  },
  {
   "cell_type": "markdown",
   "metadata": {},
   "source": [
    "### Samples on positive label"
   ]
  },
  {
   "cell_type": "code",
   "execution_count": 4,
   "metadata": {},
   "outputs": [
    {
     "data": {
      "text/html": [
       "<div>\n",
       "<style scoped>\n",
       "    .dataframe tbody tr th:only-of-type {\n",
       "        vertical-align: middle;\n",
       "    }\n",
       "\n",
       "    .dataframe tbody tr th {\n",
       "        vertical-align: top;\n",
       "    }\n",
       "\n",
       "    .dataframe thead th {\n",
       "        text-align: right;\n",
       "    }\n",
       "</style>\n",
       "<table border=\"1\" class=\"dataframe\">\n",
       "  <thead>\n",
       "    <tr style=\"text-align: right;\">\n",
       "      <th></th>\n",
       "      <th>id</th>\n",
       "      <th>url</th>\n",
       "      <th>title</th>\n",
       "      <th>preview</th>\n",
       "      <th>isy</th>\n",
       "    </tr>\n",
       "  </thead>\n",
       "  <tbody>\n",
       "    <tr>\n",
       "      <th>79773</th>\n",
       "      <td>843467</td>\n",
       "      <td>https://zh.wikisource.org/wiki?curid=843467</td>\n",
       "      <td>尚書正義 (四部叢刊本)/序</td>\n",
       "      <td>尚書正義 (四部叢刊本)/序\\n\\n&lt;pages from=\"4\" to=\"11\" inde...</td>\n",
       "      <td>True</td>\n",
       "    </tr>\n",
       "    <tr>\n",
       "      <th>7702</th>\n",
       "      <td>35269</td>\n",
       "      <td>https://zh.wikisource.org/wiki?curid=35269</td>\n",
       "      <td>喜聞太原同院崔侍御臺拜兼寄在臺三二同年之什</td>\n",
       "      <td>喜聞太原同院崔侍御臺拜兼寄在臺三二同年之什\\n\\n&lt;onlyinclude&gt;\\n&lt;poem&gt;...</td>\n",
       "      <td>True</td>\n",
       "    </tr>\n",
       "    <tr>\n",
       "      <th>184361</th>\n",
       "      <td>211693</td>\n",
       "      <td>https://zh.wikisource.org/wiki?curid=211693</td>\n",
       "      <td>春秋大事表 (四庫全書本)/卷12上</td>\n",
       "      <td>春秋大事表 (四庫全書本)/卷12上\\n\\n&lt;onlyinclude&gt;&lt;poem&gt;　　欽定四...</td>\n",
       "      <td>True</td>\n",
       "    </tr>\n",
       "    <tr>\n",
       "      <th>294969</th>\n",
       "      <td>62488</td>\n",
       "      <td>https://zh.wikisource.org/wiki?curid=62488</td>\n",
       "      <td>次韻柳子玉/地爐</td>\n",
       "      <td>次韻柳子玉/地爐\\n\\n次韻柳子玉\\n&lt;onlyinclude&gt;\\n&lt;poem&gt;\\n細聲蚯蚓...</td>\n",
       "      <td>True</td>\n",
       "    </tr>\n",
       "    <tr>\n",
       "      <th>87691</th>\n",
       "      <td>179408</td>\n",
       "      <td>https://zh.wikisource.org/wiki?curid=179408</td>\n",
       "      <td>前漢演義/第085回</td>\n",
       "      <td>前漢演義/第085回\\n\\n　　卻說張敞久守山陽，境內無事，自覺閒暇得很。會聞渤海膠東，人民...</td>\n",
       "      <td>True</td>\n",
       "    </tr>\n",
       "    <tr>\n",
       "      <th>67566</th>\n",
       "      <td>108618</td>\n",
       "      <td>https://zh.wikisource.org/wiki?curid=108618</td>\n",
       "      <td>平山冷燕</td>\n",
       "      <td>平山冷燕\\n\\n</td>\n",
       "      <td>True</td>\n",
       "    </tr>\n",
       "    <tr>\n",
       "      <th>202637</th>\n",
       "      <td>257571</td>\n",
       "      <td>https://zh.wikisource.org/wiki?curid=257571</td>\n",
       "      <td>太𤣥本㫖 (四庫全書本)/卷8</td>\n",
       "      <td>太𤣥本㫖 (四庫全書本)/卷8\\n\\n&lt;onlyinclude&gt;&lt;poem&gt;　　欽定四庫全書...</td>\n",
       "      <td>True</td>\n",
       "    </tr>\n",
       "    <tr>\n",
       "      <th>119870</th>\n",
       "      <td>53595</td>\n",
       "      <td>https://zh.wikisource.org/wiki?curid=53595</td>\n",
       "      <td>同于汝錫賞白牡丹</td>\n",
       "      <td>同于汝錫賞白牡丹\\n\\n&lt;onlyinclude&gt;\\n&lt;poem&gt;\\n曉日花初吐，春寒白未凝...</td>\n",
       "      <td>True</td>\n",
       "    </tr>\n",
       "    <tr>\n",
       "      <th>157350</th>\n",
       "      <td>133453</td>\n",
       "      <td>https://zh.wikisource.org/wiki?curid=133453</td>\n",
       "      <td>賽雨紀石文</td>\n",
       "      <td>賽雨紀石文\\n\\n&lt;onlyinclude&gt;昭明為神，神正直而已。其或歆夫諂祭，阨我生人，則...</td>\n",
       "      <td>True</td>\n",
       "    </tr>\n",
       "    <tr>\n",
       "      <th>96223</th>\n",
       "      <td>158446</td>\n",
       "      <td>https://zh.wikisource.org/wiki?curid=158446</td>\n",
       "      <td>文昌雜錄/卷二</td>\n",
       "      <td>文昌雜錄/卷二\\n\\n十月，以天章閤待制王克臣為工部侍郎，熊本知桂州故也。以水部郎中李文卿為...</td>\n",
       "      <td>True</td>\n",
       "    </tr>\n",
       "  </tbody>\n",
       "</table>\n",
       "</div>"
      ],
      "text/plain": [
       "            id                                          url  \\\n",
       "79773   843467  https://zh.wikisource.org/wiki?curid=843467   \n",
       "7702     35269   https://zh.wikisource.org/wiki?curid=35269   \n",
       "184361  211693  https://zh.wikisource.org/wiki?curid=211693   \n",
       "294969   62488   https://zh.wikisource.org/wiki?curid=62488   \n",
       "87691   179408  https://zh.wikisource.org/wiki?curid=179408   \n",
       "67566   108618  https://zh.wikisource.org/wiki?curid=108618   \n",
       "202637  257571  https://zh.wikisource.org/wiki?curid=257571   \n",
       "119870   53595   https://zh.wikisource.org/wiki?curid=53595   \n",
       "157350  133453  https://zh.wikisource.org/wiki?curid=133453   \n",
       "96223   158446  https://zh.wikisource.org/wiki?curid=158446   \n",
       "\n",
       "                        title  \\\n",
       "79773          尚書正義 (四部叢刊本)/序   \n",
       "7702    喜聞太原同院崔侍御臺拜兼寄在臺三二同年之什   \n",
       "184361     春秋大事表 (四庫全書本)/卷12上   \n",
       "294969               次韻柳子玉/地爐   \n",
       "87691              前漢演義/第085回   \n",
       "67566                    平山冷燕   \n",
       "202637        太𤣥本㫖 (四庫全書本)/卷8   \n",
       "119870               同于汝錫賞白牡丹   \n",
       "157350                  賽雨紀石文   \n",
       "96223                 文昌雜錄/卷二   \n",
       "\n",
       "                                                  preview   isy  \n",
       "79773   尚書正義 (四部叢刊本)/序\\n\\n<pages from=\"4\" to=\"11\" inde...  True  \n",
       "7702    喜聞太原同院崔侍御臺拜兼寄在臺三二同年之什\\n\\n<onlyinclude>\\n<poem>...  True  \n",
       "184361  春秋大事表 (四庫全書本)/卷12上\\n\\n<onlyinclude><poem>　　欽定四...  True  \n",
       "294969  次韻柳子玉/地爐\\n\\n次韻柳子玉\\n<onlyinclude>\\n<poem>\\n細聲蚯蚓...  True  \n",
       "87691   前漢演義/第085回\\n\\n　　卻說張敞久守山陽，境內無事，自覺閒暇得很。會聞渤海膠東，人民...  True  \n",
       "67566                                            平山冷燕\\n\\n  True  \n",
       "202637  太𤣥本㫖 (四庫全書本)/卷8\\n\\n<onlyinclude><poem>　　欽定四庫全書...  True  \n",
       "119870  同于汝錫賞白牡丹\\n\\n<onlyinclude>\\n<poem>\\n曉日花初吐，春寒白未凝...  True  \n",
       "157350  賽雨紀石文\\n\\n<onlyinclude>昭明為神，神正直而已。其或歆夫諂祭，阨我生人，則...  True  \n",
       "96223   文昌雜錄/卷二\\n\\n十月，以天章閤待制王克臣為工部侍郎，熊本知桂州故也。以水部郎中李文卿為...  True  "
      ]
     },
     "execution_count": 4,
     "metadata": {},
     "output_type": "execute_result"
    }
   ],
   "source": [
    "df.sample(10)"
   ]
  },
  {
   "cell_type": "code",
   "execution_count": 5,
   "metadata": {},
   "outputs": [],
   "source": [
    "df = df.sample(frac = 1.).reset_index().drop(\"index\",axis=1)"
   ]
  },
  {
   "cell_type": "markdown",
   "metadata": {},
   "source": [
    "### Samples on negtive lables"
   ]
  },
  {
   "cell_type": "code",
   "execution_count": 6,
   "metadata": {},
   "outputs": [
    {
     "data": {
      "text/html": [
       "<div>\n",
       "<style scoped>\n",
       "    .dataframe tbody tr th:only-of-type {\n",
       "        vertical-align: middle;\n",
       "    }\n",
       "\n",
       "    .dataframe tbody tr th {\n",
       "        vertical-align: top;\n",
       "    }\n",
       "\n",
       "    .dataframe thead th {\n",
       "        text-align: right;\n",
       "    }\n",
       "</style>\n",
       "<table border=\"1\" class=\"dataframe\">\n",
       "  <thead>\n",
       "    <tr style=\"text-align: right;\">\n",
       "      <th></th>\n",
       "      <th>id</th>\n",
       "      <th>url</th>\n",
       "      <th>title</th>\n",
       "      <th>preview</th>\n",
       "      <th>isy</th>\n",
       "    </tr>\n",
       "  </thead>\n",
       "  <tbody>\n",
       "    <tr>\n",
       "      <th>56672</th>\n",
       "      <td>187250</td>\n",
       "      <td>https://zh.wikisource.org/wiki?curid=187250</td>\n",
       "      <td>中华人民共和国国务院公报/2001年/第33号</td>\n",
       "      <td>中华人民共和国国务院公报/2001年/第33号\\n</td>\n",
       "      <td>False</td>\n",
       "    </tr>\n",
       "    <tr>\n",
       "      <th>269815</th>\n",
       "      <td>142618</td>\n",
       "      <td>https://zh.wikisource.org/wiki?curid=142618</td>\n",
       "      <td>全国人民代表大会关于香港特别行政区第一届政府和立法会产生办法的决定</td>\n",
       "      <td>全国人民代表大会关于香港特别行政区第一届政府和立法会产生办法的决定\\n\\n　　一、香港特别行...</td>\n",
       "      <td>False</td>\n",
       "    </tr>\n",
       "    <tr>\n",
       "      <th>138128</th>\n",
       "      <td>176369</td>\n",
       "      <td>https://zh.wikisource.org/wiki?curid=176369</td>\n",
       "      <td>国家公路网规划（2013年－2030年）</td>\n",
       "      <td>国家公路网规划（2013年－2030年）\\n\\n《中华人民共和国公路法》（第一章、第六条）明...</td>\n",
       "      <td>False</td>\n",
       "    </tr>\n",
       "    <tr>\n",
       "      <th>126790</th>\n",
       "      <td>884524</td>\n",
       "      <td>https://zh.wikisource.org/wiki?curid=884524</td>\n",
       "      <td>企业会计准则第20号——企业合并 (2006年)</td>\n",
       "      <td>企业会计准则第20号——企业合并 (2006年)\\n\\n&lt;onlyinclude&gt;\\n\\n　...</td>\n",
       "      <td>False</td>\n",
       "    </tr>\n",
       "    <tr>\n",
       "      <th>124691</th>\n",
       "      <td>21664</td>\n",
       "      <td>https://zh.wikisource.org/wiki?curid=21664</td>\n",
       "      <td>大理院統字第443號解釋</td>\n",
       "      <td>大理院統字第443號解釋\\n\\n　　共同實施犯罪行為應以共同正犯論唯行為有輕重之別則處刑亦自...</td>\n",
       "      <td>False</td>\n",
       "    </tr>\n",
       "    <tr>\n",
       "      <th>278352</th>\n",
       "      <td>23980</td>\n",
       "      <td>https://zh.wikisource.org/wiki?curid=23980</td>\n",
       "      <td>大理院統字第1069號解釋</td>\n",
       "      <td>大理院統字第1069號解釋\\n\\n　　田畝未經報戶入冊應照國有荒地承墾條例辦理</td>\n",
       "      <td>False</td>\n",
       "    </tr>\n",
       "    <tr>\n",
       "      <th>71429</th>\n",
       "      <td>93034</td>\n",
       "      <td>https://zh.wikisource.org/wiki?curid=93034</td>\n",
       "      <td>行政院組織法 (民國37年)</td>\n",
       "      <td>行政院組織法 (民國37年)\\n\\n第一條\\n第二條\\n第三條\\n第四條\\n第五條\\n第六條...</td>\n",
       "      <td>False</td>\n",
       "    </tr>\n",
       "    <tr>\n",
       "      <th>185443</th>\n",
       "      <td>59788</td>\n",
       "      <td>https://zh.wikisource.org/wiki?curid=59788</td>\n",
       "      <td>司法院院解字第3474號解釋</td>\n",
       "      <td>司法院院解字第3474號解釋\\n\\n　　甲告訴乙犯偽造文書等罪，經檢察官認有誣告嫌疑將其羈押...</td>\n",
       "      <td>False</td>\n",
       "    </tr>\n",
       "    <tr>\n",
       "      <th>299695</th>\n",
       "      <td>1005872</td>\n",
       "      <td>https://zh.wikisource.org/wiki?curid=1005872</td>\n",
       "      <td>行政訴訟法施行法 (民國108年立法109年公布)</td>\n",
       "      <td>行政訴訟法施行法 (民國108年立法109年公布)\\n\\n第一條 (新、舊法之定義)\\n第二...</td>\n",
       "      <td>False</td>\n",
       "    </tr>\n",
       "    <tr>\n",
       "      <th>82837</th>\n",
       "      <td>48769</td>\n",
       "      <td>https://zh.wikisource.org/wiki?curid=48769</td>\n",
       "      <td>司法院院字第1221號解釋</td>\n",
       "      <td>司法院院字第1221號解釋\\n\\n　　原呈所稱判處罰金刑之案件，為被告利益起見而提起非常上訴...</td>\n",
       "      <td>False</td>\n",
       "    </tr>\n",
       "  </tbody>\n",
       "</table>\n",
       "</div>"
      ],
      "text/plain": [
       "             id                                           url  \\\n",
       "56672    187250   https://zh.wikisource.org/wiki?curid=187250   \n",
       "269815   142618   https://zh.wikisource.org/wiki?curid=142618   \n",
       "138128   176369   https://zh.wikisource.org/wiki?curid=176369   \n",
       "126790   884524   https://zh.wikisource.org/wiki?curid=884524   \n",
       "124691    21664    https://zh.wikisource.org/wiki?curid=21664   \n",
       "278352    23980    https://zh.wikisource.org/wiki?curid=23980   \n",
       "71429     93034    https://zh.wikisource.org/wiki?curid=93034   \n",
       "185443    59788    https://zh.wikisource.org/wiki?curid=59788   \n",
       "299695  1005872  https://zh.wikisource.org/wiki?curid=1005872   \n",
       "82837     48769    https://zh.wikisource.org/wiki?curid=48769   \n",
       "\n",
       "                                    title  \\\n",
       "56672             中华人民共和国国务院公报/2001年/第33号   \n",
       "269815  全国人民代表大会关于香港特别行政区第一届政府和立法会产生办法的决定   \n",
       "138128               国家公路网规划（2013年－2030年）   \n",
       "126790           企业会计准则第20号——企业合并 (2006年)   \n",
       "124691                       大理院統字第443號解釋   \n",
       "278352                      大理院統字第1069號解釋   \n",
       "71429                      行政院組織法 (民國37年)   \n",
       "185443                     司法院院解字第3474號解釋   \n",
       "299695          行政訴訟法施行法 (民國108年立法109年公布)   \n",
       "82837                       司法院院字第1221號解釋   \n",
       "\n",
       "                                                  preview    isy  \n",
       "56672                           中华人民共和国国务院公报/2001年/第33号\\n  False  \n",
       "269815  全国人民代表大会关于香港特别行政区第一届政府和立法会产生办法的决定\\n\\n　　一、香港特别行...  False  \n",
       "138128  国家公路网规划（2013年－2030年）\\n\\n《中华人民共和国公路法》（第一章、第六条）明...  False  \n",
       "126790  企业会计准则第20号——企业合并 (2006年)\\n\\n<onlyinclude>\\n\\n　...  False  \n",
       "124691  大理院統字第443號解釋\\n\\n　　共同實施犯罪行為應以共同正犯論唯行為有輕重之別則處刑亦自...  False  \n",
       "278352            大理院統字第1069號解釋\\n\\n　　田畝未經報戶入冊應照國有荒地承墾條例辦理  False  \n",
       "71429   行政院組織法 (民國37年)\\n\\n第一條\\n第二條\\n第三條\\n第四條\\n第五條\\n第六條...  False  \n",
       "185443  司法院院解字第3474號解釋\\n\\n　　甲告訴乙犯偽造文書等罪，經檢察官認有誣告嫌疑將其羈押...  False  \n",
       "299695  行政訴訟法施行法 (民國108年立法109年公布)\\n\\n第一條 (新、舊法之定義)\\n第二...  False  \n",
       "82837   司法院院字第1221號解釋\\n\\n　　原呈所稱判處罰金刑之案件，為被告利益起見而提起非常上訴...  False  "
      ]
     },
     "execution_count": 6,
     "metadata": {},
     "output_type": "execute_result"
    }
   ],
   "source": [
    "df[~df.isy].sample(10)"
   ]
  },
  {
   "cell_type": "code",
   "execution_count": 7,
   "metadata": {},
   "outputs": [],
   "source": [
    "from transformers import BertTokenizer,BertModel"
   ]
  },
  {
   "cell_type": "code",
   "execution_count": 8,
   "metadata": {},
   "outputs": [
    {
     "data": {
      "application/vnd.jupyter.widget-view+json": {
       "model_id": "4e95d24af4394bb6b7ea3bafc4120b91",
       "version_major": 2,
       "version_minor": 0
      },
      "text/plain": [
       "HBox(children=(FloatProgress(value=0.0, description='Downloading', max=109540.0, style=ProgressStyle(descripti…"
      ]
     },
     "metadata": {},
     "output_type": "display_data"
    },
    {
     "name": "stdout",
     "output_type": "stream",
     "text": [
      "\n"
     ]
    }
   ],
   "source": [
    "tok = BertTokenizer.from_pretrained(\"bert-base-chinese\")"
   ]
  },
  {
   "cell_type": "code",
   "execution_count": 9,
   "metadata": {},
   "outputs": [
    {
     "data": {
      "text/plain": [
       "{'input_ids': [101,\n",
       "  3620,\n",
       "  2137,\n",
       "  1061,\n",
       "  3186,\n",
       "  6858,\n",
       "  2562,\n",
       "  113,\n",
       "  1724,\n",
       "  2430,\n",
       "  1059,\n",
       "  3292,\n",
       "  3315,\n",
       "  114,\n",
       "  120,\n",
       "  1318,\n",
       "  10385,\n",
       "  102],\n",
       " 'token_type_ids': [0, 0, 0, 0, 0, 0, 0, 0, 0, 0, 0, 0, 0, 0, 0, 0, 0, 0],\n",
       " 'attention_mask': [1, 1, 1, 1, 1, 1, 1, 1, 1, 1, 1, 1, 1, 1, 1, 1, 1, 1]}"
      ]
     },
     "execution_count": 9,
     "metadata": {},
     "output_type": "execute_result"
    }
   ],
   "source": [
    "tok.encode_plus(\"最高人民法院关于处理自首和立功具体应用法律若干问题的解释\"),\n",
    "tok.encode_plus(\"欽定八旗通志 (四庫全書本)/卷021\")"
   ]
  },
  {
   "cell_type": "code",
   "execution_count": 10,
   "metadata": {},
   "outputs": [
    {
     "data": {
      "application/vnd.jupyter.widget-view+json": {
       "model_id": "e6461450d3c24c4e9b0b52c125bae3cf",
       "version_major": 2,
       "version_minor": 0
      },
      "text/plain": [
       "HBox(children=(FloatProgress(value=0.0, description='Downloading', max=568.0, style=ProgressStyle(description_…"
      ]
     },
     "metadata": {},
     "output_type": "display_data"
    },
    {
     "name": "stdout",
     "output_type": "stream",
     "text": [
      "\n"
     ]
    },
    {
     "data": {
      "application/vnd.jupyter.widget-view+json": {
       "model_id": "7de543f4792a4d9db64badbe559825f7",
       "version_major": 2,
       "version_minor": 0
      },
      "text/plain": [
       "HBox(children=(FloatProgress(value=0.0, description='Downloading', max=411577189.0, style=ProgressStyle(descri…"
      ]
     },
     "metadata": {},
     "output_type": "display_data"
    },
    {
     "name": "stdout",
     "output_type": "stream",
     "text": [
      "\n"
     ]
    }
   ],
   "source": [
    "bert = BertModel.from_pretrained(\"bert-base-chinese\")"
   ]
  },
  {
   "cell_type": "code",
   "execution_count": 11,
   "metadata": {},
   "outputs": [],
   "source": [
    "import torch"
   ]
  },
  {
   "cell_type": "code",
   "execution_count": 12,
   "metadata": {},
   "outputs": [],
   "source": [
    "test_toks = tok.encode_plus(\"欽定八旗通志 (四庫全書本)/卷021\")[\"input_ids\"]\n",
    "test_x = torch.LongTensor(test_toks)[None,:]"
   ]
  },
  {
   "cell_type": "code",
   "execution_count": 13,
   "metadata": {},
   "outputs": [],
   "source": [
    "with torch.no_grad():\n",
    "    y_1,y_2 = bert(test_x)"
   ]
  },
  {
   "cell_type": "code",
   "execution_count": 14,
   "metadata": {},
   "outputs": [
    {
     "data": {
      "text/plain": [
       "torch.Size([1, 18, 768])"
      ]
     },
     "execution_count": 14,
     "metadata": {},
     "output_type": "execute_result"
    }
   ],
   "source": [
    "y_1.shape"
   ]
  },
  {
   "cell_type": "code",
   "execution_count": 15,
   "metadata": {},
   "outputs": [
    {
     "data": {
      "text/plain": [
       "torch.Size([1, 768])"
      ]
     },
     "execution_count": 15,
     "metadata": {},
     "output_type": "execute_result"
    }
   ],
   "source": [
    "y_2.shape"
   ]
  },
  {
   "cell_type": "code",
   "execution_count": 16,
   "metadata": {},
   "outputs": [],
   "source": [
    "CUDA = torch.cuda.is_available()"
   ]
  },
  {
   "cell_type": "code",
   "execution_count": 17,
   "metadata": {},
   "outputs": [],
   "source": [
    "if CUDA:\n",
    "    bert.cuda()"
   ]
  },
  {
   "cell_type": "code",
   "execution_count": 18,
   "metadata": {},
   "outputs": [],
   "source": [
    "from torch import nn\n",
    "class newTop(nn.Module):\n",
    "    def __init__(self,in_ = 768,hs = 768):\n",
    "        super().__init__()\n",
    "        self.ff = nn.Sequential(*[\n",
    "            nn.Linear(in_,hs,bias = False),\n",
    "            nn.BatchNorm1d(hs),\n",
    "            nn.ReLU(),\n",
    "            nn.Linear(hs,1)\n",
    "        ])\n",
    "        \n",
    "    def forward(self,x):\n",
    "        return self.ff(x)"
   ]
  },
  {
   "cell_type": "markdown",
   "metadata": {},
   "source": [
    "### Pytorch dataset\n",
    "\n",
    "> a pytorch dataset, generating tokenized and encoded textual info and y label"
   ]
  },
  {
   "cell_type": "code",
   "execution_count": 19,
   "metadata": {},
   "outputs": [],
   "source": [
    "from torch.utils.data.dataset import Dataset\n",
    "\n",
    "class TextDS(Dataset):\n",
    "    def __init__(self,df):\n",
    "        self.df = df\n",
    "        self.pre = list(df.preview)\n",
    "        self.y = list(df.isy)\n",
    "        \n",
    "    def __len__(self):\n",
    "        return len(self.df)\n",
    "    \n",
    "    def __getitem__(self,idx):\n",
    "        txt = self.pre[idx]\n",
    "        ids = tok.encode(txt,max_length=100,pad_to_max_length=True)\n",
    "        return np.array(ids),np.array([1 if self.y[idx] else 0,])"
   ]
  },
  {
   "cell_type": "markdown",
   "metadata": {},
   "source": [
    "### Forgebox train loop toolkit\n",
    "This is my personal toolkit, feel welcomed to use other solutions"
   ]
  },
  {
   "cell_type": "code",
   "execution_count": 21,
   "metadata": {},
   "outputs": [
    {
     "name": "stdout",
     "output_type": "stream",
     "text": [
      "Collecting forgebox\n",
      "  Downloading forgebox-0.1.3-py3-none-any.whl (35 kB)\n",
      "Installing collected packages: forgebox\n",
      "Successfully installed forgebox-0.1.3\n"
     ]
    }
   ],
   "source": [
    "!pip install forgebox"
   ]
  },
  {
   "cell_type": "code",
   "execution_count": 22,
   "metadata": {},
   "outputs": [],
   "source": [
    "from forgebox.ftorch.train import Trainer\n",
    "from forgebox.ftorch.callbacks import stat"
   ]
  },
  {
   "cell_type": "code",
   "execution_count": 55,
   "metadata": {},
   "outputs": [
    {
     "name": "stdout",
     "output_type": "stream",
     "text": [
      "============================================================\n",
      "Notice, The Trainer was not initiated with optimizer\n",
      "            Use the following syntax to initialize optimizer\n",
      "            t.opt[\"adm1\"] = torch.optim.Adam(m1.parameters())\n",
      "            t.opt[\"adg1\"] = torch.optim.Adagrad(m2.parameters())\n",
      "============================================================\n",
      "            \n"
     ]
    }
   ],
   "source": [
    "t = Trainer(TextDS(df),val_dataset=TextDS(df),shuffle=False,\n",
    "        batch_size = 32, print_on = 5, \n",
    "        callbacks=[stat],val_callbacks=[stat],using_gpu = CUDA)"
   ]
  },
  {
   "cell_type": "code",
   "execution_count": 24,
   "metadata": {},
   "outputs": [],
   "source": [
    "model = newTop()\n",
    "if CUDA:\n",
    "    model.cuda()"
   ]
  },
  {
   "cell_type": "markdown",
   "metadata": {},
   "source": [
    "We only train the top layer module"
   ]
  },
  {
   "cell_type": "code",
   "execution_count": 56,
   "metadata": {},
   "outputs": [],
   "source": [
    "t.opt[\"adm_top\"] = torch.optim.Adam(model.parameters())"
   ]
  },
  {
   "cell_type": "code",
   "execution_count": 65,
   "metadata": {},
   "outputs": [],
   "source": [
    "# The loos function that will reduce down the loss to a single scalar/ mini-batch\n",
    "lossf = nn.BCEWithLogitsLoss()\n",
    "# The loss function that will keep the dimension on mini-batch\n",
    "loss_e = nn.BCEWithLogitsLoss(reduce = False)"
   ]
  },
  {
   "cell_type": "code",
   "execution_count": 59,
   "metadata": {},
   "outputs": [],
   "source": [
    "from forgebox.ftorch.metrics import metric4_bi"
   ]
  },
  {
   "cell_type": "markdown",
   "metadata": {},
   "source": [
    "Recording every loss element on every line"
   ]
  },
  {
   "cell_type": "code",
   "execution_count": 60,
   "metadata": {},
   "outputs": [],
   "source": [
    "class Looper:\n",
    "    def __init__(self):\n",
    "        self.record = []\n",
    "        \n",
    "    def __call__(self,*args):\n",
    "        for arg in args:\n",
    "            self.record.append(arg)"
   ]
  },
  {
   "cell_type": "code",
   "execution_count": 61,
   "metadata": {},
   "outputs": [],
   "source": [
    "@t.step_train\n",
    "def action(batch):\n",
    "    if batch.i == 0: batch.l = Looper()\n",
    "    batch.opt.zero_all()\n",
    "    x,y = batch.data\n",
    "    x = x.long()\n",
    "    y = y.float()\n",
    "\n",
    "    with torch.no_grad():\n",
    "        _,vec = bert(x)\n",
    "    y_ = model(vec)\n",
    "    loss = lossf(y_,y)\n",
    "    \n",
    "    loss.backward()\n",
    "    batch.opt.step_all()\n",
    "    acc,rec,prec,f1 = metric4_bi(y_,y)\n",
    "    return {\"loss\":loss.item(),\n",
    "            \"f1\":f1.item(),\n",
    "            \"acc\":acc.item(),\n",
    "            \"rec\":rec.item(),\n",
    "            \"prec\":prec.item()}\n",
    "\n",
    "@t.step_val\n",
    "def val_action(batch):\n",
    "    if batch.i == 0: \n",
    "        batch.l = Looper()\n",
    "        bert.eval()\n",
    "        model.eval()\n",
    "    with torch.no_grad():\n",
    "        x,y = batch.data\n",
    "        x = x.long()\n",
    "        y = y.float()\n",
    "\n",
    "        _,vec = bert(x)\n",
    "        y_ = model(vec.detach())\n",
    "        loss = loss_e(y_,y)\n",
    "    \n",
    "    batch.l(*loss.cpu().numpy())\n",
    "    return {\"loss\":loss.mean().item(),}"
   ]
  },
  {
   "cell_type": "markdown",
   "metadata": {},
   "source": [
    "### Train and eval\n",
    "* Train the model according to the preliminary label\n",
    "* Save the loss to the list "
   ]
  },
  {
   "cell_type": "code",
   "execution_count": null,
   "metadata": {},
   "outputs": [],
   "source": [
    "t.train(1)"
   ]
  },
  {
   "cell_type": "markdown",
   "metadata": {},
   "source": [
    "### Save top layer model"
   ]
  },
  {
   "cell_type": "code",
   "execution_count": null,
   "metadata": {},
   "outputs": [],
   "source": [
    "torch.save(model.state_dict(),\"top_layer.pth\")"
   ]
  },
  {
   "cell_type": "code",
   "execution_count": 63,
   "metadata": {},
   "outputs": [
    {
     "data": {
      "application/vnd.jupyter.widget-view+json": {
       "model_id": "1a4f0f6ada3a4712905dd0be413390ac",
       "version_major": 2,
       "version_minor": 0
      },
      "text/plain": [
       "HBox(children=(FloatProgress(value=0.0, max=9742.0), HTML(value='')))"
      ]
     },
     "metadata": {},
     "output_type": "display_data"
    },
    {
     "name": "stdout",
     "output_type": "stream",
     "text": [
      "\n"
     ]
    },
    {
     "data": {
      "text/html": [
       "<div>\n",
       "<style scoped>\n",
       "    .dataframe tbody tr th:only-of-type {\n",
       "        vertical-align: middle;\n",
       "    }\n",
       "\n",
       "    .dataframe tbody tr th {\n",
       "        vertical-align: top;\n",
       "    }\n",
       "\n",
       "    .dataframe thead th {\n",
       "        text-align: right;\n",
       "    }\n",
       "</style>\n",
       "<table border=\"1\" class=\"dataframe\">\n",
       "  <thead>\n",
       "    <tr style=\"text-align: right;\">\n",
       "      <th></th>\n",
       "      <th>loss</th>\n",
       "      <th>epoch</th>\n",
       "      <th>iter</th>\n",
       "      <th>timestamp</th>\n",
       "    </tr>\n",
       "  </thead>\n",
       "  <tbody>\n",
       "    <tr>\n",
       "      <th>mean</th>\n",
       "      <td>0.028367</td>\n",
       "      <td>0.0</td>\n",
       "      <td>4870.5</td>\n",
       "      <td>0.189960</td>\n",
       "    </tr>\n",
       "    <tr>\n",
       "      <th>min</th>\n",
       "      <td>0.000034</td>\n",
       "      <td>0.0</td>\n",
       "      <td>0.0</td>\n",
       "      <td>0.000000</td>\n",
       "    </tr>\n",
       "    <tr>\n",
       "      <th>max</th>\n",
       "      <td>0.579924</td>\n",
       "      <td>0.0</td>\n",
       "      <td>9741.0</td>\n",
       "      <td>1850.593469</td>\n",
       "    </tr>\n",
       "  </tbody>\n",
       "</table>\n",
       "</div>"
      ],
      "text/plain": [
       "          loss  epoch    iter    timestamp\n",
       "mean  0.028367    0.0  4870.5     0.189960\n",
       "min   0.000034    0.0     0.0     0.000000\n",
       "max   0.579924    0.0  9741.0  1850.593469"
      ]
     },
     "metadata": {},
     "output_type": "display_data"
    }
   ],
   "source": [
    "t.epoch = 0\n",
    "t.val_track[0] = list()\n",
    "t.val_gen = iter(t.val_data)\n",
    "\n",
    "val_t = t.progress(t.val_len)\n",
    "for i in val_t:\n",
    "    t.val_iteration(i, val_t)\n",
    "\n",
    "for v_cb_func in t.val_callbacks:\n",
    "    v_cb_func(record=t.val_track[0] )"
   ]
  },
  {
   "cell_type": "markdown",
   "metadata": {},
   "source": [
    "Attach loss to dataframe"
   ]
  },
  {
   "cell_type": "code",
   "execution_count": 67,
   "metadata": {},
   "outputs": [],
   "source": [
    "df[\"loss\"] = t.l.record\n",
    "df[\"loss\"] = df.loss.apply(lambda x:x[0])"
   ]
  },
  {
   "cell_type": "markdown",
   "metadata": {},
   "source": [
    "### Review the toploss rows"
   ]
  },
  {
   "cell_type": "code",
   "execution_count": 68,
   "metadata": {},
   "outputs": [
    {
     "data": {
      "text/html": [
       "<div>\n",
       "<style scoped>\n",
       "    .dataframe tbody tr th:only-of-type {\n",
       "        vertical-align: middle;\n",
       "    }\n",
       "\n",
       "    .dataframe tbody tr th {\n",
       "        vertical-align: top;\n",
       "    }\n",
       "\n",
       "    .dataframe thead th {\n",
       "        text-align: right;\n",
       "    }\n",
       "</style>\n",
       "<table border=\"1\" class=\"dataframe\">\n",
       "  <thead>\n",
       "    <tr style=\"text-align: right;\">\n",
       "      <th></th>\n",
       "      <th>id</th>\n",
       "      <th>url</th>\n",
       "      <th>title</th>\n",
       "      <th>preview</th>\n",
       "      <th>isy</th>\n",
       "      <th>loss</th>\n",
       "    </tr>\n",
       "  </thead>\n",
       "  <tbody>\n",
       "    <tr>\n",
       "      <th>215525</th>\n",
       "      <td>155984</td>\n",
       "      <td>https://zh.wikisource.org/wiki?curid=155984</td>\n",
       "      <td>新約讀範</td>\n",
       "      <td>新約讀範\\n\\n西歷一千九百十二年\\n\\n中華民國元年壬子夏　上海廣學會出版\\n\\n上海商務...</td>\n",
       "      <td>False</td>\n",
       "      <td>15.630446</td>\n",
       "    </tr>\n",
       "    <tr>\n",
       "      <th>198650</th>\n",
       "      <td>27272</td>\n",
       "      <td>https://zh.wikisource.org/wiki?curid=27272</td>\n",
       "      <td>革命軍序</td>\n",
       "      <td>革命軍序\\n\\n蜀為《革命軍》，方二萬言，示余曰：「欲以立懦夫，定民志，故辭多恣肆，無所回避...</td>\n",
       "      <td>False</td>\n",
       "      <td>15.038565</td>\n",
       "    </tr>\n",
       "    <tr>\n",
       "      <th>56271</th>\n",
       "      <td>39775</td>\n",
       "      <td>https://zh.wikisource.org/wiki?curid=39775</td>\n",
       "      <td>新聞記者法</td>\n",
       "      <td>新聞記者法\\n</td>\n",
       "      <td>False</td>\n",
       "      <td>14.737231</td>\n",
       "    </tr>\n",
       "    <tr>\n",
       "      <th>13389</th>\n",
       "      <td>821252</td>\n",
       "      <td>https://zh.wikisource.org/wiki?curid=821252</td>\n",
       "      <td>清史紀事本末 (民國三年石印本)</td>\n",
       "      <td>清史紀事本末 (民國三年石印本)\\n\\n</td>\n",
       "      <td>False</td>\n",
       "      <td>13.385850</td>\n",
       "    </tr>\n",
       "    <tr>\n",
       "      <th>195876</th>\n",
       "      <td>885446</td>\n",
       "      <td>https://zh.wikisource.org/wiki?curid=885446</td>\n",
       "      <td>皇朝故潞州司法秦君墓志銘並序</td>\n",
       "      <td>皇朝故潞州司法秦君墓志銘並序\\n\\n&lt;onlyinclude&gt;\\n公諱佾，齊國臨淄人也。高陽...</td>\n",
       "      <td>False</td>\n",
       "      <td>13.173684</td>\n",
       "    </tr>\n",
       "    <tr>\n",
       "      <th>...</th>\n",
       "      <td>...</td>\n",
       "      <td>...</td>\n",
       "      <td>...</td>\n",
       "      <td>...</td>\n",
       "      <td>...</td>\n",
       "      <td>...</td>\n",
       "    </tr>\n",
       "    <tr>\n",
       "      <th>208531</th>\n",
       "      <td>306655</td>\n",
       "      <td>https://zh.wikisource.org/wiki?curid=306655</td>\n",
       "      <td>夷白齋稿 (四庫全書本)/卷09</td>\n",
       "      <td>夷白齋稿 (四庫全書本)/卷09\\n\\n&lt;onlyinclude&gt;&lt;poem&gt;　　欽定四庫全...</td>\n",
       "      <td>True</td>\n",
       "      <td>0.000000</td>\n",
       "    </tr>\n",
       "    <tr>\n",
       "      <th>241187</th>\n",
       "      <td>267282</td>\n",
       "      <td>https://zh.wikisource.org/wiki?curid=267282</td>\n",
       "      <td>稗編 (四庫全書本)/卷037</td>\n",
       "      <td>稗編 (四庫全書本)/卷037\\n\\n&lt;onlyinclude&gt;&lt;poem&gt;　　欽定四庫全書...</td>\n",
       "      <td>True</td>\n",
       "      <td>0.000000</td>\n",
       "    </tr>\n",
       "    <tr>\n",
       "      <th>26401</th>\n",
       "      <td>254823</td>\n",
       "      <td>https://zh.wikisource.org/wiki?curid=254823</td>\n",
       "      <td>大統厯志 (四庫全書本)/卷8</td>\n",
       "      <td>大統厯志 (四庫全書本)/卷8\\n\\n&lt;onlyinclude&gt;&lt;poem&gt;　　欽定四庫全書...</td>\n",
       "      <td>True</td>\n",
       "      <td>0.000000</td>\n",
       "    </tr>\n",
       "    <tr>\n",
       "      <th>12722</th>\n",
       "      <td>76287</td>\n",
       "      <td>https://zh.wikisource.org/wiki?curid=76287</td>\n",
       "      <td>詠雨</td>\n",
       "      <td>詠雨\\n</td>\n",
       "      <td>True</td>\n",
       "      <td>0.000000</td>\n",
       "    </tr>\n",
       "    <tr>\n",
       "      <th>103331</th>\n",
       "      <td>86131</td>\n",
       "      <td>https://zh.wikisource.org/wiki?curid=86131</td>\n",
       "      <td>佛學大辭典/悉恥羅末底</td>\n",
       "      <td>佛學大辭典/悉恥羅末底\\n\\n【悉恥羅末底】\\n\\n（人名）Sthiramati，譯曰安慧，...</td>\n",
       "      <td>True</td>\n",
       "      <td>0.000000</td>\n",
       "    </tr>\n",
       "  </tbody>\n",
       "</table>\n",
       "<p>311723 rows × 6 columns</p>\n",
       "</div>"
      ],
      "text/plain": [
       "            id                                          url             title  \\\n",
       "215525  155984  https://zh.wikisource.org/wiki?curid=155984              新約讀範   \n",
       "198650   27272   https://zh.wikisource.org/wiki?curid=27272              革命軍序   \n",
       "56271    39775   https://zh.wikisource.org/wiki?curid=39775             新聞記者法   \n",
       "13389   821252  https://zh.wikisource.org/wiki?curid=821252  清史紀事本末 (民國三年石印本)   \n",
       "195876  885446  https://zh.wikisource.org/wiki?curid=885446    皇朝故潞州司法秦君墓志銘並序   \n",
       "...        ...                                          ...               ...   \n",
       "208531  306655  https://zh.wikisource.org/wiki?curid=306655  夷白齋稿 (四庫全書本)/卷09   \n",
       "241187  267282  https://zh.wikisource.org/wiki?curid=267282   稗編 (四庫全書本)/卷037   \n",
       "26401   254823  https://zh.wikisource.org/wiki?curid=254823   大統厯志 (四庫全書本)/卷8   \n",
       "12722    76287   https://zh.wikisource.org/wiki?curid=76287                詠雨   \n",
       "103331   86131   https://zh.wikisource.org/wiki?curid=86131       佛學大辭典/悉恥羅末底   \n",
       "\n",
       "                                                  preview    isy       loss  \n",
       "215525  新約讀範\\n\\n西歷一千九百十二年\\n\\n中華民國元年壬子夏　上海廣學會出版\\n\\n上海商務...  False  15.630446  \n",
       "198650  革命軍序\\n\\n蜀為《革命軍》，方二萬言，示余曰：「欲以立懦夫，定民志，故辭多恣肆，無所回避...  False  15.038565  \n",
       "56271                                             新聞記者法\\n  False  14.737231  \n",
       "13389                                清史紀事本末 (民國三年石印本)\\n\\n  False  13.385850  \n",
       "195876  皇朝故潞州司法秦君墓志銘並序\\n\\n<onlyinclude>\\n公諱佾，齊國臨淄人也。高陽...  False  13.173684  \n",
       "...                                                   ...    ...        ...  \n",
       "208531  夷白齋稿 (四庫全書本)/卷09\\n\\n<onlyinclude><poem>　　欽定四庫全...   True   0.000000  \n",
       "241187  稗編 (四庫全書本)/卷037\\n\\n<onlyinclude><poem>　　欽定四庫全書...   True   0.000000  \n",
       "26401   大統厯志 (四庫全書本)/卷8\\n\\n<onlyinclude><poem>　　欽定四庫全書...   True   0.000000  \n",
       "12722                                                詠雨\\n   True   0.000000  \n",
       "103331  佛學大辭典/悉恥羅末底\\n\\n【悉恥羅末底】\\n\\n（人名）Sthiramati，譯曰安慧，...   True   0.000000  \n",
       "\n",
       "[311723 rows x 6 columns]"
      ]
     },
     "execution_count": 68,
     "metadata": {},
     "output_type": "execute_result"
    }
   ],
   "source": [
    "df.sort_values(by = \"loss\",ascending = False)"
   ]
  },
  {
   "cell_type": "markdown",
   "metadata": {},
   "source": [
    "### Save the loss to csv"
   ]
  },
  {
   "cell_type": "code",
   "execution_count": 69,
   "metadata": {},
   "outputs": [],
   "source": [
    "df.sort_values(by = \"loss\",ascending = False).reset_index().drop(\"index\",axis=1).to_csv(\"cntext_loss.csv\",index = False)"
   ]
  },
  {
   "cell_type": "code",
   "execution_count": null,
   "metadata": {},
   "outputs": [],
   "source": []
  }
 ],
 "metadata": {
  "kernelspec": {
   "display_name": "Python 3",
   "language": "python",
   "name": "python3"
  },
  "language_info": {
   "codemirror_mode": {
    "name": "ipython",
    "version": 3
   },
   "file_extension": ".py",
   "mimetype": "text/x-python",
   "name": "python",
   "nbconvert_exporter": "python",
   "pygments_lexer": "ipython3",
   "version": "3.6.4"
  }
 },
 "nbformat": 4,
 "nbformat_minor": 4
}
