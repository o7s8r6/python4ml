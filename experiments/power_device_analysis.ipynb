{
 "cells": [
  {
   "cell_type": "markdown",
   "metadata": {},
   "source": [
    "# Power Device Analysis"
   ]
  },
  {
   "cell_type": "code",
   "execution_count": 1,
   "metadata": {},
   "outputs": [],
   "source": [
    "import numpy as np"
   ]
  },
  {
   "cell_type": "code",
   "execution_count": 2,
   "metadata": {},
   "outputs": [],
   "source": [
    "import pandas as pd"
   ]
  },
  {
   "cell_type": "code",
   "execution_count": 98,
   "metadata": {},
   "outputs": [],
   "source": [
    "df = pd.read_csv(\"/Users/salvor/Downloads/grafana_data_export.csv\",sep = \";\")"
   ]
  },
  {
   "cell_type": "code",
   "execution_count": 99,
   "metadata": {},
   "outputs": [],
   "source": [
    "i2d = dict(enumerate(df.Series.unique()))\n",
    "d2i = dict((v,k) for k,v in i2d.items())"
   ]
  },
  {
   "cell_type": "code",
   "execution_count": 100,
   "metadata": {},
   "outputs": [
    {
     "data": {
      "text/plain": [
       "{0: 'power.mean {device: Backup-9}',\n",
       " 1: 'power.mean {device: Bottle-Warmer}',\n",
       " 2: 'power.mean {device: Fridge}',\n",
       " 3: 'power.mean {device: Lights}',\n",
       " 4: 'power.mean {device: Main}',\n",
       " 5: 'power.mean {device: Washing-Machine}',\n",
       " 6: 'power.mean {device: Water-Heater}'}"
      ]
     },
     "execution_count": 100,
     "metadata": {},
     "output_type": "execute_result"
    }
   ],
   "source": [
    "i2d"
   ]
  },
  {
   "cell_type": "code",
   "execution_count": 101,
   "metadata": {},
   "outputs": [],
   "source": [
    "df[\"d\"] = df[\"Series\"].apply(lambda x:d2i[x])"
   ]
  },
  {
   "cell_type": "code",
   "execution_count": 102,
   "metadata": {},
   "outputs": [],
   "source": [
    "from matplotlib import pyplot as plt"
   ]
  },
  {
   "cell_type": "code",
   "execution_count": 103,
   "metadata": {},
   "outputs": [],
   "source": [
    "df = df.fillna(-1.)"
   ]
  },
  {
   "cell_type": "code",
   "execution_count": 104,
   "metadata": {},
   "outputs": [
    {
     "data": {
      "text/html": [
       "<div>\n",
       "<style scoped>\n",
       "    .dataframe tbody tr th:only-of-type {\n",
       "        vertical-align: middle;\n",
       "    }\n",
       "\n",
       "    .dataframe tbody tr th {\n",
       "        vertical-align: top;\n",
       "    }\n",
       "\n",
       "    .dataframe thead th {\n",
       "        text-align: right;\n",
       "    }\n",
       "</style>\n",
       "<table border=\"1\" class=\"dataframe\">\n",
       "  <thead>\n",
       "    <tr style=\"text-align: right;\">\n",
       "      <th></th>\n",
       "      <th>Series</th>\n",
       "      <th>Time</th>\n",
       "      <th>Value</th>\n",
       "      <th>d</th>\n",
       "    </tr>\n",
       "  </thead>\n",
       "  <tbody>\n",
       "    <tr>\n",
       "      <th>0</th>\n",
       "      <td>power.mean {device: Backup-9}</td>\n",
       "      <td>2019-12-30T13:14:37+08:00</td>\n",
       "      <td>-1.00</td>\n",
       "      <td>0</td>\n",
       "    </tr>\n",
       "    <tr>\n",
       "      <th>1</th>\n",
       "      <td>power.mean {device: Backup-9}</td>\n",
       "      <td>2019-12-30T13:14:38+08:00</td>\n",
       "      <td>0.01</td>\n",
       "      <td>0</td>\n",
       "    </tr>\n",
       "    <tr>\n",
       "      <th>2</th>\n",
       "      <td>power.mean {device: Backup-9}</td>\n",
       "      <td>2019-12-30T13:14:39+08:00</td>\n",
       "      <td>0.01</td>\n",
       "      <td>0</td>\n",
       "    </tr>\n",
       "    <tr>\n",
       "      <th>3</th>\n",
       "      <td>power.mean {device: Backup-9}</td>\n",
       "      <td>2019-12-30T13:14:40+08:00</td>\n",
       "      <td>0.01</td>\n",
       "      <td>0</td>\n",
       "    </tr>\n",
       "    <tr>\n",
       "      <th>4</th>\n",
       "      <td>power.mean {device: Backup-9}</td>\n",
       "      <td>2019-12-30T13:14:41+08:00</td>\n",
       "      <td>0.01</td>\n",
       "      <td>0</td>\n",
       "    </tr>\n",
       "    <tr>\n",
       "      <th>...</th>\n",
       "      <td>...</td>\n",
       "      <td>...</td>\n",
       "      <td>...</td>\n",
       "      <td>...</td>\n",
       "    </tr>\n",
       "    <tr>\n",
       "      <th>302402</th>\n",
       "      <td>power.mean {device: Water-Heater}</td>\n",
       "      <td>2019-12-31T01:14:33+08:00</td>\n",
       "      <td>-1.00</td>\n",
       "      <td>6</td>\n",
       "    </tr>\n",
       "    <tr>\n",
       "      <th>302403</th>\n",
       "      <td>power.mean {device: Water-Heater}</td>\n",
       "      <td>2019-12-31T01:14:34+08:00</td>\n",
       "      <td>-1.00</td>\n",
       "      <td>6</td>\n",
       "    </tr>\n",
       "    <tr>\n",
       "      <th>302404</th>\n",
       "      <td>power.mean {device: Water-Heater}</td>\n",
       "      <td>2019-12-31T01:14:35+08:00</td>\n",
       "      <td>-1.00</td>\n",
       "      <td>6</td>\n",
       "    </tr>\n",
       "    <tr>\n",
       "      <th>302405</th>\n",
       "      <td>power.mean {device: Water-Heater}</td>\n",
       "      <td>2019-12-31T01:14:36+08:00</td>\n",
       "      <td>-1.00</td>\n",
       "      <td>6</td>\n",
       "    </tr>\n",
       "    <tr>\n",
       "      <th>302406</th>\n",
       "      <td>power.mean {device: Water-Heater}</td>\n",
       "      <td>2019-12-31T01:14:37+08:00</td>\n",
       "      <td>-1.00</td>\n",
       "      <td>6</td>\n",
       "    </tr>\n",
       "  </tbody>\n",
       "</table>\n",
       "<p>302407 rows × 4 columns</p>\n",
       "</div>"
      ],
      "text/plain": [
       "                                   Series                       Time  Value  d\n",
       "0           power.mean {device: Backup-9}  2019-12-30T13:14:37+08:00  -1.00  0\n",
       "1           power.mean {device: Backup-9}  2019-12-30T13:14:38+08:00   0.01  0\n",
       "2           power.mean {device: Backup-9}  2019-12-30T13:14:39+08:00   0.01  0\n",
       "3           power.mean {device: Backup-9}  2019-12-30T13:14:40+08:00   0.01  0\n",
       "4           power.mean {device: Backup-9}  2019-12-30T13:14:41+08:00   0.01  0\n",
       "...                                   ...                        ...    ... ..\n",
       "302402  power.mean {device: Water-Heater}  2019-12-31T01:14:33+08:00  -1.00  6\n",
       "302403  power.mean {device: Water-Heater}  2019-12-31T01:14:34+08:00  -1.00  6\n",
       "302404  power.mean {device: Water-Heater}  2019-12-31T01:14:35+08:00  -1.00  6\n",
       "302405  power.mean {device: Water-Heater}  2019-12-31T01:14:36+08:00  -1.00  6\n",
       "302406  power.mean {device: Water-Heater}  2019-12-31T01:14:37+08:00  -1.00  6\n",
       "\n",
       "[302407 rows x 4 columns]"
      ]
     },
     "execution_count": 104,
     "metadata": {},
     "output_type": "execute_result"
    }
   ],
   "source": [
    "df"
   ]
  },
  {
   "cell_type": "code",
   "execution_count": 105,
   "metadata": {},
   "outputs": [],
   "source": [
    "sobel = np.array([-1,0,1])"
   ]
  },
  {
   "cell_type": "code",
   "execution_count": 106,
   "metadata": {},
   "outputs": [],
   "source": [
    "vals = np.stack(list(df[df.d==i].Value.values for i in range(6)))"
   ]
  },
  {
   "cell_type": "markdown",
   "metadata": {},
   "source": [
    "All vals in tensor"
   ]
  },
  {
   "cell_type": "code",
   "execution_count": 107,
   "metadata": {},
   "outputs": [
    {
     "data": {
      "text/plain": [
       "array([[-1.  ,  0.01,  0.01, ..., -1.  , -1.  , -1.  ],\n",
       "       [-1.  ,  0.  ,  0.  , ..., -1.  , -1.  , -1.  ],\n",
       "       [-1.  ,  0.03,  0.03, ..., -1.  , -1.  , -1.  ],\n",
       "       [-1.  ,  0.05,  0.04, ..., -1.  , -1.  , -1.  ],\n",
       "       [-1.  ,  0.23,  0.23, ..., -1.  , -1.  , -1.  ],\n",
       "       [-1.  ,  0.01,  0.01, ..., -1.  , -1.  , -1.  ]])"
      ]
     },
     "execution_count": 107,
     "metadata": {},
     "output_type": "execute_result"
    }
   ],
   "source": [
    "vals"
   ]
  },
  {
   "cell_type": "code",
   "execution_count": 108,
   "metadata": {},
   "outputs": [],
   "source": [
    "from scipy.signal import convolve"
   ]
  },
  {
   "cell_type": "code",
   "execution_count": 115,
   "metadata": {},
   "outputs": [],
   "source": [
    "sli1 = 4000\n",
    "sli2 = 26000"
   ]
  },
  {
   "cell_type": "markdown",
   "metadata": {},
   "source": [
    "#### Sobel Filter "
   ]
  },
  {
   "cell_type": "code",
   "execution_count": 116,
   "metadata": {},
   "outputs": [
    {
     "data": {
      "text/plain": [
       "[<matplotlib.lines.Line2D at 0x1c321f2150>,\n",
       " <matplotlib.lines.Line2D at 0x1c321cc710>]"
      ]
     },
     "execution_count": 116,
     "metadata": {},
     "output_type": "execute_result"
    },
    {
     "data": {
      "image/png": "[encoded data removed]",
      "text/plain": [
       "<Figure size 432x288 with 1 Axes>"
      ]
     },
     "metadata": {
      "needs_background": "light"
     },
     "output_type": "display_data"
    }
   ],
   "source": [
    "sample_ = vals[4][sli1:sli2]\n",
    "plt.plot(sample_,\"r--\",convolve(sample_, sobel)[1:-1],\"b--\")"
   ]
  },
  {
   "cell_type": "code",
   "execution_count": 117,
   "metadata": {},
   "outputs": [
    {
     "name": "stdout",
     "output_type": "stream",
     "text": [
      "power.mean {device: Bottle-Warmer}\n"
     ]
    },
    {
     "data": {
      "text/plain": [
       "[<matplotlib.lines.Line2D at 0x1c3265b350>,\n",
       " <matplotlib.lines.Line2D at 0x1c3265b510>]"
      ]
     },
     "execution_count": 117,
     "metadata": {},
     "output_type": "execute_result"
    },
    {
     "data": {
      "image/png": "[encoded data removed]",
      "text/plain": [
       "<Figure size 432x288 with 1 Axes>"
      ]
     },
     "metadata": {
      "needs_background": "light"
     },
     "output_type": "display_data"
    }
   ],
   "source": [
    "cate = 1\n",
    "\n",
    "print(i2d[cate])\n",
    "sample_ = vals[cate][sli1:sli2]\n",
    "plt.plot(sample_,\"r--\",convolve(sample_, sobel)[1:-1],\"b--\")"
   ]
  },
  {
   "cell_type": "code",
   "execution_count": 118,
   "metadata": {},
   "outputs": [
    {
     "name": "stdout",
     "output_type": "stream",
     "text": [
      "power.mean {device: Fridge}\n"
     ]
    },
    {
     "data": {
      "text/plain": [
       "[<matplotlib.lines.Line2D at 0x1c33c243d0>,\n",
       " <matplotlib.lines.Line2D at 0x1c33c33050>]"
      ]
     },
     "execution_count": 118,
     "metadata": {},
     "output_type": "execute_result"
    },
    {
     "data": {
      "image/png": "[encoded data removed]",
      "text/plain": [
       "<Figure size 432x288 with 1 Axes>"
      ]
     },
     "metadata": {
      "needs_background": "light"
     },
     "output_type": "display_data"
    }
   ],
   "source": [
    "cate = 2\n",
    "\n",
    "print(i2d[cate])\n",
    "sample_ = vals[cate][sli1:sli2]\n",
    "plt.plot(sample_,\"r--\",convolve(sample_, sobel)[1:-1],\"b--\")"
   ]
  },
  {
   "cell_type": "code",
   "execution_count": 119,
   "metadata": {},
   "outputs": [
    {
     "name": "stdout",
     "output_type": "stream",
     "text": [
      "power.mean {device: Lights}\n"
     ]
    },
    {
     "data": {
      "text/plain": [
       "[<matplotlib.lines.Line2D at 0x1c33beff90>,\n",
       " <matplotlib.lines.Line2D at 0x1c33f824d0>]"
      ]
     },
     "execution_count": 119,
     "metadata": {},
     "output_type": "execute_result"
    },
    {
     "data": {
      "image/png": "[encoded data removed]",
      "text/plain": [
       "<Figure size 432x288 with 1 Axes>"
      ]
     },
     "metadata": {
      "needs_background": "light"
     },
     "output_type": "display_data"
    }
   ],
   "source": [
    "cate = 3\n",
    "\n",
    "print(i2d[cate])\n",
    "sample_ = vals[cate][sli1:sli2]\n",
    "plt.plot(sample_,\"r--\",convolve(sample_, sobel)[1:-1],\"b--\")"
   ]
  },
  {
   "cell_type": "code",
   "execution_count": 120,
   "metadata": {},
   "outputs": [
    {
     "name": "stdout",
     "output_type": "stream",
     "text": [
      "power.mean {device: Washing-Machine}\n"
     ]
    },
    {
     "data": {
      "text/plain": [
       "[<matplotlib.lines.Line2D at 0x1c342b0a50>,\n",
       " <matplotlib.lines.Line2D at 0x1c33c57510>]"
      ]
     },
     "execution_count": 120,
     "metadata": {},
     "output_type": "execute_result"
    },
    {
     "data": {
      "image/png": "[encoded data removed]",
      "text/plain": [
       "<Figure size 432x288 with 1 Axes>"
      ]
     },
     "metadata": {
      "needs_background": "light"
     },
     "output_type": "display_data"
    }
   ],
   "source": [
    "cate = 5\n",
    "\n",
    "print(i2d[cate])\n",
    "sample_ = vals[cate][sli1:sli2]\n",
    "plt.plot(sample_,\"r--\",convolve(sample_, sobel)[1:-1],\"b--\")"
   ]
  },
  {
   "cell_type": "code",
   "execution_count": null,
   "metadata": {},
   "outputs": [],
   "source": []
  }
 ],
 "metadata": {
  "kernelspec": {
   "display_name": "Python 3",
   "language": "python",
   "name": "python3"
  },
  "language_info": {
   "codemirror_mode": {
    "name": "ipython",
    "version": 3
   },
   "file_extension": ".py",
   "mimetype": "text/x-python",
   "name": "python",
   "nbconvert_exporter": "python",
   "pygments_lexer": "ipython3",
   "version": "3.7.4"
  }
 },
 "nbformat": 4,
 "nbformat_minor": 2
}
