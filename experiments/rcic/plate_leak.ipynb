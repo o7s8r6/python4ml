{
 "cells": [
  {
   "cell_type": "markdown",
   "metadata": {},
   "source": [
    "### Investigate & Exploit Plate Leak"
   ]
  },
  {
   "cell_type": "code",
   "execution_count": 1,
   "metadata": {},
   "outputs": [],
   "source": [
    "import os\n",
    "\n",
    "import numpy as np\n",
    "import pandas as pd\n",
    "\n",
    "from fastai.vision import *\n",
    "from fastai.metrics import *"
   ]
  },
  {
   "cell_type": "code",
   "execution_count": 2,
   "metadata": {},
   "outputs": [],
   "source": [
    "from pathlib import Path\n",
    "\n",
    "DATA = Path(\"/mnt/disk4/cell/\")"
   ]
  },
  {
   "cell_type": "code",
   "execution_count": 15,
   "metadata": {},
   "outputs": [
    {
     "data": {
      "text/html": [
       "<div>\n",
       "<style scoped>\n",
       "    .dataframe tbody tr th:only-of-type {\n",
       "        vertical-align: middle;\n",
       "    }\n",
       "\n",
       "    .dataframe tbody tr th {\n",
       "        vertical-align: top;\n",
       "    }\n",
       "\n",
       "    .dataframe thead th {\n",
       "        text-align: right;\n",
       "    }\n",
       "</style>\n",
       "<table border=\"1\" class=\"dataframe\">\n",
       "  <thead>\n",
       "    <tr style=\"text-align: right;\">\n",
       "      <th></th>\n",
       "      <th>id_code</th>\n",
       "      <th>experiment</th>\n",
       "      <th>plate</th>\n",
       "      <th>well</th>\n",
       "      <th>sirna</th>\n",
       "    </tr>\n",
       "  </thead>\n",
       "  <tbody>\n",
       "    <tr>\n",
       "      <th>0</th>\n",
       "      <td>HEPG2-01_1_B03</td>\n",
       "      <td>HEPG2-01</td>\n",
       "      <td>1</td>\n",
       "      <td>B03</td>\n",
       "      <td>513</td>\n",
       "    </tr>\n",
       "    <tr>\n",
       "      <th>1</th>\n",
       "      <td>HEPG2-01_1_B04</td>\n",
       "      <td>HEPG2-01</td>\n",
       "      <td>1</td>\n",
       "      <td>B04</td>\n",
       "      <td>840</td>\n",
       "    </tr>\n",
       "    <tr>\n",
       "      <th>2</th>\n",
       "      <td>HEPG2-01_1_B05</td>\n",
       "      <td>HEPG2-01</td>\n",
       "      <td>1</td>\n",
       "      <td>B05</td>\n",
       "      <td>1020</td>\n",
       "    </tr>\n",
       "    <tr>\n",
       "      <th>3</th>\n",
       "      <td>HEPG2-01_1_B06</td>\n",
       "      <td>HEPG2-01</td>\n",
       "      <td>1</td>\n",
       "      <td>B06</td>\n",
       "      <td>254</td>\n",
       "    </tr>\n",
       "    <tr>\n",
       "      <th>4</th>\n",
       "      <td>HEPG2-01_1_B07</td>\n",
       "      <td>HEPG2-01</td>\n",
       "      <td>1</td>\n",
       "      <td>B07</td>\n",
       "      <td>144</td>\n",
       "    </tr>\n",
       "    <tr>\n",
       "      <th>5</th>\n",
       "      <td>HEPG2-01_1_B08</td>\n",
       "      <td>HEPG2-01</td>\n",
       "      <td>1</td>\n",
       "      <td>B08</td>\n",
       "      <td>503</td>\n",
       "    </tr>\n",
       "    <tr>\n",
       "      <th>6</th>\n",
       "      <td>HEPG2-01_1_B09</td>\n",
       "      <td>HEPG2-01</td>\n",
       "      <td>1</td>\n",
       "      <td>B09</td>\n",
       "      <td>188</td>\n",
       "    </tr>\n",
       "    <tr>\n",
       "      <th>7</th>\n",
       "      <td>HEPG2-01_1_B10</td>\n",
       "      <td>HEPG2-01</td>\n",
       "      <td>1</td>\n",
       "      <td>B10</td>\n",
       "      <td>700</td>\n",
       "    </tr>\n",
       "    <tr>\n",
       "      <th>8</th>\n",
       "      <td>HEPG2-01_1_B11</td>\n",
       "      <td>HEPG2-01</td>\n",
       "      <td>1</td>\n",
       "      <td>B11</td>\n",
       "      <td>1100</td>\n",
       "    </tr>\n",
       "    <tr>\n",
       "      <th>9</th>\n",
       "      <td>HEPG2-01_1_B12</td>\n",
       "      <td>HEPG2-01</td>\n",
       "      <td>1</td>\n",
       "      <td>B12</td>\n",
       "      <td>611</td>\n",
       "    </tr>\n",
       "  </tbody>\n",
       "</table>\n",
       "</div>"
      ],
      "text/plain": [
       "          id_code experiment  plate well  sirna\n",
       "0  HEPG2-01_1_B03   HEPG2-01      1  B03    513\n",
       "1  HEPG2-01_1_B04   HEPG2-01      1  B04    840\n",
       "2  HEPG2-01_1_B05   HEPG2-01      1  B05   1020\n",
       "3  HEPG2-01_1_B06   HEPG2-01      1  B06    254\n",
       "4  HEPG2-01_1_B07   HEPG2-01      1  B07    144\n",
       "5  HEPG2-01_1_B08   HEPG2-01      1  B08    503\n",
       "6  HEPG2-01_1_B09   HEPG2-01      1  B09    188\n",
       "7  HEPG2-01_1_B10   HEPG2-01      1  B10    700\n",
       "8  HEPG2-01_1_B11   HEPG2-01      1  B11   1100\n",
       "9  HEPG2-01_1_B12   HEPG2-01      1  B12    611"
      ]
     },
     "execution_count": 15,
     "metadata": {},
     "output_type": "execute_result"
    }
   ],
   "source": [
    "train_df = pd.read_csv(DATA/'train.csv')\n",
    "test_df = pd.read_csv(DATA/'test.csv')\n",
    "train_df.head(10)"
   ]
  },
  {
   "cell_type": "code",
   "execution_count": 5,
   "metadata": {},
   "outputs": [
    {
     "data": {
      "text/plain": [
       "(1107, 0)"
      ]
     },
     "execution_count": 5,
     "metadata": {},
     "output_type": "execute_result"
    }
   ],
   "source": [
    "train_df.sirna.max(), train_df.sirna.min()"
   ]
  },
  {
   "cell_type": "code",
   "execution_count": 4,
   "metadata": {},
   "outputs": [
    {
     "data": {
      "text/plain": [
       "3    9130\n",
       "2    9129\n",
       "1    9129\n",
       "4    9127\n",
       "Name: plate, dtype: int64"
      ]
     },
     "execution_count": 4,
     "metadata": {},
     "output_type": "execute_result"
    }
   ],
   "source": [
    "train_df.plate.value_counts()"
   ]
  },
  {
   "cell_type": "code",
   "execution_count": 12,
   "metadata": {},
   "outputs": [
    {
     "data": {
      "text/plain": [
       "array([3, 1, 2])"
      ]
     },
     "execution_count": 12,
     "metadata": {},
     "output_type": "execute_result"
    }
   ],
   "source": [
    "train_df.loc[train_df.sirna==4,:].plate.value_counts().index.values"
   ]
  },
  {
   "cell_type": "code",
   "execution_count": 26,
   "metadata": {},
   "outputs": [],
   "source": [
    "train_df[\"pname\"]=train_df.apply(lambda x:x[\"experiment\"]+\"-\"+x[\"plate\"].__str__(), axis=1)"
   ]
  },
  {
   "cell_type": "markdown",
   "metadata": {},
   "source": [
    "### Mapping group to each siRNA"
   ]
  },
  {
   "cell_type": "code",
   "execution_count": 31,
   "metadata": {},
   "outputs": [],
   "source": [
    "def sameRna(sirna):\n",
    "    pnames = list(set(train_df[train_df.sirna==sirna].pname))\n",
    "    return list(set(train_df[train_df.pname.isin(pnames)].sirna))"
   ]
  },
  {
   "cell_type": "code",
   "execution_count": 56,
   "metadata": {},
   "outputs": [],
   "source": [
    "list1 = sameRna(0)\n",
    "list2 = sameRna(1)\n",
    "list3 = sameRna(2)\n",
    "list4 = sameRna(4)"
   ]
  },
  {
   "cell_type": "code",
   "execution_count": 57,
   "metadata": {},
   "outputs": [
    {
     "data": {
      "text/plain": [
       "(277, 277, 277, 277)"
      ]
     },
     "execution_count": 57,
     "metadata": {},
     "output_type": "execute_result"
    }
   ],
   "source": [
    "len(list1),len(list2),len(list3),len(list4)"
   ]
  },
  {
   "cell_type": "code",
   "execution_count": 61,
   "metadata": {},
   "outputs": [],
   "source": [
    "groups = np.zeros(1108)\n",
    "for i in range(4):\n",
    "    for sirna in eval(\"list%s\"%(i+1)):\n",
    "        groups[sirna] = i"
   ]
  },
  {
   "cell_type": "code",
   "execution_count": 62,
   "metadata": {},
   "outputs": [
    {
     "data": {
      "text/plain": [
       "array([0., 1., 2., 1., ..., 1., 3., 1., 0.])"
      ]
     },
     "execution_count": 62,
     "metadata": {},
     "output_type": "execute_result"
    }
   ],
   "source": [
    "groups"
   ]
  },
  {
   "cell_type": "code",
   "execution_count": 63,
   "metadata": {},
   "outputs": [],
   "source": [
    "np.save(\"groups.npy\",groups)"
   ]
  },
  {
   "cell_type": "markdown",
   "metadata": {},
   "source": [
    "### Test on our best submission"
   ]
  },
  {
   "cell_type": "code",
   "execution_count": 64,
   "metadata": {},
   "outputs": [],
   "source": [
    "subdf = pd.read_csv(\"submission_ens_4b3_b4_2b5.csv\")"
   ]
  },
  {
   "cell_type": "code",
   "execution_count": 69,
   "metadata": {},
   "outputs": [],
   "source": [
    "subdf_ = subdf.set_index(\"id_code\").join(test_df.set_index(\"id_code\")).reset_index()"
   ]
  },
  {
   "cell_type": "code",
   "execution_count": 71,
   "metadata": {},
   "outputs": [
    {
     "data": {
      "text/html": [
       "<div>\n",
       "<style scoped>\n",
       "    .dataframe tbody tr th:only-of-type {\n",
       "        vertical-align: middle;\n",
       "    }\n",
       "\n",
       "    .dataframe tbody tr th {\n",
       "        vertical-align: top;\n",
       "    }\n",
       "\n",
       "    .dataframe thead th {\n",
       "        text-align: right;\n",
       "    }\n",
       "</style>\n",
       "<table border=\"1\" class=\"dataframe\">\n",
       "  <thead>\n",
       "    <tr style=\"text-align: right;\">\n",
       "      <th></th>\n",
       "      <th>id_code</th>\n",
       "      <th>sirna</th>\n",
       "      <th>experiment</th>\n",
       "      <th>plate</th>\n",
       "      <th>well</th>\n",
       "    </tr>\n",
       "  </thead>\n",
       "  <tbody>\n",
       "    <tr>\n",
       "      <th>5611</th>\n",
       "      <td>HUVEC-18_1_E17</td>\n",
       "      <td>939</td>\n",
       "      <td>HUVEC-18</td>\n",
       "      <td>1</td>\n",
       "      <td>E17</td>\n",
       "    </tr>\n",
       "    <tr>\n",
       "      <th>9330</th>\n",
       "      <td>HUVEC-21_2_K22</td>\n",
       "      <td>147</td>\n",
       "      <td>HUVEC-21</td>\n",
       "      <td>2</td>\n",
       "      <td>K22</td>\n",
       "    </tr>\n",
       "    <tr>\n",
       "      <th>7611</th>\n",
       "      <td>HUVEC-19_4_I03</td>\n",
       "      <td>798</td>\n",
       "      <td>HUVEC-19</td>\n",
       "      <td>4</td>\n",
       "      <td>I03</td>\n",
       "    </tr>\n",
       "    <tr>\n",
       "      <th>6183</th>\n",
       "      <td>HUVEC-18_3_F18</td>\n",
       "      <td>887</td>\n",
       "      <td>HUVEC-18</td>\n",
       "      <td>3</td>\n",
       "      <td>F18</td>\n",
       "    </tr>\n",
       "    <tr>\n",
       "      <th>9779</th>\n",
       "      <td>HUVEC-21_4_F12</td>\n",
       "      <td>229</td>\n",
       "      <td>HUVEC-21</td>\n",
       "      <td>4</td>\n",
       "      <td>F12</td>\n",
       "    </tr>\n",
       "    <tr>\n",
       "      <th>10637</th>\n",
       "      <td>HUVEC-22_3_G20</td>\n",
       "      <td>679</td>\n",
       "      <td>HUVEC-22</td>\n",
       "      <td>3</td>\n",
       "      <td>G20</td>\n",
       "    </tr>\n",
       "    <tr>\n",
       "      <th>17536</th>\n",
       "      <td>RPE-11_4_H02</td>\n",
       "      <td>443</td>\n",
       "      <td>RPE-11</td>\n",
       "      <td>4</td>\n",
       "      <td>H02</td>\n",
       "    </tr>\n",
       "    <tr>\n",
       "      <th>15618</th>\n",
       "      <td>RPE-10_1_H14</td>\n",
       "      <td>541</td>\n",
       "      <td>RPE-10</td>\n",
       "      <td>1</td>\n",
       "      <td>H14</td>\n",
       "    </tr>\n",
       "    <tr>\n",
       "      <th>4761</th>\n",
       "      <td>HUVEC-17_2_D20</td>\n",
       "      <td>887</td>\n",
       "      <td>HUVEC-17</td>\n",
       "      <td>2</td>\n",
       "      <td>D20</td>\n",
       "    </tr>\n",
       "    <tr>\n",
       "      <th>3231</th>\n",
       "      <td>HEPG2-10_4_K14</td>\n",
       "      <td>137</td>\n",
       "      <td>HEPG2-10</td>\n",
       "      <td>4</td>\n",
       "      <td>K14</td>\n",
       "    </tr>\n",
       "  </tbody>\n",
       "</table>\n",
       "</div>"
      ],
      "text/plain": [
       "              id_code  sirna experiment  plate well\n",
       "5611   HUVEC-18_1_E17    939   HUVEC-18      1  E17\n",
       "9330   HUVEC-21_2_K22    147   HUVEC-21      2  K22\n",
       "7611   HUVEC-19_4_I03    798   HUVEC-19      4  I03\n",
       "6183   HUVEC-18_3_F18    887   HUVEC-18      3  F18\n",
       "9779   HUVEC-21_4_F12    229   HUVEC-21      4  F12\n",
       "10637  HUVEC-22_3_G20    679   HUVEC-22      3  G20\n",
       "17536    RPE-11_4_H02    443     RPE-11      4  H02\n",
       "15618    RPE-10_1_H14    541     RPE-10      1  H14\n",
       "4761   HUVEC-17_2_D20    887   HUVEC-17      2  D20\n",
       "3231   HEPG2-10_4_K14    137   HEPG2-10      4  K14"
      ]
     },
     "execution_count": 71,
     "metadata": {},
     "output_type": "execute_result"
    }
   ],
   "source": [
    "subdf_.sample(10)"
   ]
  },
  {
   "cell_type": "code",
   "execution_count": 72,
   "metadata": {},
   "outputs": [],
   "source": [
    "subdf_[\"pname\"]=subdf_.apply(lambda x:x[\"experiment\"]+\"-\"+x[\"plate\"].__str__(), axis=1)\n",
    "\n",
    "subdf_[\"group_\"] = subdf_.sirna.apply(lambda x:groups[x])"
   ]
  },
  {
   "cell_type": "code",
   "execution_count": 76,
   "metadata": {},
   "outputs": [
    {
     "data": {
      "text/html": [
       "<div>\n",
       "<style scoped>\n",
       "    .dataframe tbody tr th:only-of-type {\n",
       "        vertical-align: middle;\n",
       "    }\n",
       "\n",
       "    .dataframe tbody tr th {\n",
       "        vertical-align: top;\n",
       "    }\n",
       "\n",
       "    .dataframe thead th {\n",
       "        text-align: right;\n",
       "    }\n",
       "</style>\n",
       "<table border=\"1\" class=\"dataframe\">\n",
       "  <thead>\n",
       "    <tr style=\"text-align: right;\">\n",
       "      <th></th>\n",
       "      <th>id_code</th>\n",
       "      <th>sirna</th>\n",
       "      <th>experiment</th>\n",
       "      <th>plate</th>\n",
       "      <th>well</th>\n",
       "      <th>pname</th>\n",
       "      <th>group_</th>\n",
       "    </tr>\n",
       "  </thead>\n",
       "  <tbody>\n",
       "    <tr>\n",
       "      <th>11587</th>\n",
       "      <td>HUVEC-23_2_N07</td>\n",
       "      <td>19</td>\n",
       "      <td>HUVEC-23</td>\n",
       "      <td>2</td>\n",
       "      <td>N07</td>\n",
       "      <td>HUVEC-23-2</td>\n",
       "      <td>2.0</td>\n",
       "    </tr>\n",
       "    <tr>\n",
       "      <th>8431</th>\n",
       "      <td>HUVEC-20_3_H10</td>\n",
       "      <td>187</td>\n",
       "      <td>HUVEC-20</td>\n",
       "      <td>3</td>\n",
       "      <td>H10</td>\n",
       "      <td>HUVEC-20-3</td>\n",
       "      <td>0.0</td>\n",
       "    </tr>\n",
       "    <tr>\n",
       "      <th>3482</th>\n",
       "      <td>HEPG2-11_1_J05</td>\n",
       "      <td>316</td>\n",
       "      <td>HEPG2-11</td>\n",
       "      <td>1</td>\n",
       "      <td>J05</td>\n",
       "      <td>HEPG2-11-1</td>\n",
       "      <td>0.0</td>\n",
       "    </tr>\n",
       "    <tr>\n",
       "      <th>7984</th>\n",
       "      <td>HUVEC-20_1_M23</td>\n",
       "      <td>29</td>\n",
       "      <td>HUVEC-20</td>\n",
       "      <td>1</td>\n",
       "      <td>M23</td>\n",
       "      <td>HUVEC-20-1</td>\n",
       "      <td>3.0</td>\n",
       "    </tr>\n",
       "    <tr>\n",
       "      <th>2071</th>\n",
       "      <td>HEPG2-09_4_H21</td>\n",
       "      <td>277</td>\n",
       "      <td>HEPG2-09</td>\n",
       "      <td>4</td>\n",
       "      <td>H21</td>\n",
       "      <td>HEPG2-09-4</td>\n",
       "      <td>1.0</td>\n",
       "    </tr>\n",
       "    <tr>\n",
       "      <th>5521</th>\n",
       "      <td>HUVEC-17_4_O08</td>\n",
       "      <td>1036</td>\n",
       "      <td>HUVEC-17</td>\n",
       "      <td>4</td>\n",
       "      <td>O08</td>\n",
       "      <td>HUVEC-17-4</td>\n",
       "      <td>0.0</td>\n",
       "    </tr>\n",
       "    <tr>\n",
       "      <th>9050</th>\n",
       "      <td>HUVEC-21_1_K19</td>\n",
       "      <td>925</td>\n",
       "      <td>HUVEC-21</td>\n",
       "      <td>1</td>\n",
       "      <td>K19</td>\n",
       "      <td>HUVEC-21-1</td>\n",
       "      <td>0.0</td>\n",
       "    </tr>\n",
       "    <tr>\n",
       "      <th>14457</th>\n",
       "      <td>RPE-09_1_E17</td>\n",
       "      <td>622</td>\n",
       "      <td>RPE-09</td>\n",
       "      <td>1</td>\n",
       "      <td>E17</td>\n",
       "      <td>RPE-09-1</td>\n",
       "      <td>1.0</td>\n",
       "    </tr>\n",
       "    <tr>\n",
       "      <th>9748</th>\n",
       "      <td>HUVEC-21_4_D22</td>\n",
       "      <td>90</td>\n",
       "      <td>HUVEC-21</td>\n",
       "      <td>4</td>\n",
       "      <td>D22</td>\n",
       "      <td>HUVEC-21-4</td>\n",
       "      <td>3.0</td>\n",
       "    </tr>\n",
       "    <tr>\n",
       "      <th>17314</th>\n",
       "      <td>RPE-11_3_J20</td>\n",
       "      <td>674</td>\n",
       "      <td>RPE-11</td>\n",
       "      <td>3</td>\n",
       "      <td>J20</td>\n",
       "      <td>RPE-11-3</td>\n",
       "      <td>3.0</td>\n",
       "    </tr>\n",
       "  </tbody>\n",
       "</table>\n",
       "</div>"
      ],
      "text/plain": [
       "              id_code  sirna experiment  plate well       pname  group_\n",
       "11587  HUVEC-23_2_N07     19   HUVEC-23      2  N07  HUVEC-23-2     2.0\n",
       "8431   HUVEC-20_3_H10    187   HUVEC-20      3  H10  HUVEC-20-3     0.0\n",
       "3482   HEPG2-11_1_J05    316   HEPG2-11      1  J05  HEPG2-11-1     0.0\n",
       "7984   HUVEC-20_1_M23     29   HUVEC-20      1  M23  HUVEC-20-1     3.0\n",
       "2071   HEPG2-09_4_H21    277   HEPG2-09      4  H21  HEPG2-09-4     1.0\n",
       "5521   HUVEC-17_4_O08   1036   HUVEC-17      4  O08  HUVEC-17-4     0.0\n",
       "9050   HUVEC-21_1_K19    925   HUVEC-21      1  K19  HUVEC-21-1     0.0\n",
       "14457    RPE-09_1_E17    622     RPE-09      1  E17    RPE-09-1     1.0\n",
       "9748   HUVEC-21_4_D22     90   HUVEC-21      4  D22  HUVEC-21-4     3.0\n",
       "17314    RPE-11_3_J20    674     RPE-11      3  J20    RPE-11-3     3.0"
      ]
     },
     "execution_count": 76,
     "metadata": {},
     "output_type": "execute_result"
    }
   ],
   "source": [
    "subdf_.sample(10)"
   ]
  },
  {
   "cell_type": "code",
   "execution_count": 101,
   "metadata": {},
   "outputs": [],
   "source": [
    "group_test = subdf_.groupby(\"pname\").apply(lambda x:x.group_.value_counts().reset_index().loc[0]).reset_index()[[\"pname\",\"index\"]]"
   ]
  },
  {
   "cell_type": "code",
   "execution_count": 103,
   "metadata": {},
   "outputs": [],
   "source": [
    "pred_group = dict(zip(group_test.pname, group_test[\"index\"]))"
   ]
  },
  {
   "cell_type": "markdown",
   "metadata": {},
   "source": [
    "### Mask for each group"
   ]
  },
  {
   "cell_type": "code",
   "execution_count": 104,
   "metadata": {},
   "outputs": [],
   "source": [
    "mask = np.zeros((4,1108), np.float32)\n",
    "\n",
    "for i in range(4):\n",
    "    mask[i] = groups==i"
   ]
  },
  {
   "cell_type": "code",
   "execution_count": 105,
   "metadata": {},
   "outputs": [
    {
     "data": {
      "text/plain": [
       "array([[1., 0., 0., 0., ..., 0., 0., 0., 1.],\n",
       "       [0., 1., 0., 1., ..., 1., 0., 1., 0.],\n",
       "       [0., 0., 1., 0., ..., 0., 0., 0., 0.],\n",
       "       [0., 0., 0., 0., ..., 0., 1., 0., 0.]], dtype=float32)"
      ]
     },
     "execution_count": 105,
     "metadata": {},
     "output_type": "execute_result"
    }
   ],
   "source": [
    "mask"
   ]
  },
  {
   "cell_type": "code",
   "execution_count": 143,
   "metadata": {},
   "outputs": [],
   "source": [
    "np.save(\"mask.npy\",mask)"
   ]
  },
  {
   "cell_type": "code",
   "execution_count": 120,
   "metadata": {},
   "outputs": [],
   "source": [
    "test_df[\"group_\"] = test_df.pname.apply(lambda x:int(pred_group[x]))"
   ]
  },
  {
   "cell_type": "markdown",
   "metadata": {},
   "source": [
    "### Mask for each test picture"
   ]
  },
  {
   "cell_type": "code",
   "execution_count": 134,
   "metadata": {},
   "outputs": [],
   "source": [
    "test_df[\"mask\"] = test_df.group_.apply(lambda x:mask[x,:])"
   ]
  },
  {
   "cell_type": "code",
   "execution_count": 139,
   "metadata": {},
   "outputs": [],
   "source": [
    "pred_mask = np.stack(test_df[\"mask\"])"
   ]
  },
  {
   "cell_type": "code",
   "execution_count": 141,
   "metadata": {},
   "outputs": [],
   "source": [
    "np.save(\"pred_mask.npy\",pred_mask)"
   ]
  },
  {
   "cell_type": "code",
   "execution_count": null,
   "metadata": {},
   "outputs": [],
   "source": []
  }
 ],
 "metadata": {
  "kernelspec": {
   "display_name": "Python 3",
   "language": "python",
   "name": "python3"
  },
  "language_info": {
   "codemirror_mode": {
    "name": "ipython",
    "version": 3
   },
   "file_extension": ".py",
   "mimetype": "text/x-python",
   "name": "python",
   "nbconvert_exporter": "python",
   "pygments_lexer": "ipython3",
   "version": "3.6.5"
  }
 },
 "nbformat": 4,
 "nbformat_minor": 2
}
